{
 "cells": [
  {
   "cell_type": "code",
   "execution_count": 1,
   "id": "faf56549",
   "metadata": {
    "_cell_guid": "b1076dfc-b9ad-4769-8c92-a6c4dae69d19",
    "_uuid": "8f2839f25d086af736a60e9eeb907d3b93b6e0e5",
    "execution": {
     "iopub.execute_input": "2023-08-13T13:11:23.818588Z",
     "iopub.status.busy": "2023-08-13T13:11:23.818061Z",
     "iopub.status.idle": "2023-08-13T13:11:23.834622Z",
     "shell.execute_reply": "2023-08-13T13:11:23.833164Z"
    },
    "papermill": {
     "duration": 0.043731,
     "end_time": "2023-08-13T13:11:23.837047",
     "exception": false,
     "start_time": "2023-08-13T13:11:23.793316",
     "status": "completed"
    },
    "tags": []
   },
   "outputs": [
    {
     "name": "stdout",
     "output_type": "stream",
     "text": [
      "/kaggle/input/sentiment-prediction-on-movie-reviews/movies.csv\n",
      "/kaggle/input/sentiment-prediction-on-movie-reviews/sample.csv\n",
      "/kaggle/input/sentiment-prediction-on-movie-reviews/train.csv\n",
      "/kaggle/input/sentiment-prediction-on-movie-reviews/test.csv\n"
     ]
    }
   ],
   "source": [
    "# This Python 3 environment comes with many helpful analytics libraries installed\n",
    "# It is defined by the kaggle/python Docker image: https://github.com/kaggle/docker-python\n",
    "# For example, here's several helpful packages to load\n",
    "\n",
    "import numpy as np # linear algebra\n",
    "import pandas as pd # data processing, CSV file I/O (e.g. pd.read_csv)\n",
    "\n",
    "# Input data files are available in the read-only \"../input/\" directory\n",
    "# For example, running this (by clicking run or pressing Shift+Enter) will list all files under the input directory\n",
    "\n",
    "import os\n",
    "for dirname, _, filenames in os.walk('/kaggle/input'):\n",
    "    for filename in filenames:\n",
    "        print(os.path.join(dirname, filename))\n",
    "\n",
    "# You can write up to 20GB to the current directory (/kaggle/working/) that gets preserved as output when you create a version using \"Save & Run All\" \n",
    "# You can also write temporary files to /kaggle/temp/, but they won't be saved outside of the current session"
   ]
  },
  {
   "cell_type": "code",
   "execution_count": 2,
   "id": "40a5bed6",
   "metadata": {
    "execution": {
     "iopub.execute_input": "2023-08-13T13:11:23.881977Z",
     "iopub.status.busy": "2023-08-13T13:11:23.881620Z",
     "iopub.status.idle": "2023-08-13T13:11:25.710173Z",
     "shell.execute_reply": "2023-08-13T13:11:25.708752Z"
    },
    "papermill": {
     "duration": 1.854054,
     "end_time": "2023-08-13T13:11:25.712921",
     "exception": false,
     "start_time": "2023-08-13T13:11:23.858867",
     "status": "completed"
    },
    "tags": []
   },
   "outputs": [],
   "source": [
    "# importing the necessary libraries for the project\n",
    "import pandas as pd\n",
    "import re\n",
    "import numpy as np\n",
    "import matplotlib.pyplot as plt\n",
    "from sklearn.model_selection import StratifiedShuffleSplit, GridSearchCV, RandomizedSearchCV\n",
    "from sklearn.linear_model import LogisticRegression\n",
    "from sklearn.pipeline import make_pipeline\n",
    "from sklearn.feature_extraction.text import TfidfVectorizer\n",
    "from sklearn.metrics import accuracy_score, classification_report, log_loss,  confusion_matrix\n",
    "from sklearn.decomposition import PCA"
   ]
  },
  {
   "cell_type": "code",
   "execution_count": 3,
   "id": "32b17eee",
   "metadata": {
    "execution": {
     "iopub.execute_input": "2023-08-13T13:11:25.756339Z",
     "iopub.status.busy": "2023-08-13T13:11:25.756003Z",
     "iopub.status.idle": "2023-08-13T13:11:27.592250Z",
     "shell.execute_reply": "2023-08-13T13:11:27.591122Z"
    },
    "papermill": {
     "duration": 1.861524,
     "end_time": "2023-08-13T13:11:27.594781",
     "exception": false,
     "start_time": "2023-08-13T13:11:25.733257",
     "status": "completed"
    },
    "tags": []
   },
   "outputs": [],
   "source": [
    "# Load the datasets\n",
    "movies = pd.read_csv('/kaggle/input/sentiment-prediction-on-movie-reviews/movies.csv')\n",
    "sample = pd.read_csv('/kaggle/input/sentiment-prediction-on-movie-reviews/sample.csv')\n",
    "train = pd.read_csv('/kaggle/input/sentiment-prediction-on-movie-reviews/train.csv')\n",
    "test = pd.read_csv('/kaggle/input/sentiment-prediction-on-movie-reviews/test.csv')"
   ]
  },
  {
   "cell_type": "code",
   "execution_count": 4,
   "id": "26c3c3be",
   "metadata": {
    "execution": {
     "iopub.execute_input": "2023-08-13T13:11:27.640403Z",
     "iopub.status.busy": "2023-08-13T13:11:27.639995Z",
     "iopub.status.idle": "2023-08-13T13:11:27.665783Z",
     "shell.execute_reply": "2023-08-13T13:11:27.664715Z"
    },
    "papermill": {
     "duration": 0.050804,
     "end_time": "2023-08-13T13:11:27.668365",
     "exception": false,
     "start_time": "2023-08-13T13:11:27.617561",
     "status": "completed"
    },
    "tags": []
   },
   "outputs": [],
   "source": [
    "# Make copies of the original datasets\n",
    "movies_copy = movies.copy()\n",
    "sample_copy = sample.copy()\n",
    "test_copy = test.copy()\n",
    "train_copy = train.copy()"
   ]
  },
  {
   "cell_type": "code",
   "execution_count": 5,
   "id": "d4bfd42a",
   "metadata": {
    "execution": {
     "iopub.execute_input": "2023-08-13T13:11:27.715287Z",
     "iopub.status.busy": "2023-08-13T13:11:27.714872Z",
     "iopub.status.idle": "2023-08-13T13:11:27.754735Z",
     "shell.execute_reply": "2023-08-13T13:11:27.753772Z"
    },
    "papermill": {
     "duration": 0.06678,
     "end_time": "2023-08-13T13:11:27.756765",
     "exception": false,
     "start_time": "2023-08-13T13:11:27.689985",
     "status": "completed"
    },
    "tags": []
   },
   "outputs": [
    {
     "data": {
      "text/html": [
       "<div>\n",
       "<style scoped>\n",
       "    .dataframe tbody tr th:only-of-type {\n",
       "        vertical-align: middle;\n",
       "    }\n",
       "\n",
       "    .dataframe tbody tr th {\n",
       "        vertical-align: top;\n",
       "    }\n",
       "\n",
       "    .dataframe thead th {\n",
       "        text-align: right;\n",
       "    }\n",
       "</style>\n",
       "<table border=\"1\" class=\"dataframe\">\n",
       "  <thead>\n",
       "    <tr style=\"text-align: right;\">\n",
       "      <th></th>\n",
       "      <th>movieid</th>\n",
       "      <th>title</th>\n",
       "      <th>audienceScore</th>\n",
       "      <th>rating</th>\n",
       "      <th>ratingContents</th>\n",
       "      <th>releaseDateTheaters</th>\n",
       "      <th>releaseDateStreaming</th>\n",
       "      <th>runtimeMinutes</th>\n",
       "      <th>genre</th>\n",
       "      <th>originalLanguage</th>\n",
       "      <th>director</th>\n",
       "      <th>boxOffice</th>\n",
       "      <th>distributor</th>\n",
       "      <th>soundType</th>\n",
       "    </tr>\n",
       "  </thead>\n",
       "  <tbody>\n",
       "    <tr>\n",
       "      <th>0</th>\n",
       "      <td>han_solo_heroic_myth_wonder_woman</td>\n",
       "      <td>Han Solo Heroic Myth Wonder Woman</td>\n",
       "      <td>50.0</td>\n",
       "      <td>NaN</td>\n",
       "      <td>NaN</td>\n",
       "      <td>NaN</td>\n",
       "      <td>2018-08-25</td>\n",
       "      <td>75.0</td>\n",
       "      <td>Comedy, Horror, Sci-fi</td>\n",
       "      <td>English</td>\n",
       "      <td>Claude Nicolet</td>\n",
       "      <td>NaN</td>\n",
       "      <td>NaN</td>\n",
       "      <td>NaN</td>\n",
       "    </tr>\n",
       "    <tr>\n",
       "      <th>1</th>\n",
       "      <td>voyage_tyler_durden_han_solo_stardust</td>\n",
       "      <td>Voyage Tyler Durden Han Solo Stardust</td>\n",
       "      <td>NaN</td>\n",
       "      <td>NaN</td>\n",
       "      <td>NaN</td>\n",
       "      <td>NaN</td>\n",
       "      <td>2020-02-11</td>\n",
       "      <td>114.0</td>\n",
       "      <td>Drama</td>\n",
       "      <td>English</td>\n",
       "      <td>Nathan Haack</td>\n",
       "      <td>NaN</td>\n",
       "      <td>NaN</td>\n",
       "      <td>NaN</td>\n",
       "    </tr>\n",
       "    <tr>\n",
       "      <th>2</th>\n",
       "      <td>norman_bates_ferris_bueller_hermione_granger_v...</td>\n",
       "      <td>Norman Bates Ferris Bueller Hermione Granger V...</td>\n",
       "      <td>43.0</td>\n",
       "      <td>NaN</td>\n",
       "      <td>NaN</td>\n",
       "      <td>NaN</td>\n",
       "      <td>NaN</td>\n",
       "      <td>120.0</td>\n",
       "      <td>Drama</td>\n",
       "      <td>Korean</td>\n",
       "      <td>Theresa Smith</td>\n",
       "      <td>NaN</td>\n",
       "      <td>NaN</td>\n",
       "      <td>NaN</td>\n",
       "    </tr>\n",
       "    <tr>\n",
       "      <th>3</th>\n",
       "      <td>elegant_hermione_granger</td>\n",
       "      <td>Elegant Hermione Granger</td>\n",
       "      <td>60.0</td>\n",
       "      <td>NaN</td>\n",
       "      <td>NaN</td>\n",
       "      <td>NaN</td>\n",
       "      <td>2020-10-23</td>\n",
       "      <td>90.0</td>\n",
       "      <td>Action, Mystery &amp; thriller</td>\n",
       "      <td>English</td>\n",
       "      <td>Donald Lewis</td>\n",
       "      <td>NaN</td>\n",
       "      <td>NaN</td>\n",
       "      <td>NaN</td>\n",
       "    </tr>\n",
       "    <tr>\n",
       "      <th>4</th>\n",
       "      <td>adventure_rocky_balboa</td>\n",
       "      <td>Adventure Rocky Balboa</td>\n",
       "      <td>70.0</td>\n",
       "      <td>NaN</td>\n",
       "      <td>NaN</td>\n",
       "      <td>NaN</td>\n",
       "      <td>2017-03-27</td>\n",
       "      <td>80.0</td>\n",
       "      <td>Fantasy, Adventure, Animation</td>\n",
       "      <td>English</td>\n",
       "      <td>Howard Simms</td>\n",
       "      <td>NaN</td>\n",
       "      <td>NaN</td>\n",
       "      <td>NaN</td>\n",
       "    </tr>\n",
       "  </tbody>\n",
       "</table>\n",
       "</div>"
      ],
      "text/plain": [
       "                                             movieid  \\\n",
       "0                  han_solo_heroic_myth_wonder_woman   \n",
       "1              voyage_tyler_durden_han_solo_stardust   \n",
       "2  norman_bates_ferris_bueller_hermione_granger_v...   \n",
       "3                           elegant_hermione_granger   \n",
       "4                             adventure_rocky_balboa   \n",
       "\n",
       "                                               title  audienceScore rating  \\\n",
       "0                  Han Solo Heroic Myth Wonder Woman           50.0    NaN   \n",
       "1              Voyage Tyler Durden Han Solo Stardust            NaN    NaN   \n",
       "2  Norman Bates Ferris Bueller Hermione Granger V...           43.0    NaN   \n",
       "3                           Elegant Hermione Granger           60.0    NaN   \n",
       "4                             Adventure Rocky Balboa           70.0    NaN   \n",
       "\n",
       "  ratingContents releaseDateTheaters releaseDateStreaming  runtimeMinutes  \\\n",
       "0            NaN                 NaN           2018-08-25            75.0   \n",
       "1            NaN                 NaN           2020-02-11           114.0   \n",
       "2            NaN                 NaN                  NaN           120.0   \n",
       "3            NaN                 NaN           2020-10-23            90.0   \n",
       "4            NaN                 NaN           2017-03-27            80.0   \n",
       "\n",
       "                           genre originalLanguage        director boxOffice  \\\n",
       "0         Comedy, Horror, Sci-fi          English  Claude Nicolet       NaN   \n",
       "1                          Drama          English    Nathan Haack       NaN   \n",
       "2                          Drama           Korean   Theresa Smith       NaN   \n",
       "3     Action, Mystery & thriller          English    Donald Lewis       NaN   \n",
       "4  Fantasy, Adventure, Animation          English    Howard Simms       NaN   \n",
       "\n",
       "  distributor soundType  \n",
       "0         NaN       NaN  \n",
       "1         NaN       NaN  \n",
       "2         NaN       NaN  \n",
       "3         NaN       NaN  \n",
       "4         NaN       NaN  "
      ]
     },
     "execution_count": 5,
     "metadata": {},
     "output_type": "execute_result"
    }
   ],
   "source": [
    "movies_copy.head()"
   ]
  },
  {
   "cell_type": "code",
   "execution_count": 6,
   "id": "675166a6",
   "metadata": {
    "execution": {
     "iopub.execute_input": "2023-08-13T13:11:27.803174Z",
     "iopub.status.busy": "2023-08-13T13:11:27.802760Z",
     "iopub.status.idle": "2023-08-13T13:11:28.078124Z",
     "shell.execute_reply": "2023-08-13T13:11:28.076328Z"
    },
    "papermill": {
     "duration": 0.301457,
     "end_time": "2023-08-13T13:11:28.080519",
     "exception": false,
     "start_time": "2023-08-13T13:11:27.779062",
     "status": "completed"
    },
    "tags": []
   },
   "outputs": [
    {
     "name": "stdout",
     "output_type": "stream",
     "text": [
      "<class 'pandas.core.frame.DataFrame'>\n",
      "RangeIndex: 143258 entries, 0 to 143257\n",
      "Data columns (total 14 columns):\n",
      " #   Column                Non-Null Count   Dtype  \n",
      "---  ------                --------------   -----  \n",
      " 0   movieid               143258 non-null  object \n",
      " 1   title                 143258 non-null  object \n",
      " 2   audienceScore         73248 non-null   float64\n",
      " 3   rating                13991 non-null   object \n",
      " 4   ratingContents        13991 non-null   object \n",
      " 5   releaseDateTheaters   30773 non-null   object \n",
      " 6   releaseDateStreaming  79420 non-null   object \n",
      " 7   runtimeMinutes        129431 non-null  float64\n",
      " 8   genre                 132175 non-null  object \n",
      " 9   originalLanguage      129400 non-null  object \n",
      " 10  director              143258 non-null  object \n",
      " 11  boxOffice             14743 non-null   object \n",
      " 12  distributor           23005 non-null   object \n",
      " 13  soundType             15917 non-null   object \n",
      "dtypes: float64(2), object(12)\n",
      "memory usage: 15.3+ MB\n"
     ]
    }
   ],
   "source": [
    "movies_copy.info()"
   ]
  },
  {
   "cell_type": "code",
   "execution_count": 7,
   "id": "ea367066",
   "metadata": {
    "execution": {
     "iopub.execute_input": "2023-08-13T13:11:28.124587Z",
     "iopub.status.busy": "2023-08-13T13:11:28.124207Z",
     "iopub.status.idle": "2023-08-13T13:11:28.160812Z",
     "shell.execute_reply": "2023-08-13T13:11:28.159411Z"
    },
    "papermill": {
     "duration": 0.060434,
     "end_time": "2023-08-13T13:11:28.162846",
     "exception": false,
     "start_time": "2023-08-13T13:11:28.102412",
     "status": "completed"
    },
    "tags": []
   },
   "outputs": [
    {
     "data": {
      "text/html": [
       "<div>\n",
       "<style scoped>\n",
       "    .dataframe tbody tr th:only-of-type {\n",
       "        vertical-align: middle;\n",
       "    }\n",
       "\n",
       "    .dataframe tbody tr th {\n",
       "        vertical-align: top;\n",
       "    }\n",
       "\n",
       "    .dataframe thead th {\n",
       "        text-align: right;\n",
       "    }\n",
       "</style>\n",
       "<table border=\"1\" class=\"dataframe\">\n",
       "  <thead>\n",
       "    <tr style=\"text-align: right;\">\n",
       "      <th></th>\n",
       "      <th>audienceScore</th>\n",
       "      <th>runtimeMinutes</th>\n",
       "    </tr>\n",
       "  </thead>\n",
       "  <tbody>\n",
       "    <tr>\n",
       "      <th>count</th>\n",
       "      <td>73248.000000</td>\n",
       "      <td>129431.000000</td>\n",
       "    </tr>\n",
       "    <tr>\n",
       "      <th>mean</th>\n",
       "      <td>55.674967</td>\n",
       "      <td>93.708578</td>\n",
       "    </tr>\n",
       "    <tr>\n",
       "      <th>std</th>\n",
       "      <td>24.553648</td>\n",
       "      <td>28.129175</td>\n",
       "    </tr>\n",
       "    <tr>\n",
       "      <th>min</th>\n",
       "      <td>0.000000</td>\n",
       "      <td>1.000000</td>\n",
       "    </tr>\n",
       "    <tr>\n",
       "      <th>25%</th>\n",
       "      <td>37.000000</td>\n",
       "      <td>84.000000</td>\n",
       "    </tr>\n",
       "    <tr>\n",
       "      <th>50%</th>\n",
       "      <td>57.000000</td>\n",
       "      <td>92.000000</td>\n",
       "    </tr>\n",
       "    <tr>\n",
       "      <th>75%</th>\n",
       "      <td>76.000000</td>\n",
       "      <td>103.000000</td>\n",
       "    </tr>\n",
       "    <tr>\n",
       "      <th>max</th>\n",
       "      <td>100.000000</td>\n",
       "      <td>2700.000000</td>\n",
       "    </tr>\n",
       "  </tbody>\n",
       "</table>\n",
       "</div>"
      ],
      "text/plain": [
       "       audienceScore  runtimeMinutes\n",
       "count   73248.000000   129431.000000\n",
       "mean       55.674967       93.708578\n",
       "std        24.553648       28.129175\n",
       "min         0.000000        1.000000\n",
       "25%        37.000000       84.000000\n",
       "50%        57.000000       92.000000\n",
       "75%        76.000000      103.000000\n",
       "max       100.000000     2700.000000"
      ]
     },
     "execution_count": 7,
     "metadata": {},
     "output_type": "execute_result"
    }
   ],
   "source": [
    "movies_copy.describe()"
   ]
  },
  {
   "cell_type": "code",
   "execution_count": 8,
   "id": "b5cd0579",
   "metadata": {
    "execution": {
     "iopub.execute_input": "2023-08-13T13:11:28.204873Z",
     "iopub.status.busy": "2023-08-13T13:11:28.204433Z",
     "iopub.status.idle": "2023-08-13T13:11:28.211723Z",
     "shell.execute_reply": "2023-08-13T13:11:28.210160Z"
    },
    "papermill": {
     "duration": 0.03055,
     "end_time": "2023-08-13T13:11:28.213763",
     "exception": false,
     "start_time": "2023-08-13T13:11:28.183213",
     "status": "completed"
    },
    "tags": []
   },
   "outputs": [
    {
     "data": {
      "text/plain": [
       "(143258, 14)"
      ]
     },
     "execution_count": 8,
     "metadata": {},
     "output_type": "execute_result"
    }
   ],
   "source": [
    "movies_copy.shape"
   ]
  },
  {
   "cell_type": "code",
   "execution_count": 9,
   "id": "11561521",
   "metadata": {
    "execution": {
     "iopub.execute_input": "2023-08-13T13:11:28.257900Z",
     "iopub.status.busy": "2023-08-13T13:11:28.257473Z",
     "iopub.status.idle": "2023-08-13T13:11:28.492784Z",
     "shell.execute_reply": "2023-08-13T13:11:28.491230Z"
    },
    "papermill": {
     "duration": 0.261188,
     "end_time": "2023-08-13T13:11:28.495206",
     "exception": false,
     "start_time": "2023-08-13T13:11:28.234018",
     "status": "completed"
    },
    "tags": []
   },
   "outputs": [
    {
     "data": {
      "text/plain": [
       "movieid                      0\n",
       "title                        0\n",
       "audienceScore            70010\n",
       "rating                  129267\n",
       "ratingContents          129267\n",
       "releaseDateTheaters     112485\n",
       "releaseDateStreaming     63838\n",
       "runtimeMinutes           13827\n",
       "genre                    11083\n",
       "originalLanguage         13858\n",
       "director                     0\n",
       "boxOffice               128515\n",
       "distributor             120253\n",
       "soundType               127341\n",
       "dtype: int64"
      ]
     },
     "execution_count": 9,
     "metadata": {},
     "output_type": "execute_result"
    }
   ],
   "source": [
    "movies_copy.isnull().sum()"
   ]
  },
  {
   "cell_type": "code",
   "execution_count": 10,
   "id": "cbd041ac",
   "metadata": {
    "execution": {
     "iopub.execute_input": "2023-08-13T13:11:28.538156Z",
     "iopub.status.busy": "2023-08-13T13:11:28.537838Z",
     "iopub.status.idle": "2023-08-13T13:11:28.549175Z",
     "shell.execute_reply": "2023-08-13T13:11:28.547933Z"
    },
    "papermill": {
     "duration": 0.035151,
     "end_time": "2023-08-13T13:11:28.551082",
     "exception": false,
     "start_time": "2023-08-13T13:11:28.515931",
     "status": "completed"
    },
    "tags": []
   },
   "outputs": [
    {
     "data": {
      "text/html": [
       "<div>\n",
       "<style scoped>\n",
       "    .dataframe tbody tr th:only-of-type {\n",
       "        vertical-align: middle;\n",
       "    }\n",
       "\n",
       "    .dataframe tbody tr th {\n",
       "        vertical-align: top;\n",
       "    }\n",
       "\n",
       "    .dataframe thead th {\n",
       "        text-align: right;\n",
       "    }\n",
       "</style>\n",
       "<table border=\"1\" class=\"dataframe\">\n",
       "  <thead>\n",
       "    <tr style=\"text-align: right;\">\n",
       "      <th></th>\n",
       "      <th>movieid</th>\n",
       "      <th>reviewerName</th>\n",
       "      <th>isFrequentReviewer</th>\n",
       "      <th>reviewText</th>\n",
       "      <th>sentiment</th>\n",
       "    </tr>\n",
       "  </thead>\n",
       "  <tbody>\n",
       "    <tr>\n",
       "      <th>0</th>\n",
       "      <td>marvelous_pirate</td>\n",
       "      <td>Benjamin Henry</td>\n",
       "      <td>False</td>\n",
       "      <td>Henry Selick’s first movie since 2009’s Corali...</td>\n",
       "      <td>POSITIVE</td>\n",
       "    </tr>\n",
       "    <tr>\n",
       "      <th>1</th>\n",
       "      <td>tony_montana_frodo_baggins_v_rocky_balboa</td>\n",
       "      <td>Felicia Lopez</td>\n",
       "      <td>False</td>\n",
       "      <td>With a cast that reads like the Vogue Oscar pa...</td>\n",
       "      <td>NEGATIVE</td>\n",
       "    </tr>\n",
       "    <tr>\n",
       "      <th>2</th>\n",
       "      <td>darth_vader_katniss_everdeen_sorcerer_donnie_d...</td>\n",
       "      <td>Mr. Charles Burgess</td>\n",
       "      <td>True</td>\n",
       "      <td>Creed II does not give us anything but another...</td>\n",
       "      <td>POSITIVE</td>\n",
       "    </tr>\n",
       "    <tr>\n",
       "      <th>3</th>\n",
       "      <td>lara_croft_glimmer</td>\n",
       "      <td>Ryan Barrett</td>\n",
       "      <td>False</td>\n",
       "      <td>I know what you're thinking, but this is no Li...</td>\n",
       "      <td>POSITIVE</td>\n",
       "    </tr>\n",
       "    <tr>\n",
       "      <th>4</th>\n",
       "      <td>jason_bourne_surreal_the_terminator_indiana_jones</td>\n",
       "      <td>Alexander Glover</td>\n",
       "      <td>False</td>\n",
       "      <td>Director Fernando Meirelles tells the story wi...</td>\n",
       "      <td>POSITIVE</td>\n",
       "    </tr>\n",
       "  </tbody>\n",
       "</table>\n",
       "</div>"
      ],
      "text/plain": [
       "                                             movieid         reviewerName  \\\n",
       "0                                   marvelous_pirate       Benjamin Henry   \n",
       "1          tony_montana_frodo_baggins_v_rocky_balboa        Felicia Lopez   \n",
       "2  darth_vader_katniss_everdeen_sorcerer_donnie_d...  Mr. Charles Burgess   \n",
       "3                                 lara_croft_glimmer         Ryan Barrett   \n",
       "4  jason_bourne_surreal_the_terminator_indiana_jones     Alexander Glover   \n",
       "\n",
       "   isFrequentReviewer                                         reviewText  \\\n",
       "0               False  Henry Selick’s first movie since 2009’s Corali...   \n",
       "1               False  With a cast that reads like the Vogue Oscar pa...   \n",
       "2                True  Creed II does not give us anything but another...   \n",
       "3               False  I know what you're thinking, but this is no Li...   \n",
       "4               False  Director Fernando Meirelles tells the story wi...   \n",
       "\n",
       "  sentiment  \n",
       "0  POSITIVE  \n",
       "1  NEGATIVE  \n",
       "2  POSITIVE  \n",
       "3  POSITIVE  \n",
       "4  POSITIVE  "
      ]
     },
     "execution_count": 10,
     "metadata": {},
     "output_type": "execute_result"
    }
   ],
   "source": [
    "train_copy.head()"
   ]
  },
  {
   "cell_type": "code",
   "execution_count": 11,
   "id": "c1f3ddc3",
   "metadata": {
    "execution": {
     "iopub.execute_input": "2023-08-13T13:11:28.596007Z",
     "iopub.status.busy": "2023-08-13T13:11:28.595587Z",
     "iopub.status.idle": "2023-08-13T13:11:28.707139Z",
     "shell.execute_reply": "2023-08-13T13:11:28.705395Z"
    },
    "papermill": {
     "duration": 0.136558,
     "end_time": "2023-08-13T13:11:28.709094",
     "exception": false,
     "start_time": "2023-08-13T13:11:28.572536",
     "status": "completed"
    },
    "tags": []
   },
   "outputs": [
    {
     "name": "stdout",
     "output_type": "stream",
     "text": [
      "<class 'pandas.core.frame.DataFrame'>\n",
      "RangeIndex: 162758 entries, 0 to 162757\n",
      "Data columns (total 5 columns):\n",
      " #   Column              Non-Null Count   Dtype \n",
      "---  ------              --------------   ----- \n",
      " 0   movieid             162758 non-null  object\n",
      " 1   reviewerName        162758 non-null  object\n",
      " 2   isFrequentReviewer  162758 non-null  bool  \n",
      " 3   reviewText          156311 non-null  object\n",
      " 4   sentiment           162758 non-null  object\n",
      "dtypes: bool(1), object(4)\n",
      "memory usage: 5.1+ MB\n"
     ]
    }
   ],
   "source": [
    "train_copy.info()"
   ]
  },
  {
   "cell_type": "code",
   "execution_count": 12,
   "id": "1e07205b",
   "metadata": {
    "execution": {
     "iopub.execute_input": "2023-08-13T13:11:28.753769Z",
     "iopub.status.busy": "2023-08-13T13:11:28.753344Z",
     "iopub.status.idle": "2023-08-13T13:11:28.970038Z",
     "shell.execute_reply": "2023-08-13T13:11:28.968651Z"
    },
    "papermill": {
     "duration": 0.241503,
     "end_time": "2023-08-13T13:11:28.972608",
     "exception": false,
     "start_time": "2023-08-13T13:11:28.731105",
     "status": "completed"
    },
    "tags": []
   },
   "outputs": [
    {
     "data": {
      "text/html": [
       "<div>\n",
       "<style scoped>\n",
       "    .dataframe tbody tr th:only-of-type {\n",
       "        vertical-align: middle;\n",
       "    }\n",
       "\n",
       "    .dataframe tbody tr th {\n",
       "        vertical-align: top;\n",
       "    }\n",
       "\n",
       "    .dataframe thead th {\n",
       "        text-align: right;\n",
       "    }\n",
       "</style>\n",
       "<table border=\"1\" class=\"dataframe\">\n",
       "  <thead>\n",
       "    <tr style=\"text-align: right;\">\n",
       "      <th></th>\n",
       "      <th>movieid</th>\n",
       "      <th>reviewerName</th>\n",
       "      <th>isFrequentReviewer</th>\n",
       "      <th>reviewText</th>\n",
       "      <th>sentiment</th>\n",
       "    </tr>\n",
       "  </thead>\n",
       "  <tbody>\n",
       "    <tr>\n",
       "      <th>count</th>\n",
       "      <td>162758</td>\n",
       "      <td>162758</td>\n",
       "      <td>162758</td>\n",
       "      <td>156311</td>\n",
       "      <td>162758</td>\n",
       "    </tr>\n",
       "    <tr>\n",
       "      <th>unique</th>\n",
       "      <td>16812</td>\n",
       "      <td>4482</td>\n",
       "      <td>2</td>\n",
       "      <td>155071</td>\n",
       "      <td>2</td>\n",
       "    </tr>\n",
       "    <tr>\n",
       "      <th>top</th>\n",
       "      <td>escape_the_terminator_tyler_durden_astonish</td>\n",
       "      <td>Sherri Morrison</td>\n",
       "      <td>False</td>\n",
       "      <td>Parental Content Review</td>\n",
       "      <td>POSITIVE</td>\n",
       "    </tr>\n",
       "    <tr>\n",
       "      <th>freq</th>\n",
       "      <td>708</td>\n",
       "      <td>962</td>\n",
       "      <td>113189</td>\n",
       "      <td>29</td>\n",
       "      <td>108761</td>\n",
       "    </tr>\n",
       "  </tbody>\n",
       "</table>\n",
       "</div>"
      ],
      "text/plain": [
       "                                            movieid     reviewerName  \\\n",
       "count                                        162758           162758   \n",
       "unique                                        16812             4482   \n",
       "top     escape_the_terminator_tyler_durden_astonish  Sherri Morrison   \n",
       "freq                                            708              962   \n",
       "\n",
       "       isFrequentReviewer               reviewText sentiment  \n",
       "count              162758                   156311    162758  \n",
       "unique                  2                   155071         2  \n",
       "top                 False  Parental Content Review  POSITIVE  \n",
       "freq               113189                       29    108761  "
      ]
     },
     "execution_count": 12,
     "metadata": {},
     "output_type": "execute_result"
    }
   ],
   "source": [
    "train_copy.describe()"
   ]
  },
  {
   "cell_type": "code",
   "execution_count": 13,
   "id": "6a1db909",
   "metadata": {
    "execution": {
     "iopub.execute_input": "2023-08-13T13:11:29.018668Z",
     "iopub.status.busy": "2023-08-13T13:11:29.017485Z",
     "iopub.status.idle": "2023-08-13T13:11:29.025367Z",
     "shell.execute_reply": "2023-08-13T13:11:29.024149Z"
    },
    "papermill": {
     "duration": 0.032333,
     "end_time": "2023-08-13T13:11:29.027193",
     "exception": false,
     "start_time": "2023-08-13T13:11:28.994860",
     "status": "completed"
    },
    "tags": []
   },
   "outputs": [
    {
     "data": {
      "text/plain": [
       "(162758, 5)"
      ]
     },
     "execution_count": 13,
     "metadata": {},
     "output_type": "execute_result"
    }
   ],
   "source": [
    "train_copy.shape"
   ]
  },
  {
   "cell_type": "code",
   "execution_count": 14,
   "id": "9cd97c81",
   "metadata": {
    "execution": {
     "iopub.execute_input": "2023-08-13T13:11:29.075158Z",
     "iopub.status.busy": "2023-08-13T13:11:29.073543Z",
     "iopub.status.idle": "2023-08-13T13:11:29.181971Z",
     "shell.execute_reply": "2023-08-13T13:11:29.180430Z"
    },
    "papermill": {
     "duration": 0.134998,
     "end_time": "2023-08-13T13:11:29.184663",
     "exception": false,
     "start_time": "2023-08-13T13:11:29.049665",
     "status": "completed"
    },
    "tags": []
   },
   "outputs": [
    {
     "data": {
      "text/plain": [
       "movieid                  0\n",
       "reviewerName             0\n",
       "isFrequentReviewer       0\n",
       "reviewText            6447\n",
       "sentiment                0\n",
       "dtype: int64"
      ]
     },
     "execution_count": 14,
     "metadata": {},
     "output_type": "execute_result"
    }
   ],
   "source": [
    "train_copy.isnull().sum()"
   ]
  },
  {
   "cell_type": "code",
   "execution_count": 15,
   "id": "f411a99a",
   "metadata": {
    "execution": {
     "iopub.execute_input": "2023-08-13T13:11:29.231614Z",
     "iopub.status.busy": "2023-08-13T13:11:29.231268Z",
     "iopub.status.idle": "2023-08-13T13:11:29.241937Z",
     "shell.execute_reply": "2023-08-13T13:11:29.240833Z"
    },
    "papermill": {
     "duration": 0.037729,
     "end_time": "2023-08-13T13:11:29.244650",
     "exception": false,
     "start_time": "2023-08-13T13:11:29.206921",
     "status": "completed"
    },
    "tags": []
   },
   "outputs": [
    {
     "data": {
      "text/html": [
       "<div>\n",
       "<style scoped>\n",
       "    .dataframe tbody tr th:only-of-type {\n",
       "        vertical-align: middle;\n",
       "    }\n",
       "\n",
       "    .dataframe tbody tr th {\n",
       "        vertical-align: top;\n",
       "    }\n",
       "\n",
       "    .dataframe thead th {\n",
       "        text-align: right;\n",
       "    }\n",
       "</style>\n",
       "<table border=\"1\" class=\"dataframe\">\n",
       "  <thead>\n",
       "    <tr style=\"text-align: right;\">\n",
       "      <th></th>\n",
       "      <th>movieid</th>\n",
       "      <th>reviewerName</th>\n",
       "      <th>isTopCritic</th>\n",
       "      <th>reviewText</th>\n",
       "    </tr>\n",
       "  </thead>\n",
       "  <tbody>\n",
       "    <tr>\n",
       "      <th>0</th>\n",
       "      <td>legend_marty_mcfly_oracle</td>\n",
       "      <td>John Kim</td>\n",
       "      <td>False</td>\n",
       "      <td>Green slowly cranks up the dread with style an...</td>\n",
       "    </tr>\n",
       "    <tr>\n",
       "      <th>1</th>\n",
       "      <td>terminator_katniss_everdeen_glimmer</td>\n",
       "      <td>Brian Chaney</td>\n",
       "      <td>False</td>\n",
       "      <td>Philip Noyce's direction is elegant and unforc...</td>\n",
       "    </tr>\n",
       "    <tr>\n",
       "      <th>2</th>\n",
       "      <td>james_bond_labyrinth_gollum</td>\n",
       "      <td>Danielle Parker</td>\n",
       "      <td>False</td>\n",
       "      <td>It wouldn't do to say what path Maria ultimate...</td>\n",
       "    </tr>\n",
       "    <tr>\n",
       "      <th>3</th>\n",
       "      <td>v_quest_han_solo_wondrous</td>\n",
       "      <td>Brittany Lane</td>\n",
       "      <td>False</td>\n",
       "      <td>Pig is not exactly the arthouse John Wick that...</td>\n",
       "    </tr>\n",
       "    <tr>\n",
       "      <th>4</th>\n",
       "      <td>enigma_hulk_surreal_starlight</td>\n",
       "      <td>Justin Willis</td>\n",
       "      <td>False</td>\n",
       "      <td>An imaginative no-budget musical of sorts abou...</td>\n",
       "    </tr>\n",
       "  </tbody>\n",
       "</table>\n",
       "</div>"
      ],
      "text/plain": [
       "                               movieid     reviewerName  isTopCritic  \\\n",
       "0            legend_marty_mcfly_oracle         John Kim        False   \n",
       "1  terminator_katniss_everdeen_glimmer     Brian Chaney        False   \n",
       "2          james_bond_labyrinth_gollum  Danielle Parker        False   \n",
       "3            v_quest_han_solo_wondrous    Brittany Lane        False   \n",
       "4        enigma_hulk_surreal_starlight    Justin Willis        False   \n",
       "\n",
       "                                          reviewText  \n",
       "0  Green slowly cranks up the dread with style an...  \n",
       "1  Philip Noyce's direction is elegant and unforc...  \n",
       "2  It wouldn't do to say what path Maria ultimate...  \n",
       "3  Pig is not exactly the arthouse John Wick that...  \n",
       "4  An imaginative no-budget musical of sorts abou...  "
      ]
     },
     "execution_count": 15,
     "metadata": {},
     "output_type": "execute_result"
    }
   ],
   "source": [
    "test_copy.head()"
   ]
  },
  {
   "cell_type": "code",
   "execution_count": 16,
   "id": "da773862",
   "metadata": {
    "execution": {
     "iopub.execute_input": "2023-08-13T13:11:29.291105Z",
     "iopub.status.busy": "2023-08-13T13:11:29.290703Z",
     "iopub.status.idle": "2023-08-13T13:11:29.330838Z",
     "shell.execute_reply": "2023-08-13T13:11:29.328681Z"
    },
    "papermill": {
     "duration": 0.065849,
     "end_time": "2023-08-13T13:11:29.333292",
     "exception": false,
     "start_time": "2023-08-13T13:11:29.267443",
     "status": "completed"
    },
    "tags": []
   },
   "outputs": [
    {
     "name": "stdout",
     "output_type": "stream",
     "text": [
      "<class 'pandas.core.frame.DataFrame'>\n",
      "RangeIndex: 55315 entries, 0 to 55314\n",
      "Data columns (total 4 columns):\n",
      " #   Column        Non-Null Count  Dtype \n",
      "---  ------        --------------  ----- \n",
      " 0   movieid       55315 non-null  object\n",
      " 1   reviewerName  55315 non-null  object\n",
      " 2   isTopCritic   55315 non-null  bool  \n",
      " 3   reviewText    52805 non-null  object\n",
      "dtypes: bool(1), object(3)\n",
      "memory usage: 1.3+ MB\n"
     ]
    }
   ],
   "source": [
    "test_copy.info()"
   ]
  },
  {
   "cell_type": "code",
   "execution_count": 17,
   "id": "af892dbb",
   "metadata": {
    "execution": {
     "iopub.execute_input": "2023-08-13T13:11:29.379778Z",
     "iopub.status.busy": "2023-08-13T13:11:29.379136Z",
     "iopub.status.idle": "2023-08-13T13:11:29.459666Z",
     "shell.execute_reply": "2023-08-13T13:11:29.458685Z"
    },
    "papermill": {
     "duration": 0.106865,
     "end_time": "2023-08-13T13:11:29.462399",
     "exception": false,
     "start_time": "2023-08-13T13:11:29.355534",
     "status": "completed"
    },
    "tags": []
   },
   "outputs": [
    {
     "data": {
      "text/html": [
       "<div>\n",
       "<style scoped>\n",
       "    .dataframe tbody tr th:only-of-type {\n",
       "        vertical-align: middle;\n",
       "    }\n",
       "\n",
       "    .dataframe tbody tr th {\n",
       "        vertical-align: top;\n",
       "    }\n",
       "\n",
       "    .dataframe thead th {\n",
       "        text-align: right;\n",
       "    }\n",
       "</style>\n",
       "<table border=\"1\" class=\"dataframe\">\n",
       "  <thead>\n",
       "    <tr style=\"text-align: right;\">\n",
       "      <th></th>\n",
       "      <th>movieid</th>\n",
       "      <th>reviewerName</th>\n",
       "      <th>isTopCritic</th>\n",
       "      <th>reviewText</th>\n",
       "    </tr>\n",
       "  </thead>\n",
       "  <tbody>\n",
       "    <tr>\n",
       "      <th>count</th>\n",
       "      <td>55315</td>\n",
       "      <td>55315</td>\n",
       "      <td>55315</td>\n",
       "      <td>52805</td>\n",
       "    </tr>\n",
       "    <tr>\n",
       "      <th>unique</th>\n",
       "      <td>16786</td>\n",
       "      <td>4495</td>\n",
       "      <td>2</td>\n",
       "      <td>52686</td>\n",
       "    </tr>\n",
       "    <tr>\n",
       "      <th>top</th>\n",
       "      <td>escape_the_terminator_tyler_durden_astonish</td>\n",
       "      <td>Sherri Morrison</td>\n",
       "      <td>False</td>\n",
       "      <td>Parental Content Review</td>\n",
       "    </tr>\n",
       "    <tr>\n",
       "      <th>freq</th>\n",
       "      <td>230</td>\n",
       "      <td>428</td>\n",
       "      <td>38428</td>\n",
       "      <td>12</td>\n",
       "    </tr>\n",
       "  </tbody>\n",
       "</table>\n",
       "</div>"
      ],
      "text/plain": [
       "                                            movieid     reviewerName  \\\n",
       "count                                         55315            55315   \n",
       "unique                                        16786             4495   \n",
       "top     escape_the_terminator_tyler_durden_astonish  Sherri Morrison   \n",
       "freq                                            230              428   \n",
       "\n",
       "       isTopCritic               reviewText  \n",
       "count        55315                    52805  \n",
       "unique           2                    52686  \n",
       "top          False  Parental Content Review  \n",
       "freq         38428                       12  "
      ]
     },
     "execution_count": 17,
     "metadata": {},
     "output_type": "execute_result"
    }
   ],
   "source": [
    "test_copy.describe()"
   ]
  },
  {
   "cell_type": "code",
   "execution_count": 18,
   "id": "02f01720",
   "metadata": {
    "execution": {
     "iopub.execute_input": "2023-08-13T13:11:29.510678Z",
     "iopub.status.busy": "2023-08-13T13:11:29.510253Z",
     "iopub.status.idle": "2023-08-13T13:11:29.516860Z",
     "shell.execute_reply": "2023-08-13T13:11:29.515419Z"
    },
    "papermill": {
     "duration": 0.032728,
     "end_time": "2023-08-13T13:11:29.519091",
     "exception": false,
     "start_time": "2023-08-13T13:11:29.486363",
     "status": "completed"
    },
    "tags": []
   },
   "outputs": [
    {
     "data": {
      "text/plain": [
       "(55315, 4)"
      ]
     },
     "execution_count": 18,
     "metadata": {},
     "output_type": "execute_result"
    }
   ],
   "source": [
    "test_copy.shape"
   ]
  },
  {
   "cell_type": "code",
   "execution_count": 19,
   "id": "89eb9995",
   "metadata": {
    "execution": {
     "iopub.execute_input": "2023-08-13T13:11:29.565563Z",
     "iopub.status.busy": "2023-08-13T13:11:29.564961Z",
     "iopub.status.idle": "2023-08-13T13:11:29.599421Z",
     "shell.execute_reply": "2023-08-13T13:11:29.597967Z"
    },
    "papermill": {
     "duration": 0.060148,
     "end_time": "2023-08-13T13:11:29.602005",
     "exception": false,
     "start_time": "2023-08-13T13:11:29.541857",
     "status": "completed"
    },
    "tags": []
   },
   "outputs": [
    {
     "data": {
      "text/plain": [
       "movieid            0\n",
       "reviewerName       0\n",
       "isTopCritic        0\n",
       "reviewText      2510\n",
       "dtype: int64"
      ]
     },
     "execution_count": 19,
     "metadata": {},
     "output_type": "execute_result"
    }
   ],
   "source": [
    "test_copy.isnull().sum()"
   ]
  },
  {
   "cell_type": "code",
   "execution_count": 20,
   "id": "5d581fe8",
   "metadata": {
    "execution": {
     "iopub.execute_input": "2023-08-13T13:11:29.651041Z",
     "iopub.status.busy": "2023-08-13T13:11:29.650647Z",
     "iopub.status.idle": "2023-08-13T13:11:29.979049Z",
     "shell.execute_reply": "2023-08-13T13:11:29.977649Z"
    },
    "papermill": {
     "duration": 0.356169,
     "end_time": "2023-08-13T13:11:29.981453",
     "exception": false,
     "start_time": "2023-08-13T13:11:29.625284",
     "status": "completed"
    },
    "tags": []
   },
   "outputs": [],
   "source": [
    "# lets visualize the features/attributes of the datasets\n",
    "import seaborn as sns\n",
    "import matplotlib.pyplot as plt"
   ]
  },
  {
   "cell_type": "code",
   "execution_count": 21,
   "id": "cd2ee989",
   "metadata": {
    "execution": {
     "iopub.execute_input": "2023-08-13T13:11:30.029156Z",
     "iopub.status.busy": "2023-08-13T13:11:30.028833Z",
     "iopub.status.idle": "2023-08-13T13:11:30.288143Z",
     "shell.execute_reply": "2023-08-13T13:11:30.287456Z"
    },
    "papermill": {
     "duration": 0.286491,
     "end_time": "2023-08-13T13:11:30.290035",
     "exception": false,
     "start_time": "2023-08-13T13:11:30.003544",
     "status": "completed"
    },
    "tags": []
   },
   "outputs": [
    {
     "data": {
      "image/png": "[encoded data removed]",
      "text/plain": [
       "<Figure size 640x480 with 1 Axes>"
      ]
     },
     "metadata": {},
     "output_type": "display_data"
    }
   ],
   "source": [
    "# Data Visualizations in train dataset with respect to sentiment count.\n",
    "sns.countplot(x=\"sentiment\", data=train_copy)\n",
    "plt.title(\"Sentiment in Training Set\")\n",
    "plt.xlabel(\"Sentiment\")\n",
    "plt.ylabel(\"Count\")\n",
    "plt.show()"
   ]
  },
  {
   "cell_type": "code",
   "execution_count": 22,
   "id": "a358ee47",
   "metadata": {
    "execution": {
     "iopub.execute_input": "2023-08-13T13:11:30.338838Z",
     "iopub.status.busy": "2023-08-13T13:11:30.337934Z",
     "iopub.status.idle": "2023-08-13T13:11:30.925182Z",
     "shell.execute_reply": "2023-08-13T13:11:30.923557Z"
    },
    "papermill": {
     "duration": 0.615201,
     "end_time": "2023-08-13T13:11:30.928005",
     "exception": false,
     "start_time": "2023-08-13T13:11:30.312804",
     "status": "completed"
    },
    "tags": []
   },
   "outputs": [
    {
     "data": {
      "image/png": "[encoded data removed]",
      "text/plain": [
       "<Figure size 640x480 with 1 Axes>"
      ]
     },
     "metadata": {},
     "output_type": "display_data"
    }
   ],
   "source": [
    "# Filter out missing values from audienceScore column\n",
    "audience_scores = movies_copy['audienceScore'].dropna()\n",
    "\n",
    "# Create a histogram\n",
    "sns.histplot(audience_scores, kde=True)\n",
    "plt.xlabel('Audience Score')\n",
    "plt.ylabel('Frequency')\n",
    "plt.title('Distribution of Audience Scores')\n",
    "plt.show()"
   ]
  },
  {
   "cell_type": "code",
   "execution_count": 23,
   "id": "d247745a",
   "metadata": {
    "execution": {
     "iopub.execute_input": "2023-08-13T13:11:30.976801Z",
     "iopub.status.busy": "2023-08-13T13:11:30.976157Z",
     "iopub.status.idle": "2023-08-13T13:11:30.989510Z",
     "shell.execute_reply": "2023-08-13T13:11:30.988547Z"
    },
    "papermill": {
     "duration": 0.040619,
     "end_time": "2023-08-13T13:11:30.991891",
     "exception": false,
     "start_time": "2023-08-13T13:11:30.951272",
     "status": "completed"
    },
    "tags": []
   },
   "outputs": [
    {
     "data": {
      "text/html": [
       "<div>\n",
       "<style scoped>\n",
       "    .dataframe tbody tr th:only-of-type {\n",
       "        vertical-align: middle;\n",
       "    }\n",
       "\n",
       "    .dataframe tbody tr th {\n",
       "        vertical-align: top;\n",
       "    }\n",
       "\n",
       "    .dataframe thead th {\n",
       "        text-align: right;\n",
       "    }\n",
       "</style>\n",
       "<table border=\"1\" class=\"dataframe\">\n",
       "  <thead>\n",
       "    <tr style=\"text-align: right;\">\n",
       "      <th></th>\n",
       "      <th>movieid</th>\n",
       "      <th>reviewerName</th>\n",
       "      <th>isFrequentReviewer</th>\n",
       "      <th>reviewText</th>\n",
       "      <th>sentiment</th>\n",
       "    </tr>\n",
       "  </thead>\n",
       "  <tbody>\n",
       "    <tr>\n",
       "      <th>0</th>\n",
       "      <td>marvelous_pirate</td>\n",
       "      <td>Benjamin Henry</td>\n",
       "      <td>False</td>\n",
       "      <td>Henry Selick’s first movie since 2009’s Corali...</td>\n",
       "      <td>POSITIVE</td>\n",
       "    </tr>\n",
       "    <tr>\n",
       "      <th>1</th>\n",
       "      <td>tony_montana_frodo_baggins_v_rocky_balboa</td>\n",
       "      <td>Felicia Lopez</td>\n",
       "      <td>False</td>\n",
       "      <td>With a cast that reads like the Vogue Oscar pa...</td>\n",
       "      <td>NEGATIVE</td>\n",
       "    </tr>\n",
       "    <tr>\n",
       "      <th>2</th>\n",
       "      <td>darth_vader_katniss_everdeen_sorcerer_donnie_d...</td>\n",
       "      <td>Mr. Charles Burgess</td>\n",
       "      <td>True</td>\n",
       "      <td>Creed II does not give us anything but another...</td>\n",
       "      <td>POSITIVE</td>\n",
       "    </tr>\n",
       "    <tr>\n",
       "      <th>3</th>\n",
       "      <td>lara_croft_glimmer</td>\n",
       "      <td>Ryan Barrett</td>\n",
       "      <td>False</td>\n",
       "      <td>I know what you're thinking, but this is no Li...</td>\n",
       "      <td>POSITIVE</td>\n",
       "    </tr>\n",
       "    <tr>\n",
       "      <th>4</th>\n",
       "      <td>jason_bourne_surreal_the_terminator_indiana_jones</td>\n",
       "      <td>Alexander Glover</td>\n",
       "      <td>False</td>\n",
       "      <td>Director Fernando Meirelles tells the story wi...</td>\n",
       "      <td>POSITIVE</td>\n",
       "    </tr>\n",
       "    <tr>\n",
       "      <th>...</th>\n",
       "      <td>...</td>\n",
       "      <td>...</td>\n",
       "      <td>...</td>\n",
       "      <td>...</td>\n",
       "      <td>...</td>\n",
       "    </tr>\n",
       "    <tr>\n",
       "      <th>162753</th>\n",
       "      <td>the_joker_ethereal_captain_jack_sparrow_fantastic</td>\n",
       "      <td>Danny Mueller</td>\n",
       "      <td>False</td>\n",
       "      <td>A top-notch thriller with genuine surprises an...</td>\n",
       "      <td>POSITIVE</td>\n",
       "    </tr>\n",
       "    <tr>\n",
       "      <th>162754</th>\n",
       "      <td>e.t._hannibal_lecter_vito_corleone_katniss_eve...</td>\n",
       "      <td>Jennifer Clayton</td>\n",
       "      <td>True</td>\n",
       "      <td>Some people find Derek Zoolander funny and lik...</td>\n",
       "      <td>NEGATIVE</td>\n",
       "    </tr>\n",
       "    <tr>\n",
       "      <th>162755</th>\n",
       "      <td>infinite_enigma_luke_skywalker</td>\n",
       "      <td>Bryan Wilson</td>\n",
       "      <td>False</td>\n",
       "      <td>This fun, gentle comedy focuses mainly on them...</td>\n",
       "      <td>POSITIVE</td>\n",
       "    </tr>\n",
       "    <tr>\n",
       "      <th>162756</th>\n",
       "      <td>emerald_oracle_iron_man_wolverine</td>\n",
       "      <td>Erik Parker</td>\n",
       "      <td>False</td>\n",
       "      <td>The film is rescued by a strong third act, but...</td>\n",
       "      <td>NEGATIVE</td>\n",
       "    </tr>\n",
       "    <tr>\n",
       "      <th>162757</th>\n",
       "      <td>james_t._kirk_phenomenal_zephyr_chronicles</td>\n",
       "      <td>Howard Evans</td>\n",
       "      <td>False</td>\n",
       "      <td>A peerless exercise in stimulus response.</td>\n",
       "      <td>POSITIVE</td>\n",
       "    </tr>\n",
       "  </tbody>\n",
       "</table>\n",
       "<p>162758 rows × 5 columns</p>\n",
       "</div>"
      ],
      "text/plain": [
       "                                                  movieid  \\\n",
       "0                                        marvelous_pirate   \n",
       "1               tony_montana_frodo_baggins_v_rocky_balboa   \n",
       "2       darth_vader_katniss_everdeen_sorcerer_donnie_d...   \n",
       "3                                      lara_croft_glimmer   \n",
       "4       jason_bourne_surreal_the_terminator_indiana_jones   \n",
       "...                                                   ...   \n",
       "162753  the_joker_ethereal_captain_jack_sparrow_fantastic   \n",
       "162754  e.t._hannibal_lecter_vito_corleone_katniss_eve...   \n",
       "162755                     infinite_enigma_luke_skywalker   \n",
       "162756                  emerald_oracle_iron_man_wolverine   \n",
       "162757         james_t._kirk_phenomenal_zephyr_chronicles   \n",
       "\n",
       "               reviewerName  isFrequentReviewer  \\\n",
       "0            Benjamin Henry               False   \n",
       "1             Felicia Lopez               False   \n",
       "2       Mr. Charles Burgess                True   \n",
       "3              Ryan Barrett               False   \n",
       "4          Alexander Glover               False   \n",
       "...                     ...                 ...   \n",
       "162753        Danny Mueller               False   \n",
       "162754     Jennifer Clayton                True   \n",
       "162755         Bryan Wilson               False   \n",
       "162756          Erik Parker               False   \n",
       "162757         Howard Evans               False   \n",
       "\n",
       "                                               reviewText sentiment  \n",
       "0       Henry Selick’s first movie since 2009’s Corali...  POSITIVE  \n",
       "1       With a cast that reads like the Vogue Oscar pa...  NEGATIVE  \n",
       "2       Creed II does not give us anything but another...  POSITIVE  \n",
       "3       I know what you're thinking, but this is no Li...  POSITIVE  \n",
       "4       Director Fernando Meirelles tells the story wi...  POSITIVE  \n",
       "...                                                   ...       ...  \n",
       "162753  A top-notch thriller with genuine surprises an...  POSITIVE  \n",
       "162754  Some people find Derek Zoolander funny and lik...  NEGATIVE  \n",
       "162755  This fun, gentle comedy focuses mainly on them...  POSITIVE  \n",
       "162756  The film is rescued by a strong third act, but...  NEGATIVE  \n",
       "162757          A peerless exercise in stimulus response.  POSITIVE  \n",
       "\n",
       "[162758 rows x 5 columns]"
      ]
     },
     "execution_count": 23,
     "metadata": {},
     "output_type": "execute_result"
    }
   ],
   "source": [
    "train_copy"
   ]
  },
  {
   "cell_type": "code",
   "execution_count": 24,
   "id": "edf6b4c5",
   "metadata": {
    "execution": {
     "iopub.execute_input": "2023-08-13T13:11:31.041815Z",
     "iopub.status.busy": "2023-08-13T13:11:31.041417Z",
     "iopub.status.idle": "2023-08-13T13:11:31.689897Z",
     "shell.execute_reply": "2023-08-13T13:11:31.687493Z"
    },
    "papermill": {
     "duration": 0.677558,
     "end_time": "2023-08-13T13:11:31.692897",
     "exception": false,
     "start_time": "2023-08-13T13:11:31.015339",
     "status": "completed"
    },
    "tags": []
   },
   "outputs": [
    {
     "name": "stdout",
     "output_type": "stream",
     "text": [
      "Duplicate entries exist in the movies dataset.\n",
      "Number of duplicate entries: 1571\n",
      "Duplicate Entries:\n",
      "                                                 movieid  \\\n",
      "277                                supreme_indiana_jones   \n",
      "871          escape_the_terminator_tyler_durden_astonish   \n",
      "913                           oracle_darth_vader_gandalf   \n",
      "1126         escape_the_terminator_tyler_durden_astonish   \n",
      "2447                         e.t._starlight_tony_montana   \n",
      "...                                                  ...   \n",
      "140598  cosmic_jack_torrance_ellis_redding_indiana_jones   \n",
      "140654      the_bride_hannibal_lecter_enigma_black_widow   \n",
      "141470                  wolverine_tony_montana_wolverine   \n",
      "142468       escape_the_terminator_tyler_durden_astonish   \n",
      "143139             quest_rick_blaine_wonder_jason_bourne   \n",
      "\n",
      "                                                   title  audienceScore  \\\n",
      "277                                Supreme Indiana Jones            NaN   \n",
      "871          Escape The Terminator Tyler Durden Astonish            NaN   \n",
      "913                           Oracle Darth Vader Gandalf            NaN   \n",
      "1126         Escape The Terminator Tyler Durden Astonish            NaN   \n",
      "2447                         E.T. Starlight Tony Montana            NaN   \n",
      "...                                                  ...            ...   \n",
      "140598  Cosmic Jack Torrance Ellis Redding Indiana Jones            NaN   \n",
      "140654      The Bride Hannibal Lecter Enigma Black Widow            NaN   \n",
      "141470                  Wolverine Tony Montana Wolverine            NaN   \n",
      "142468       Escape The Terminator Tyler Durden Astonish            NaN   \n",
      "143139             Quest Rick Blaine Wonder Jason Bourne            NaN   \n",
      "\n",
      "       rating ratingContents releaseDateTheaters releaseDateStreaming  \\\n",
      "277       NaN            NaN                 NaN                  NaN   \n",
      "871       NaN            NaN                 NaN                  NaN   \n",
      "913       NaN            NaN                 NaN                  NaN   \n",
      "1126      NaN            NaN                 NaN                  NaN   \n",
      "2447      NaN            NaN                 NaN                  NaN   \n",
      "...       ...            ...                 ...                  ...   \n",
      "140598    NaN            NaN                 NaN                  NaN   \n",
      "140654    NaN            NaN                 NaN                  NaN   \n",
      "141470    NaN            NaN                 NaN                  NaN   \n",
      "142468    NaN            NaN                 NaN                  NaN   \n",
      "143139    NaN            NaN                 NaN                  NaN   \n",
      "\n",
      "        runtimeMinutes  genre originalLanguage        director boxOffice  \\\n",
      "277                NaN    NaN              NaN  Augusta Daniel       NaN   \n",
      "871                NaN    NaN              NaN   Joseph Brooks       NaN   \n",
      "913               97.0  Drama        Hungarian   Cheryl Hudson       NaN   \n",
      "1126               NaN    NaN              NaN   Joseph Brooks       NaN   \n",
      "2447               NaN    NaN              NaN  Augusta Daniel       NaN   \n",
      "...                ...    ...              ...             ...       ...   \n",
      "140598             NaN    NaN              NaN  Augusta Daniel       NaN   \n",
      "140654            89.0  Drama          English     Raul Glover       NaN   \n",
      "141470             NaN    NaN              NaN  Augusta Daniel       NaN   \n",
      "142468             NaN    NaN              NaN   Joseph Brooks       NaN   \n",
      "143139             NaN    NaN              NaN  Augusta Daniel       NaN   \n",
      "\n",
      "       distributor soundType  \n",
      "277            NaN       NaN  \n",
      "871            NaN       NaN  \n",
      "913            NaN       NaN  \n",
      "1126           NaN       NaN  \n",
      "2447           NaN       NaN  \n",
      "...            ...       ...  \n",
      "140598         NaN       NaN  \n",
      "140654         NaN       NaN  \n",
      "141470         NaN       NaN  \n",
      "142468         NaN       NaN  \n",
      "143139         NaN       NaN  \n",
      "\n",
      "[2844 rows x 14 columns]\n"
     ]
    }
   ],
   "source": [
    "# Check for duplicate entries\n",
    "are_duplicates = movies_copy.duplicated().any()\n",
    "\n",
    "if are_duplicates:\n",
    "    print(\"Duplicate entries exist in the movies dataset.\")\n",
    "else:\n",
    "    print(\"No duplicate entries found in the movies dataset.\")\n",
    "\n",
    "duplicate_count = movies_copy.duplicated().sum()\n",
    "print(f\"Number of duplicate entries: {duplicate_count}\")\n",
    "\n",
    "duplicate_mask = movies_copy.duplicated(keep=False)  # keep=False marks all duplicates as True\n",
    "duplicate_entries = movies_copy[duplicate_mask]\n",
    "\n",
    "print(\"Duplicate Entries:\")\n",
    "print(duplicate_entries)"
   ]
  },
  {
   "cell_type": "code",
   "execution_count": 25,
   "id": "09921441",
   "metadata": {
    "execution": {
     "iopub.execute_input": "2023-08-13T13:11:31.742666Z",
     "iopub.status.busy": "2023-08-13T13:11:31.742285Z",
     "iopub.status.idle": "2023-08-13T13:11:31.977363Z",
     "shell.execute_reply": "2023-08-13T13:11:31.976410Z"
    },
    "papermill": {
     "duration": 0.262335,
     "end_time": "2023-08-13T13:11:31.979296",
     "exception": false,
     "start_time": "2023-08-13T13:11:31.716961",
     "status": "completed"
    },
    "tags": []
   },
   "outputs": [
    {
     "data": {
      "text/plain": [
       "(141687, 14)"
      ]
     },
     "execution_count": 25,
     "metadata": {},
     "output_type": "execute_result"
    }
   ],
   "source": [
    "new_movies_copy=movies_copy.drop_duplicates()\n",
    "new_movies_copy.shape"
   ]
  },
  {
   "cell_type": "code",
   "execution_count": 26,
   "id": "c5e56336",
   "metadata": {
    "execution": {
     "iopub.execute_input": "2023-08-13T13:11:32.029382Z",
     "iopub.status.busy": "2023-08-13T13:11:32.028888Z",
     "iopub.status.idle": "2023-08-13T13:11:32.251780Z",
     "shell.execute_reply": "2023-08-13T13:11:32.250888Z"
    },
    "papermill": {
     "duration": 0.251475,
     "end_time": "2023-08-13T13:11:32.254411",
     "exception": false,
     "start_time": "2023-08-13T13:11:32.002936",
     "status": "completed"
    },
    "tags": []
   },
   "outputs": [
    {
     "name": "stdout",
     "output_type": "stream",
     "text": [
      "Duplicate entries exist in the movies dataset.\n",
      "Number of duplicate entries: 1118\n"
     ]
    }
   ],
   "source": [
    "# Check for duplicate entries\n",
    "are_duplicates = train_copy.duplicated().any()\n",
    "\n",
    "if are_duplicates:\n",
    "    print(\"Duplicate entries exist in the movies dataset.\")\n",
    "else:\n",
    "    print(\"No duplicate entries found in the movies dataset.\")\n",
    "\n",
    "duplicate_count = train_copy.duplicated().sum()\n",
    "print(f\"Number of duplicate entries: {duplicate_count}\")"
   ]
  },
  {
   "cell_type": "code",
   "execution_count": 27,
   "id": "d8824522",
   "metadata": {
    "execution": {
     "iopub.execute_input": "2023-08-13T13:11:32.305254Z",
     "iopub.status.busy": "2023-08-13T13:11:32.304439Z",
     "iopub.status.idle": "2023-08-13T13:11:32.430697Z",
     "shell.execute_reply": "2023-08-13T13:11:32.429417Z"
    },
    "papermill": {
     "duration": 0.153534,
     "end_time": "2023-08-13T13:11:32.432803",
     "exception": false,
     "start_time": "2023-08-13T13:11:32.279269",
     "status": "completed"
    },
    "tags": []
   },
   "outputs": [
    {
     "name": "stdout",
     "output_type": "stream",
     "text": [
      "Duplicate Entries:\n",
      "                                                  movieid       reviewerName  \\\n",
      "55                     tony_stark_celestial_frodo_baggins     Tyler Marshall   \n",
      "196         morpheus_enthralling_radiant_michael_corleone     Debbie Bennett   \n",
      "283                                 wolverine_spectacular       Jesus Miller   \n",
      "292                              miracle_john_wick_pirate  Rhonda Washington   \n",
      "320     holly_golightly_princess_leia_hannibal_lecter_...     Yvonne Mendoza   \n",
      "...                                                   ...                ...   \n",
      "162421                              epic_hulk_marty_mcfly    Larry Patterson   \n",
      "162441                 marty_mcfly_dorothy_gale_marvelous        Tammy Welch   \n",
      "162451              jon_snow_tony_montana_sherlock_holmes       Carl Vaughan   \n",
      "162489         sorcerer_darth_vader_sapphire_tony_montana        Lauren Dunn   \n",
      "162579       captain_jack_sparrow_destiny_tony_stark_hulk    Sherri Morrison   \n",
      "\n",
      "        isFrequentReviewer                                         reviewText  \\\n",
      "55                    True  It'll keep the kids entertained for a while an...   \n",
      "196                  False  La despedida de Robert Altman no está entre lo...   \n",
      "283                  False  Sparse, uncompromising and bewitching. Reichar...   \n",
      "292                   True  It's possible to be genuinely moved by that re...   \n",
      "320                   True  This exploration of tumultuous romance is rare...   \n",
      "...                    ...                                                ...   \n",
      "162421               False  This tries to break the mold of the standard r...   \n",
      "162441               False  How could such good intentions result in such ...   \n",
      "162451               False  The pleasant surprise is that it's often funny...   \n",
      "162489               False  The simple conception of the documentary belie...   \n",
      "162579               False                                                NaN   \n",
      "\n",
      "       sentiment  \n",
      "55      POSITIVE  \n",
      "196     NEGATIVE  \n",
      "283     POSITIVE  \n",
      "292     POSITIVE  \n",
      "320     POSITIVE  \n",
      "...          ...  \n",
      "162421  NEGATIVE  \n",
      "162441  NEGATIVE  \n",
      "162451  POSITIVE  \n",
      "162489  POSITIVE  \n",
      "162579  POSITIVE  \n",
      "\n",
      "[2134 rows x 5 columns]\n"
     ]
    }
   ],
   "source": [
    "# Find and display duplicate entries\n",
    "duplicate_mask = train_copy.duplicated(keep=False)  # keep=False marks all duplicates as True\n",
    "duplicate_entries = train_copy[duplicate_mask]\n",
    "\n",
    "print(\"Duplicate Entries:\")\n",
    "print(duplicate_entries)"
   ]
  },
  {
   "cell_type": "code",
   "execution_count": 28,
   "id": "185b6172",
   "metadata": {
    "execution": {
     "iopub.execute_input": "2023-08-13T13:11:32.483149Z",
     "iopub.status.busy": "2023-08-13T13:11:32.482332Z",
     "iopub.status.idle": "2023-08-13T13:11:32.612751Z",
     "shell.execute_reply": "2023-08-13T13:11:32.611995Z"
    },
    "papermill": {
     "duration": 0.157886,
     "end_time": "2023-08-13T13:11:32.614875",
     "exception": false,
     "start_time": "2023-08-13T13:11:32.456989",
     "status": "completed"
    },
    "tags": []
   },
   "outputs": [
    {
     "data": {
      "text/plain": [
       "(161640, 5)"
      ]
     },
     "execution_count": 28,
     "metadata": {},
     "output_type": "execute_result"
    }
   ],
   "source": [
    "new_train_copy=train_copy.drop_duplicates()\n",
    "new_train_copy.shape"
   ]
  },
  {
   "cell_type": "code",
   "execution_count": 29,
   "id": "1b2dfbb1",
   "metadata": {
    "execution": {
     "iopub.execute_input": "2023-08-13T13:11:32.665989Z",
     "iopub.status.busy": "2023-08-13T13:11:32.665584Z",
     "iopub.status.idle": "2023-08-13T13:11:32.714919Z",
     "shell.execute_reply": "2023-08-13T13:11:32.713977Z"
    },
    "papermill": {
     "duration": 0.078405,
     "end_time": "2023-08-13T13:11:32.717407",
     "exception": false,
     "start_time": "2023-08-13T13:11:32.639002",
     "status": "completed"
    },
    "tags": []
   },
   "outputs": [],
   "source": [
    "# Get unique 'movieid' values from the train dataset\n",
    "unique_movieids = new_train_copy['movieid'].unique()\n",
    "\n",
    "# Filter the 'movies' dataset based on unique 'movieid' values\n",
    "filtered_movies = new_movies_copy[new_movies_copy['movieid'].isin(unique_movieids)]"
   ]
  },
  {
   "cell_type": "code",
   "execution_count": 30,
   "id": "639dc7dc",
   "metadata": {
    "execution": {
     "iopub.execute_input": "2023-08-13T13:11:32.770431Z",
     "iopub.status.busy": "2023-08-13T13:11:32.769998Z",
     "iopub.status.idle": "2023-08-13T13:11:33.032672Z",
     "shell.execute_reply": "2023-08-13T13:11:33.030804Z"
    },
    "papermill": {
     "duration": 0.292983,
     "end_time": "2023-08-13T13:11:33.035365",
     "exception": false,
     "start_time": "2023-08-13T13:11:32.742382",
     "status": "completed"
    },
    "tags": []
   },
   "outputs": [],
   "source": [
    "# Merge train and movies dataframes\n",
    "# The reason for using left merging is that we want to keep all the rows from the 'train' DataFrame and merge only the matching rows from the 'movies' DataFrame based on the 'movieid' column.\n",
    "#  we keep all the data from the 'train' DataFrame while incorporating additional movie information from the 'movies' DataFrame where possible.\n",
    "merged_data = pd.merge(new_train_copy, filtered_movies, on='movieid', how='left')"
   ]
  },
  {
   "cell_type": "code",
   "execution_count": 31,
   "id": "b31e572a",
   "metadata": {
    "execution": {
     "iopub.execute_input": "2023-08-13T13:11:33.090660Z",
     "iopub.status.busy": "2023-08-13T13:11:33.089745Z",
     "iopub.status.idle": "2023-08-13T13:11:33.857998Z",
     "shell.execute_reply": "2023-08-13T13:11:33.856923Z"
    },
    "papermill": {
     "duration": 0.797456,
     "end_time": "2023-08-13T13:11:33.860456",
     "exception": false,
     "start_time": "2023-08-13T13:11:33.063000",
     "status": "completed"
    },
    "tags": []
   },
   "outputs": [],
   "source": [
    "# Remove duplicate rows\n",
    "merged_data.drop_duplicates(inplace=True)"
   ]
  },
  {
   "cell_type": "code",
   "execution_count": 32,
   "id": "08d02686",
   "metadata": {
    "execution": {
     "iopub.execute_input": "2023-08-13T13:11:33.912514Z",
     "iopub.status.busy": "2023-08-13T13:11:33.912162Z",
     "iopub.status.idle": "2023-08-13T13:11:33.918669Z",
     "shell.execute_reply": "2023-08-13T13:11:33.916970Z"
    },
    "papermill": {
     "duration": 0.034692,
     "end_time": "2023-08-13T13:11:33.920725",
     "exception": false,
     "start_time": "2023-08-13T13:11:33.886033",
     "status": "completed"
    },
    "tags": []
   },
   "outputs": [
    {
     "name": "stdout",
     "output_type": "stream",
     "text": [
      "Data shape:\n",
      "(307979, 18)\n"
     ]
    }
   ],
   "source": [
    "# Basic Statistics\n",
    "print(\"Data shape:\")\n",
    "print(merged_data.shape)"
   ]
  },
  {
   "cell_type": "code",
   "execution_count": 33,
   "id": "72e7f25d",
   "metadata": {
    "execution": {
     "iopub.execute_input": "2023-08-13T13:11:33.971510Z",
     "iopub.status.busy": "2023-08-13T13:11:33.971143Z",
     "iopub.status.idle": "2023-08-13T13:11:34.635541Z",
     "shell.execute_reply": "2023-08-13T13:11:34.634107Z"
    },
    "papermill": {
     "duration": 0.691822,
     "end_time": "2023-08-13T13:11:34.637620",
     "exception": false,
     "start_time": "2023-08-13T13:11:33.945798",
     "status": "completed"
    },
    "tags": []
   },
   "outputs": [
    {
     "name": "stdout",
     "output_type": "stream",
     "text": [
      "\n",
      "Data info:\n",
      "<class 'pandas.core.frame.DataFrame'>\n",
      "Int64Index: 307979 entries, 0 to 307978\n",
      "Data columns (total 18 columns):\n",
      " #   Column                Non-Null Count   Dtype  \n",
      "---  ------                --------------   -----  \n",
      " 0   movieid               307979 non-null  object \n",
      " 1   reviewerName          307979 non-null  object \n",
      " 2   isFrequentReviewer    307979 non-null  bool   \n",
      " 3   reviewText            295024 non-null  object \n",
      " 4   sentiment             307979 non-null  object \n",
      " 5   title                 307979 non-null  object \n",
      " 6   audienceScore         216573 non-null  float64\n",
      " 7   rating                129370 non-null  object \n",
      " 8   ratingContents        129370 non-null  object \n",
      " 9   releaseDateTheaters   175695 non-null  object \n",
      " 10  releaseDateStreaming  241608 non-null  object \n",
      " 11  runtimeMinutes        293557 non-null  float64\n",
      " 12  genre                 298870 non-null  object \n",
      " 13  originalLanguage      295807 non-null  object \n",
      " 14  director              307979 non-null  object \n",
      " 15  boxOffice             139534 non-null  object \n",
      " 16  distributor           163392 non-null  object \n",
      " 17  soundType             105555 non-null  object \n",
      "dtypes: bool(1), float64(2), object(15)\n",
      "memory usage: 42.6+ MB\n",
      "None\n"
     ]
    }
   ],
   "source": [
    "print(\"\\nData info:\")\n",
    "print(merged_data.info())"
   ]
  },
  {
   "cell_type": "code",
   "execution_count": 34,
   "id": "69d7ca86",
   "metadata": {
    "execution": {
     "iopub.execute_input": "2023-08-13T13:11:34.690771Z",
     "iopub.status.busy": "2023-08-13T13:11:34.690405Z",
     "iopub.status.idle": "2023-08-13T13:11:34.731520Z",
     "shell.execute_reply": "2023-08-13T13:11:34.730690Z"
    },
    "papermill": {
     "duration": 0.071268,
     "end_time": "2023-08-13T13:11:34.733364",
     "exception": false,
     "start_time": "2023-08-13T13:11:34.662096",
     "status": "completed"
    },
    "tags": []
   },
   "outputs": [
    {
     "name": "stdout",
     "output_type": "stream",
     "text": [
      "\n",
      "Data description:\n",
      "       audienceScore  runtimeMinutes\n",
      "count  216573.000000   293557.000000\n",
      "mean       63.231636      102.419281\n",
      "std        20.977627       25.884408\n",
      "min         0.000000        2.000000\n",
      "25%        48.000000       90.000000\n",
      "50%        66.000000      100.000000\n",
      "75%        80.000000      115.000000\n",
      "max       100.000000      561.000000\n"
     ]
    }
   ],
   "source": [
    "print(\"\\nData description:\")\n",
    "print(merged_data.describe())"
   ]
  },
  {
   "cell_type": "code",
   "execution_count": 35,
   "id": "25447f36",
   "metadata": {
    "execution": {
     "iopub.execute_input": "2023-08-13T13:11:34.784930Z",
     "iopub.status.busy": "2023-08-13T13:11:34.784565Z",
     "iopub.status.idle": "2023-08-13T13:11:35.444190Z",
     "shell.execute_reply": "2023-08-13T13:11:35.442467Z"
    },
    "papermill": {
     "duration": 0.689409,
     "end_time": "2023-08-13T13:11:35.447188",
     "exception": false,
     "start_time": "2023-08-13T13:11:34.757779",
     "status": "completed"
    },
    "tags": []
   },
   "outputs": [
    {
     "name": "stdout",
     "output_type": "stream",
     "text": [
      "\n",
      "Missing Values:\n",
      "movieid                      0\n",
      "reviewerName                 0\n",
      "isFrequentReviewer           0\n",
      "reviewText               12955\n",
      "sentiment                    0\n",
      "title                        0\n",
      "audienceScore            91406\n",
      "rating                  178609\n",
      "ratingContents          178609\n",
      "releaseDateTheaters     132284\n",
      "releaseDateStreaming     66371\n",
      "runtimeMinutes           14422\n",
      "genre                     9109\n",
      "originalLanguage         12172\n",
      "director                     0\n",
      "boxOffice               168445\n",
      "distributor             144587\n",
      "soundType               202424\n",
      "dtype: int64\n"
     ]
    }
   ],
   "source": [
    "# Check for missing values\n",
    "print(\"\\nMissing Values:\")\n",
    "print(merged_data.isnull().sum())"
   ]
  },
  {
   "cell_type": "code",
   "execution_count": 36,
   "id": "0cb0397e",
   "metadata": {
    "execution": {
     "iopub.execute_input": "2023-08-13T13:11:35.500820Z",
     "iopub.status.busy": "2023-08-13T13:11:35.500461Z",
     "iopub.status.idle": "2023-08-13T13:11:35.814234Z",
     "shell.execute_reply": "2023-08-13T13:11:35.812766Z"
    },
    "papermill": {
     "duration": 0.342959,
     "end_time": "2023-08-13T13:11:35.816737",
     "exception": false,
     "start_time": "2023-08-13T13:11:35.473778",
     "status": "completed"
    },
    "tags": []
   },
   "outputs": [
    {
     "data": {
      "image/png": "[encoded data removed]",
      "text/plain": [
       "<Figure size 600x400 with 1 Axes>"
      ]
     },
     "metadata": {},
     "output_type": "display_data"
    }
   ],
   "source": [
    "plt.figure(figsize=(6, 4))\n",
    "sns.countplot(data=merged_data, x='sentiment')\n",
    "plt.title('Distribution of Sentiment')\n",
    "plt.show()"
   ]
  },
  {
   "cell_type": "code",
   "execution_count": 37,
   "id": "8eae28f4",
   "metadata": {
    "execution": {
     "iopub.execute_input": "2023-08-13T13:11:35.868908Z",
     "iopub.status.busy": "2023-08-13T13:11:35.868344Z",
     "iopub.status.idle": "2023-08-13T13:11:36.206768Z",
     "shell.execute_reply": "2023-08-13T13:11:36.205756Z"
    },
    "papermill": {
     "duration": 0.367368,
     "end_time": "2023-08-13T13:11:36.209199",
     "exception": false,
     "start_time": "2023-08-13T13:11:35.841831",
     "status": "completed"
    },
    "tags": []
   },
   "outputs": [
    {
     "data": {
      "image/png": "[encoded data removed]",
      "text/plain": [
       "<Figure size 800x600 with 1 Axes>"
      ]
     },
     "metadata": {},
     "output_type": "display_data"
    }
   ],
   "source": [
    "# Distribution of audienceScore\n",
    "plt.figure(figsize=(8, 6))\n",
    "sns.histplot(data=merged_data, x='audienceScore', bins=20)\n",
    "plt.title('Distribution of audienceScore')\n",
    "plt.show()"
   ]
  },
  {
   "cell_type": "code",
   "execution_count": 38,
   "id": "2135a313",
   "metadata": {
    "execution": {
     "iopub.execute_input": "2023-08-13T13:11:36.262307Z",
     "iopub.status.busy": "2023-08-13T13:11:36.261881Z",
     "iopub.status.idle": "2023-08-13T13:11:36.559616Z",
     "shell.execute_reply": "2023-08-13T13:11:36.558181Z"
    },
    "papermill": {
     "duration": 0.327894,
     "end_time": "2023-08-13T13:11:36.562393",
     "exception": false,
     "start_time": "2023-08-13T13:11:36.234499",
     "status": "completed"
    },
    "tags": []
   },
   "outputs": [
    {
     "data": {
      "image/png": "[encoded data removed]",
      "text/plain": [
       "<Figure size 800x600 with 1 Axes>"
      ]
     },
     "metadata": {},
     "output_type": "display_data"
    }
   ],
   "source": [
    "# Relationship between audienceScore and sentiment\n",
    "plt.figure(figsize=(8, 6))\n",
    "sns.boxplot(data=merged_data, x='sentiment', y='audienceScore')\n",
    "plt.title('Relationship between Sentiment and audienceScore')\n",
    "plt.show()"
   ]
  },
  {
   "cell_type": "code",
   "execution_count": 39,
   "id": "1dae9d57",
   "metadata": {
    "execution": {
     "iopub.execute_input": "2023-08-13T13:11:36.620913Z",
     "iopub.status.busy": "2023-08-13T13:11:36.620193Z",
     "iopub.status.idle": "2023-08-13T13:11:36.945898Z",
     "shell.execute_reply": "2023-08-13T13:11:36.944266Z"
    },
    "papermill": {
     "duration": 0.357475,
     "end_time": "2023-08-13T13:11:36.948551",
     "exception": false,
     "start_time": "2023-08-13T13:11:36.591076",
     "status": "completed"
    },
    "tags": []
   },
   "outputs": [
    {
     "data": {
      "image/png": "[encoded data removed]",
      "text/plain": [
       "<Figure size 600x400 with 1 Axes>"
      ]
     },
     "metadata": {},
     "output_type": "display_data"
    }
   ],
   "source": [
    "# Relationship between isFrequentReviewer and sentiment\n",
    "plt.figure(figsize=(6, 4))\n",
    "sns.countplot(data=merged_data, x='isFrequentReviewer', hue='sentiment')\n",
    "plt.title('Relationship between isFrequentReviewer and Sentiment')\n",
    "plt.show()"
   ]
  },
  {
   "cell_type": "code",
   "execution_count": 40,
   "id": "b50b3ef2",
   "metadata": {
    "execution": {
     "iopub.execute_input": "2023-08-13T13:11:37.004745Z",
     "iopub.status.busy": "2023-08-13T13:11:37.003351Z",
     "iopub.status.idle": "2023-08-13T13:11:37.665316Z",
     "shell.execute_reply": "2023-08-13T13:11:37.663238Z"
    },
    "papermill": {
     "duration": 0.692534,
     "end_time": "2023-08-13T13:11:37.668099",
     "exception": false,
     "start_time": "2023-08-13T13:11:36.975565",
     "status": "completed"
    },
    "tags": []
   },
   "outputs": [
    {
     "name": "stdout",
     "output_type": "stream",
     "text": [
      "Missing Values in Merged Data:\n",
      "movieid                      0\n",
      "reviewerName                 0\n",
      "isFrequentReviewer           0\n",
      "reviewText               12955\n",
      "sentiment                    0\n",
      "title                        0\n",
      "audienceScore            91406\n",
      "rating                  178609\n",
      "ratingContents          178609\n",
      "releaseDateTheaters     132284\n",
      "releaseDateStreaming     66371\n",
      "runtimeMinutes           14422\n",
      "genre                     9109\n",
      "originalLanguage         12172\n",
      "director                     0\n",
      "boxOffice               168445\n",
      "distributor             144587\n",
      "soundType               202424\n",
      "dtype: int64\n"
     ]
    }
   ],
   "source": [
    "# Check for missing values\n",
    "print(\"Missing Values in Merged Data:\")\n",
    "print(merged_data.isnull().sum())"
   ]
  },
  {
   "cell_type": "code",
   "execution_count": 41,
   "id": "37a77092",
   "metadata": {
    "execution": {
     "iopub.execute_input": "2023-08-13T13:11:37.727121Z",
     "iopub.status.busy": "2023-08-13T13:11:37.726744Z",
     "iopub.status.idle": "2023-08-13T13:11:37.735618Z",
     "shell.execute_reply": "2023-08-13T13:11:37.734794Z"
    },
    "papermill": {
     "duration": 0.04067,
     "end_time": "2023-08-13T13:11:37.737973",
     "exception": false,
     "start_time": "2023-08-13T13:11:37.697303",
     "status": "completed"
    },
    "tags": []
   },
   "outputs": [],
   "source": [
    "mean_audience_score = merged_data['audienceScore'].mean()\n",
    "merged_data['audienceScore'].fillna(mean_audience_score, inplace=True)"
   ]
  },
  {
   "cell_type": "code",
   "execution_count": 42,
   "id": "a56b330b",
   "metadata": {
    "execution": {
     "iopub.execute_input": "2023-08-13T13:11:37.796507Z",
     "iopub.status.busy": "2023-08-13T13:11:37.795795Z",
     "iopub.status.idle": "2023-08-13T13:11:37.804115Z",
     "shell.execute_reply": "2023-08-13T13:11:37.803178Z"
    },
    "papermill": {
     "duration": 0.041233,
     "end_time": "2023-08-13T13:11:37.806742",
     "exception": false,
     "start_time": "2023-08-13T13:11:37.765509",
     "status": "completed"
    },
    "tags": []
   },
   "outputs": [],
   "source": [
    "# Impute missing values for 'isFrequentReviewer' using mode imputation\n",
    "mode_is_frequent_reviewer = merged_data['isFrequentReviewer'].mode()[0]\n",
    "merged_data['isFrequentReviewer'].fillna(mode_is_frequent_reviewer, inplace=True)"
   ]
  },
  {
   "cell_type": "code",
   "execution_count": 43,
   "id": "5ff3fc98",
   "metadata": {
    "execution": {
     "iopub.execute_input": "2023-08-13T13:11:37.863101Z",
     "iopub.status.busy": "2023-08-13T13:11:37.862728Z",
     "iopub.status.idle": "2023-08-13T13:11:38.533156Z",
     "shell.execute_reply": "2023-08-13T13:11:38.531458Z"
    },
    "papermill": {
     "duration": 0.701696,
     "end_time": "2023-08-13T13:11:38.535588",
     "exception": false,
     "start_time": "2023-08-13T13:11:37.833892",
     "status": "completed"
    },
    "tags": []
   },
   "outputs": [
    {
     "name": "stdout",
     "output_type": "stream",
     "text": [
      "\n",
      "Missing Values after Imputation:\n",
      "movieid                      0\n",
      "reviewerName                 0\n",
      "isFrequentReviewer           0\n",
      "reviewText               12955\n",
      "sentiment                    0\n",
      "title                        0\n",
      "audienceScore                0\n",
      "rating                  178609\n",
      "ratingContents          178609\n",
      "releaseDateTheaters     132284\n",
      "releaseDateStreaming     66371\n",
      "runtimeMinutes           14422\n",
      "genre                     9109\n",
      "originalLanguage         12172\n",
      "director                     0\n",
      "boxOffice               168445\n",
      "distributor             144587\n",
      "soundType               202424\n",
      "dtype: int64\n"
     ]
    }
   ],
   "source": [
    "# After imputation, check if there are any remaining missing values\n",
    "print(\"\\nMissing Values after Imputation:\")\n",
    "print(merged_data.isnull().sum())"
   ]
  },
  {
   "cell_type": "code",
   "execution_count": 44,
   "id": "13024160",
   "metadata": {
    "execution": {
     "iopub.execute_input": "2023-08-13T13:11:38.591257Z",
     "iopub.status.busy": "2023-08-13T13:11:38.590889Z",
     "iopub.status.idle": "2023-08-13T13:11:38.603684Z",
     "shell.execute_reply": "2023-08-13T13:11:38.602478Z"
    },
    "papermill": {
     "duration": 0.044275,
     "end_time": "2023-08-13T13:11:38.606346",
     "exception": false,
     "start_time": "2023-08-13T13:11:38.562071",
     "status": "completed"
    },
    "tags": []
   },
   "outputs": [],
   "source": [
    "from sklearn.preprocessing import StandardScaler, LabelEncoder\n",
    "\n",
    "# Scaling Numerical Features (audienceScore)\n",
    "scaler = StandardScaler()\n",
    "merged_data['audienceScore'] = scaler.fit_transform(merged_data[['audienceScore']])"
   ]
  },
  {
   "cell_type": "code",
   "execution_count": 45,
   "id": "4bfa82c9",
   "metadata": {
    "execution": {
     "iopub.execute_input": "2023-08-13T13:11:38.660920Z",
     "iopub.status.busy": "2023-08-13T13:11:38.660556Z",
     "iopub.status.idle": "2023-08-13T13:11:38.675148Z",
     "shell.execute_reply": "2023-08-13T13:11:38.673880Z"
    },
    "papermill": {
     "duration": 0.044553,
     "end_time": "2023-08-13T13:11:38.677669",
     "exception": false,
     "start_time": "2023-08-13T13:11:38.633116",
     "status": "completed"
    },
    "tags": []
   },
   "outputs": [],
   "source": [
    "# Encoding Categorical Features (isFrequentReviewer)\n",
    "label_encoder = LabelEncoder()\n",
    "merged_data['isFrequentReviewer'] = label_encoder.fit_transform(merged_data['isFrequentReviewer'])"
   ]
  },
  {
   "cell_type": "code",
   "execution_count": 46,
   "id": "6fe24c6a",
   "metadata": {
    "execution": {
     "iopub.execute_input": "2023-08-13T13:11:38.733038Z",
     "iopub.status.busy": "2023-08-13T13:11:38.732618Z",
     "iopub.status.idle": "2023-08-13T13:11:41.740068Z",
     "shell.execute_reply": "2023-08-13T13:11:41.739014Z"
    },
    "papermill": {
     "duration": 3.038731,
     "end_time": "2023-08-13T13:11:41.742491",
     "exception": false,
     "start_time": "2023-08-13T13:11:38.703760",
     "status": "completed"
    },
    "tags": []
   },
   "outputs": [],
   "source": [
    "# Data Preprocessing\n",
    "def preprocess_text(text):\n",
    "    if pd.isnull(text):\n",
    "        return ''\n",
    "    else:\n",
    "        # Convert text to lowercase\n",
    "        text = text.lower()\n",
    "\n",
    "        # Remove non-alphanumeric characters except full stops and commas\n",
    "        text = re.sub(r'[^a-zA-Z0-9\\s.,]', '', text)\n",
    "\n",
    "        # Remove any extra spaces\n",
    "        text = re.sub(r'\\s+', ' ', text)\n",
    "\n",
    "        return text\n",
    "\n",
    "# Apply text preprocessing on reviewText column\n",
    "merged_data['reviewText'] = merged_data['reviewText'].apply(preprocess_text)\n"
   ]
  },
  {
   "cell_type": "code",
   "execution_count": 47,
   "id": "68944dca",
   "metadata": {
    "execution": {
     "iopub.execute_input": "2023-08-13T13:11:41.797386Z",
     "iopub.status.busy": "2023-08-13T13:11:41.797032Z",
     "iopub.status.idle": "2023-08-13T13:11:41.804069Z",
     "shell.execute_reply": "2023-08-13T13:11:41.802879Z"
    },
    "papermill": {
     "duration": 0.037436,
     "end_time": "2023-08-13T13:11:41.806603",
     "exception": false,
     "start_time": "2023-08-13T13:11:41.769167",
     "status": "completed"
    },
    "tags": []
   },
   "outputs": [
    {
     "data": {
      "text/plain": [
       "(307979, 18)"
      ]
     },
     "execution_count": 47,
     "metadata": {},
     "output_type": "execute_result"
    }
   ],
   "source": [
    "merged_data.shape"
   ]
  },
  {
   "cell_type": "code",
   "execution_count": 48,
   "id": "01359c74",
   "metadata": {
    "execution": {
     "iopub.execute_input": "2023-08-13T13:11:41.861694Z",
     "iopub.status.busy": "2023-08-13T13:11:41.861318Z",
     "iopub.status.idle": "2023-08-13T13:11:42.523249Z",
     "shell.execute_reply": "2023-08-13T13:11:42.521930Z"
    },
    "papermill": {
     "duration": 0.691967,
     "end_time": "2023-08-13T13:11:42.525826",
     "exception": false,
     "start_time": "2023-08-13T13:11:41.833859",
     "status": "completed"
    },
    "tags": []
   },
   "outputs": [
    {
     "name": "stdout",
     "output_type": "stream",
     "text": [
      "<class 'pandas.core.frame.DataFrame'>\n",
      "Int64Index: 307979 entries, 0 to 307978\n",
      "Data columns (total 18 columns):\n",
      " #   Column                Non-Null Count   Dtype  \n",
      "---  ------                --------------   -----  \n",
      " 0   movieid               307979 non-null  object \n",
      " 1   reviewerName          307979 non-null  object \n",
      " 2   isFrequentReviewer    307979 non-null  int64  \n",
      " 3   reviewText            307979 non-null  object \n",
      " 4   sentiment             307979 non-null  object \n",
      " 5   title                 307979 non-null  object \n",
      " 6   audienceScore         307979 non-null  float64\n",
      " 7   rating                129370 non-null  object \n",
      " 8   ratingContents        129370 non-null  object \n",
      " 9   releaseDateTheaters   175695 non-null  object \n",
      " 10  releaseDateStreaming  241608 non-null  object \n",
      " 11  runtimeMinutes        293557 non-null  float64\n",
      " 12  genre                 298870 non-null  object \n",
      " 13  originalLanguage      295807 non-null  object \n",
      " 14  director              307979 non-null  object \n",
      " 15  boxOffice             139534 non-null  object \n",
      " 16  distributor           163392 non-null  object \n",
      " 17  soundType             105555 non-null  object \n",
      "dtypes: float64(2), int64(1), object(15)\n",
      "memory usage: 44.6+ MB\n"
     ]
    }
   ],
   "source": [
    "merged_data.info()"
   ]
  },
  {
   "cell_type": "code",
   "execution_count": 49,
   "id": "93260dc1",
   "metadata": {
    "execution": {
     "iopub.execute_input": "2023-08-13T13:11:42.580205Z",
     "iopub.status.busy": "2023-08-13T13:11:42.579871Z",
     "iopub.status.idle": "2023-08-13T13:11:42.623148Z",
     "shell.execute_reply": "2023-08-13T13:11:42.622189Z"
    },
    "papermill": {
     "duration": 0.073265,
     "end_time": "2023-08-13T13:11:42.625175",
     "exception": false,
     "start_time": "2023-08-13T13:11:42.551910",
     "status": "completed"
    },
    "tags": []
   },
   "outputs": [
    {
     "data": {
      "text/html": [
       "<div>\n",
       "<style scoped>\n",
       "    .dataframe tbody tr th:only-of-type {\n",
       "        vertical-align: middle;\n",
       "    }\n",
       "\n",
       "    .dataframe tbody tr th {\n",
       "        vertical-align: top;\n",
       "    }\n",
       "\n",
       "    .dataframe thead th {\n",
       "        text-align: right;\n",
       "    }\n",
       "</style>\n",
       "<table border=\"1\" class=\"dataframe\">\n",
       "  <thead>\n",
       "    <tr style=\"text-align: right;\">\n",
       "      <th></th>\n",
       "      <th>isFrequentReviewer</th>\n",
       "      <th>audienceScore</th>\n",
       "      <th>runtimeMinutes</th>\n",
       "    </tr>\n",
       "  </thead>\n",
       "  <tbody>\n",
       "    <tr>\n",
       "      <th>count</th>\n",
       "      <td>307979.000000</td>\n",
       "      <td>3.079790e+05</td>\n",
       "      <td>293557.000000</td>\n",
       "    </tr>\n",
       "    <tr>\n",
       "      <th>mean</th>\n",
       "      <td>0.304459</td>\n",
       "      <td>7.816503e-17</td>\n",
       "      <td>102.419281</td>\n",
       "    </tr>\n",
       "    <tr>\n",
       "      <th>std</th>\n",
       "      <td>0.460179</td>\n",
       "      <td>1.000002e+00</td>\n",
       "      <td>25.884408</td>\n",
       "    </tr>\n",
       "    <tr>\n",
       "      <th>min</th>\n",
       "      <td>0.000000</td>\n",
       "      <td>-3.594491e+00</td>\n",
       "      <td>2.000000</td>\n",
       "    </tr>\n",
       "    <tr>\n",
       "      <th>25%</th>\n",
       "      <td>0.000000</td>\n",
       "      <td>-4.110925e-01</td>\n",
       "      <td>90.000000</td>\n",
       "    </tr>\n",
       "    <tr>\n",
       "      <th>50%</th>\n",
       "      <td>0.000000</td>\n",
       "      <td>0.000000e+00</td>\n",
       "      <td>100.000000</td>\n",
       "    </tr>\n",
       "    <tr>\n",
       "      <th>75%</th>\n",
       "      <td>1.000000</td>\n",
       "      <td>6.689893e-01</td>\n",
       "      <td>115.000000</td>\n",
       "    </tr>\n",
       "    <tr>\n",
       "      <th>max</th>\n",
       "      <td>1.000000</td>\n",
       "      <td>2.090150e+00</td>\n",
       "      <td>561.000000</td>\n",
       "    </tr>\n",
       "  </tbody>\n",
       "</table>\n",
       "</div>"
      ],
      "text/plain": [
       "       isFrequentReviewer  audienceScore  runtimeMinutes\n",
       "count       307979.000000   3.079790e+05   293557.000000\n",
       "mean             0.304459   7.816503e-17      102.419281\n",
       "std              0.460179   1.000002e+00       25.884408\n",
       "min              0.000000  -3.594491e+00        2.000000\n",
       "25%              0.000000  -4.110925e-01       90.000000\n",
       "50%              0.000000   0.000000e+00      100.000000\n",
       "75%              1.000000   6.689893e-01      115.000000\n",
       "max              1.000000   2.090150e+00      561.000000"
      ]
     },
     "execution_count": 49,
     "metadata": {},
     "output_type": "execute_result"
    }
   ],
   "source": [
    "merged_data.describe()"
   ]
  },
  {
   "cell_type": "code",
   "execution_count": 50,
   "id": "7e583b86",
   "metadata": {
    "execution": {
     "iopub.execute_input": "2023-08-13T13:11:42.682071Z",
     "iopub.status.busy": "2023-08-13T13:11:42.681729Z",
     "iopub.status.idle": "2023-08-13T13:11:43.358201Z",
     "shell.execute_reply": "2023-08-13T13:11:43.356866Z"
    },
    "papermill": {
     "duration": 0.707634,
     "end_time": "2023-08-13T13:11:43.360690",
     "exception": false,
     "start_time": "2023-08-13T13:11:42.653056",
     "status": "completed"
    },
    "tags": []
   },
   "outputs": [
    {
     "data": {
      "text/plain": [
       "movieid                      0\n",
       "reviewerName                 0\n",
       "isFrequentReviewer           0\n",
       "reviewText                   0\n",
       "sentiment                    0\n",
       "title                        0\n",
       "audienceScore                0\n",
       "rating                  178609\n",
       "ratingContents          178609\n",
       "releaseDateTheaters     132284\n",
       "releaseDateStreaming     66371\n",
       "runtimeMinutes           14422\n",
       "genre                     9109\n",
       "originalLanguage         12172\n",
       "director                     0\n",
       "boxOffice               168445\n",
       "distributor             144587\n",
       "soundType               202424\n",
       "dtype: int64"
      ]
     },
     "execution_count": 50,
     "metadata": {},
     "output_type": "execute_result"
    }
   ],
   "source": [
    "merged_data.isnull().sum()"
   ]
  },
  {
   "cell_type": "code",
   "execution_count": 51,
   "id": "7923c31d",
   "metadata": {
    "execution": {
     "iopub.execute_input": "2023-08-13T13:11:43.415459Z",
     "iopub.status.busy": "2023-08-13T13:11:43.414948Z",
     "iopub.status.idle": "2023-08-13T13:11:43.488682Z",
     "shell.execute_reply": "2023-08-13T13:11:43.486799Z"
    },
    "papermill": {
     "duration": 0.10408,
     "end_time": "2023-08-13T13:11:43.491157",
     "exception": false,
     "start_time": "2023-08-13T13:11:43.387077",
     "status": "completed"
    },
    "tags": []
   },
   "outputs": [],
   "source": [
    "# Drop columns with a large number of missing values\n",
    "merged_data.drop(['rating', 'ratingContents'], axis=1, inplace=True)"
   ]
  },
  {
   "cell_type": "code",
   "execution_count": 52,
   "id": "7d34c076",
   "metadata": {
    "execution": {
     "iopub.execute_input": "2023-08-13T13:11:43.546883Z",
     "iopub.status.busy": "2023-08-13T13:11:43.546507Z",
     "iopub.status.idle": "2023-08-13T13:11:43.614020Z",
     "shell.execute_reply": "2023-08-13T13:11:43.613329Z"
    },
    "papermill": {
     "duration": 0.097827,
     "end_time": "2023-08-13T13:11:43.616035",
     "exception": false,
     "start_time": "2023-08-13T13:11:43.518208",
     "status": "completed"
    },
    "tags": []
   },
   "outputs": [],
   "source": [
    "# Impute missing values for 'releaseDateTheaters' and 'releaseDateStreaming' with the mode\n",
    "merged_data['releaseDateTheaters'].fillna(merged_data['releaseDateTheaters'].mode()[0], inplace=True)\n",
    "merged_data['releaseDateStreaming'].fillna(merged_data['releaseDateStreaming'].mode()[0], inplace=True)"
   ]
  },
  {
   "cell_type": "code",
   "execution_count": 53,
   "id": "bf2712b9",
   "metadata": {
    "execution": {
     "iopub.execute_input": "2023-08-13T13:11:43.670957Z",
     "iopub.status.busy": "2023-08-13T13:11:43.670448Z",
     "iopub.status.idle": "2023-08-13T13:11:43.682233Z",
     "shell.execute_reply": "2023-08-13T13:11:43.681150Z"
    },
    "papermill": {
     "duration": 0.041672,
     "end_time": "2023-08-13T13:11:43.684433",
     "exception": false,
     "start_time": "2023-08-13T13:11:43.642761",
     "status": "completed"
    },
    "tags": []
   },
   "outputs": [],
   "source": [
    "# Impute missing values for 'runtimeMinutes' with the median\n",
    "median_runtime = merged_data['runtimeMinutes'].median()\n",
    "merged_data['runtimeMinutes'].fillna(median_runtime, inplace=True)"
   ]
  },
  {
   "cell_type": "code",
   "execution_count": 54,
   "id": "91751afd",
   "metadata": {
    "execution": {
     "iopub.execute_input": "2023-08-13T13:11:43.740765Z",
     "iopub.status.busy": "2023-08-13T13:11:43.740337Z",
     "iopub.status.idle": "2023-08-13T13:11:43.804723Z",
     "shell.execute_reply": "2023-08-13T13:11:43.803307Z"
    },
    "papermill": {
     "duration": 0.096071,
     "end_time": "2023-08-13T13:11:43.807586",
     "exception": false,
     "start_time": "2023-08-13T13:11:43.711515",
     "status": "completed"
    },
    "tags": []
   },
   "outputs": [],
   "source": [
    "# Impute missing values for 'genre' and 'originalLanguage' with the mode\n",
    "merged_data['genre'].fillna(merged_data['genre'].mode()[0], inplace=True)\n",
    "merged_data['originalLanguage'].fillna(merged_data['originalLanguage'].mode()[0], inplace=True)"
   ]
  },
  {
   "cell_type": "code",
   "execution_count": 55,
   "id": "5bc13940",
   "metadata": {
    "execution": {
     "iopub.execute_input": "2023-08-13T13:11:43.863425Z",
     "iopub.status.busy": "2023-08-13T13:11:43.862881Z",
     "iopub.status.idle": "2023-08-13T13:11:43.930562Z",
     "shell.execute_reply": "2023-08-13T13:11:43.928888Z"
    },
    "papermill": {
     "duration": 0.099336,
     "end_time": "2023-08-13T13:11:43.933449",
     "exception": false,
     "start_time": "2023-08-13T13:11:43.834113",
     "status": "completed"
    },
    "tags": []
   },
   "outputs": [],
   "source": [
    "# For 'boxOffice' and 'distributor', we may need more context or domain knowledge to decide on imputation strategies\n",
    "# For simplicity, we'll drop these columns as well\n",
    "merged_data.drop(['boxOffice', 'distributor'], axis=1, inplace=True)"
   ]
  },
  {
   "cell_type": "code",
   "execution_count": 56,
   "id": "1b6ef8f5",
   "metadata": {
    "execution": {
     "iopub.execute_input": "2023-08-13T13:11:43.993436Z",
     "iopub.status.busy": "2023-08-13T13:11:43.993091Z",
     "iopub.status.idle": "2023-08-13T13:11:44.000114Z",
     "shell.execute_reply": "2023-08-13T13:11:43.998784Z"
    },
    "papermill": {
     "duration": 0.038532,
     "end_time": "2023-08-13T13:11:44.002055",
     "exception": false,
     "start_time": "2023-08-13T13:11:43.963523",
     "status": "completed"
    },
    "tags": []
   },
   "outputs": [
    {
     "data": {
      "text/plain": [
       "(307979, 14)"
      ]
     },
     "execution_count": 56,
     "metadata": {},
     "output_type": "execute_result"
    }
   ],
   "source": [
    "merged_data.shape"
   ]
  },
  {
   "cell_type": "code",
   "execution_count": 57,
   "id": "ec4c41cb",
   "metadata": {
    "execution": {
     "iopub.execute_input": "2023-08-13T13:11:44.057159Z",
     "iopub.status.busy": "2023-08-13T13:11:44.056804Z",
     "iopub.status.idle": "2023-08-13T13:11:44.571319Z",
     "shell.execute_reply": "2023-08-13T13:11:44.569880Z"
    },
    "papermill": {
     "duration": 0.544776,
     "end_time": "2023-08-13T13:11:44.573605",
     "exception": false,
     "start_time": "2023-08-13T13:11:44.028829",
     "status": "completed"
    },
    "tags": []
   },
   "outputs": [
    {
     "data": {
      "text/plain": [
       "movieid                      0\n",
       "reviewerName                 0\n",
       "isFrequentReviewer           0\n",
       "reviewText                   0\n",
       "sentiment                    0\n",
       "title                        0\n",
       "audienceScore                0\n",
       "releaseDateTheaters          0\n",
       "releaseDateStreaming         0\n",
       "runtimeMinutes               0\n",
       "genre                        0\n",
       "originalLanguage             0\n",
       "director                     0\n",
       "soundType               202424\n",
       "dtype: int64"
      ]
     },
     "execution_count": 57,
     "metadata": {},
     "output_type": "execute_result"
    }
   ],
   "source": [
    "merged_data.isnull().sum()"
   ]
  },
  {
   "cell_type": "code",
   "execution_count": 58,
   "id": "e174bdb3",
   "metadata": {
    "execution": {
     "iopub.execute_input": "2023-08-13T13:11:44.629235Z",
     "iopub.status.busy": "2023-08-13T13:11:44.628876Z",
     "iopub.status.idle": "2023-08-13T13:11:46.053187Z",
     "shell.execute_reply": "2023-08-13T13:11:46.052281Z"
    },
    "papermill": {
     "duration": 1.455263,
     "end_time": "2023-08-13T13:11:46.055783",
     "exception": false,
     "start_time": "2023-08-13T13:11:44.600520",
     "status": "completed"
    },
    "tags": []
   },
   "outputs": [
    {
     "data": {
      "image/png": "[encoded data removed]",
      "text/plain": [
       "<Figure size 800x600 with 1 Axes>"
      ]
     },
     "metadata": {},
     "output_type": "display_data"
    }
   ],
   "source": [
    "# Distribution of 'audienceScore'\n",
    "plt.figure(figsize=(8, 6))\n",
    "sns.histplot(merged_data['audienceScore'], bins=20, kde=True)\n",
    "plt.title('Distribution of audienceScore')\n",
    "plt.xlabel('audienceScore')\n",
    "plt.ylabel('Frequency')\n",
    "plt.show()"
   ]
  },
  {
   "cell_type": "code",
   "execution_count": 59,
   "id": "938dc7e2",
   "metadata": {
    "execution": {
     "iopub.execute_input": "2023-08-13T13:11:46.115608Z",
     "iopub.status.busy": "2023-08-13T13:11:46.115205Z",
     "iopub.status.idle": "2023-08-13T13:11:46.284017Z",
     "shell.execute_reply": "2023-08-13T13:11:46.282403Z"
    },
    "papermill": {
     "duration": 0.202418,
     "end_time": "2023-08-13T13:11:46.286542",
     "exception": false,
     "start_time": "2023-08-13T13:11:46.084124",
     "status": "completed"
    },
    "tags": []
   },
   "outputs": [
    {
     "data": {
      "image/png": "[encoded data removed]",
      "text/plain": [
       "<Figure size 600x400 with 1 Axes>"
      ]
     },
     "metadata": {},
     "output_type": "display_data"
    }
   ],
   "source": [
    "# Boxplot to identify outliers in 'runtimeMinutes'\n",
    "plt.figure(figsize=(6, 4))\n",
    "sns.boxplot(data=merged_data, x='runtimeMinutes')\n",
    "plt.title('Boxplot of runtimeMinutes')\n",
    "plt.show()"
   ]
  },
  {
   "cell_type": "code",
   "execution_count": 60,
   "id": "25ce1138",
   "metadata": {
    "execution": {
     "iopub.execute_input": "2023-08-13T13:11:46.344888Z",
     "iopub.status.busy": "2023-08-13T13:11:46.344503Z",
     "iopub.status.idle": "2023-08-13T13:11:48.503261Z",
     "shell.execute_reply": "2023-08-13T13:11:48.501922Z"
    },
    "papermill": {
     "duration": 2.190742,
     "end_time": "2023-08-13T13:11:48.505859",
     "exception": false,
     "start_time": "2023-08-13T13:11:46.315117",
     "status": "completed"
    },
    "tags": []
   },
   "outputs": [],
   "source": [
    "# Data Preprocessing\n",
    "def preprocess_text(text):\n",
    "    if pd.isnull(text):\n",
    "        return ''\n",
    "    else:\n",
    "        # Convert text to lowercase\n",
    "        text = text.lower()\n",
    "\n",
    "        # Remove non-alphanumeric characters except full stops and commas\n",
    "        text = re.sub(r'[^a-zA-Z0-9\\s.,]', '', text)\n",
    "\n",
    "        # Remove any extra spaces\n",
    "        text = re.sub(r'\\s+', ' ', text)\n",
    "\n",
    "        return text\n",
    "\n",
    "# Apply text preprocessing on reviewText column\n",
    "train['reviewText'] = train['reviewText'].apply(preprocess_text)\n",
    "test['reviewText'] = test['reviewText'].apply(preprocess_text)"
   ]
  },
  {
   "cell_type": "code",
   "execution_count": 61,
   "id": "b74373ae",
   "metadata": {
    "execution": {
     "iopub.execute_input": "2023-08-13T13:11:48.561531Z",
     "iopub.status.busy": "2023-08-13T13:11:48.561163Z",
     "iopub.status.idle": "2023-08-13T13:11:48.565255Z",
     "shell.execute_reply": "2023-08-13T13:11:48.564620Z"
    },
    "papermill": {
     "duration": 0.034549,
     "end_time": "2023-08-13T13:11:48.567481",
     "exception": false,
     "start_time": "2023-08-13T13:11:48.532932",
     "status": "completed"
    },
    "tags": []
   },
   "outputs": [],
   "source": [
    "# Use Stratified Shuffle Split for 5-fold cross-validation\n",
    "stratified_split = StratifiedShuffleSplit(n_splits=5, test_size=0.2, random_state=120)"
   ]
  },
  {
   "cell_type": "code",
   "execution_count": 62,
   "id": "27c19511",
   "metadata": {
    "execution": {
     "iopub.execute_input": "2023-08-13T13:11:48.626282Z",
     "iopub.status.busy": "2023-08-13T13:11:48.625700Z",
     "iopub.status.idle": "2023-08-13T13:11:48.629292Z",
     "shell.execute_reply": "2023-08-13T13:11:48.628686Z"
    },
    "papermill": {
     "duration": 0.035526,
     "end_time": "2023-08-13T13:11:48.631384",
     "exception": false,
     "start_time": "2023-08-13T13:11:48.595858",
     "status": "completed"
    },
    "tags": []
   },
   "outputs": [],
   "source": [
    "# Initialize lists to store evaluation metrics from each fold\n",
    "train_log_losses = []\n",
    "test_log_losses = []\n",
    "accuracies = []"
   ]
  },
  {
   "cell_type": "code",
   "execution_count": 63,
   "id": "e5e6d8d3",
   "metadata": {
    "execution": {
     "iopub.execute_input": "2023-08-13T13:11:48.689645Z",
     "iopub.status.busy": "2023-08-13T13:11:48.689263Z",
     "iopub.status.idle": "2023-08-13T13:11:51.513744Z",
     "shell.execute_reply": "2023-08-13T13:11:51.512618Z"
    },
    "papermill": {
     "duration": 2.856174,
     "end_time": "2023-08-13T13:11:51.516337",
     "exception": false,
     "start_time": "2023-08-13T13:11:48.660163",
     "status": "completed"
    },
    "tags": []
   },
   "outputs": [],
   "source": [
    "for train_index, test_index in stratified_split.split(merged_data['reviewText'], merged_data['sentiment']):\n",
    "    X_train, X_test = merged_data.iloc[train_index]['reviewText'], merged_data.iloc[test_index]['reviewText']\n",
    "    y_train, y_test = merged_data.iloc[train_index]['sentiment'], merged_data.iloc[test_index]['sentiment']"
   ]
  },
  {
   "cell_type": "code",
   "execution_count": 64,
   "id": "52c8637e",
   "metadata": {
    "execution": {
     "iopub.execute_input": "2023-08-13T13:11:51.574035Z",
     "iopub.status.busy": "2023-08-13T13:11:51.572555Z",
     "iopub.status.idle": "2023-08-13T13:11:57.796445Z",
     "shell.execute_reply": "2023-08-13T13:11:57.795302Z"
    },
    "papermill": {
     "duration": 6.254724,
     "end_time": "2023-08-13T13:11:57.798698",
     "exception": false,
     "start_time": "2023-08-13T13:11:51.543974",
     "status": "completed"
    },
    "tags": []
   },
   "outputs": [],
   "source": [
    "# Create a TfidfVectorizer\n",
    "vectorizer = TfidfVectorizer()\n",
    "\n",
    "# Fit and transform the training data\n",
    "X_train_vectorized = vectorizer.fit_transform(X_train)\n",
    "\n",
    "# Transform the testing data\n",
    "X_test_vectorized = vectorizer.transform(X_test)"
   ]
  },
  {
   "cell_type": "code",
   "execution_count": 65,
   "id": "adc13337",
   "metadata": {
    "execution": {
     "iopub.execute_input": "2023-08-13T13:11:57.857145Z",
     "iopub.status.busy": "2023-08-13T13:11:57.856756Z",
     "iopub.status.idle": "2023-08-13T13:11:57.861867Z",
     "shell.execute_reply": "2023-08-13T13:11:57.860033Z"
    },
    "papermill": {
     "duration": 0.037573,
     "end_time": "2023-08-13T13:11:57.864611",
     "exception": false,
     "start_time": "2023-08-13T13:11:57.827038",
     "status": "completed"
    },
    "tags": []
   },
   "outputs": [],
   "source": [
    "# The resulting X_train_vectorized and X_test_vectorized matrices contain numerical representations of the text data, where each row corresponds to a document (movie review) and each column represents a unique word in the vocabulary. The values in the matrix represent the importance (TF-IDF score) of each word in each document, which can be used as input features for machine learning models."
   ]
  },
  {
   "cell_type": "code",
   "execution_count": 66,
   "id": "34e0a540",
   "metadata": {
    "execution": {
     "iopub.execute_input": "2023-08-13T13:11:57.922833Z",
     "iopub.status.busy": "2023-08-13T13:11:57.922415Z",
     "iopub.status.idle": "2023-08-13T13:11:57.929208Z",
     "shell.execute_reply": "2023-08-13T13:11:57.928076Z"
    },
    "papermill": {
     "duration": 0.038844,
     "end_time": "2023-08-13T13:11:57.932340",
     "exception": false,
     "start_time": "2023-08-13T13:11:57.893496",
     "status": "completed"
    },
    "tags": []
   },
   "outputs": [
    {
     "data": {
      "text/plain": [
       "(246383, 88805)"
      ]
     },
     "execution_count": 66,
     "metadata": {},
     "output_type": "execute_result"
    }
   ],
   "source": [
    "X_train_vectorized.shape"
   ]
  },
  {
   "cell_type": "code",
   "execution_count": 67,
   "id": "72ba2447",
   "metadata": {
    "execution": {
     "iopub.execute_input": "2023-08-13T13:11:57.995554Z",
     "iopub.status.busy": "2023-08-13T13:11:57.994936Z",
     "iopub.status.idle": "2023-08-13T13:11:58.002512Z",
     "shell.execute_reply": "2023-08-13T13:11:58.001084Z"
    },
    "papermill": {
     "duration": 0.040833,
     "end_time": "2023-08-13T13:11:58.005410",
     "exception": false,
     "start_time": "2023-08-13T13:11:57.964577",
     "status": "completed"
    },
    "tags": []
   },
   "outputs": [
    {
     "data": {
      "text/plain": [
       "(61596, 88805)"
      ]
     },
     "execution_count": 67,
     "metadata": {},
     "output_type": "execute_result"
    }
   ],
   "source": [
    "X_test_vectorized.shape"
   ]
  },
  {
   "cell_type": "code",
   "execution_count": 68,
   "id": "e2ca52df",
   "metadata": {
    "execution": {
     "iopub.execute_input": "2023-08-13T13:11:58.076996Z",
     "iopub.status.busy": "2023-08-13T13:11:58.075865Z",
     "iopub.status.idle": "2023-08-13T13:11:58.082084Z",
     "shell.execute_reply": "2023-08-13T13:11:58.080770Z"
    },
    "papermill": {
     "duration": 0.043246,
     "end_time": "2023-08-13T13:11:58.084129",
     "exception": false,
     "start_time": "2023-08-13T13:11:58.040883",
     "status": "completed"
    },
    "tags": []
   },
   "outputs": [
    {
     "data": {
      "text/plain": [
       "(246383,)"
      ]
     },
     "execution_count": 68,
     "metadata": {},
     "output_type": "execute_result"
    }
   ],
   "source": [
    "y_train.shape"
   ]
  },
  {
   "cell_type": "code",
   "execution_count": 69,
   "id": "ed7cf78e",
   "metadata": {
    "execution": {
     "iopub.execute_input": "2023-08-13T13:11:58.142649Z",
     "iopub.status.busy": "2023-08-13T13:11:58.142288Z",
     "iopub.status.idle": "2023-08-13T13:11:58.147179Z",
     "shell.execute_reply": "2023-08-13T13:11:58.146548Z"
    },
    "papermill": {
     "duration": 0.03656,
     "end_time": "2023-08-13T13:11:58.148893",
     "exception": false,
     "start_time": "2023-08-13T13:11:58.112333",
     "status": "completed"
    },
    "tags": []
   },
   "outputs": [
    {
     "data": {
      "text/plain": [
       "(61596,)"
      ]
     },
     "execution_count": 69,
     "metadata": {},
     "output_type": "execute_result"
    }
   ],
   "source": [
    "y_test.shape"
   ]
  },
  {
   "cell_type": "code",
   "execution_count": 70,
   "id": "d4f2e046",
   "metadata": {
    "execution": {
     "iopub.execute_input": "2023-08-13T13:11:58.210001Z",
     "iopub.status.busy": "2023-08-13T13:11:58.209161Z",
     "iopub.status.idle": "2023-08-13T13:11:58.214114Z",
     "shell.execute_reply": "2023-08-13T13:11:58.212917Z"
    },
    "papermill": {
     "duration": 0.035982,
     "end_time": "2023-08-13T13:11:58.216148",
     "exception": false,
     "start_time": "2023-08-13T13:11:58.180166",
     "status": "completed"
    },
    "tags": []
   },
   "outputs": [],
   "source": [
    "from sklearn.pipeline import make_pipeline"
   ]
  },
  {
   "cell_type": "code",
   "execution_count": 71,
   "id": "2b031fff",
   "metadata": {
    "execution": {
     "iopub.execute_input": "2023-08-13T13:11:58.275491Z",
     "iopub.status.busy": "2023-08-13T13:11:58.275101Z",
     "iopub.status.idle": "2023-08-13T13:11:58.279803Z",
     "shell.execute_reply": "2023-08-13T13:11:58.278388Z"
    },
    "papermill": {
     "duration": 0.037986,
     "end_time": "2023-08-13T13:11:58.282728",
     "exception": false,
     "start_time": "2023-08-13T13:11:58.244742",
     "status": "completed"
    },
    "tags": []
   },
   "outputs": [],
   "source": [
    "# Build logistic regression model\n",
    "pipeline = make_pipeline(LogisticRegression())"
   ]
  },
  {
   "cell_type": "code",
   "execution_count": 72,
   "id": "d3e0fe48",
   "metadata": {
    "execution": {
     "iopub.execute_input": "2023-08-13T13:11:58.340965Z",
     "iopub.status.busy": "2023-08-13T13:11:58.340577Z",
     "iopub.status.idle": "2023-08-13T13:11:58.345361Z",
     "shell.execute_reply": "2023-08-13T13:11:58.344699Z"
    },
    "papermill": {
     "duration": 0.036866,
     "end_time": "2023-08-13T13:11:58.347466",
     "exception": false,
     "start_time": "2023-08-13T13:11:58.310600",
     "status": "completed"
    },
    "tags": []
   },
   "outputs": [],
   "source": [
    "# Define the hyperparameters to tune\n",
    "param_grid = {\n",
    "    'logisticregression__C': [0.1, 1, 10],  # Try different regularization strengths\n",
    "    'logisticregression__penalty': ['l2'],  # Regularization penalty ('l1' for Lasso, 'l2' for Ridge)\n",
    "    'logisticregression__solver': ['newton-cg', 'lbfgs', 'saga'],  # Solvers for optimization\n",
    "    'logisticregression__max_iter': [3000,3500,4500],  # Maximum number of iterations for optimization\n",
    "    'logisticregression__class_weight': [None, 'balanced'],  # Weight classes to address class imbalance\n",
    "}"
   ]
  },
  {
   "cell_type": "code",
   "execution_count": 73,
   "id": "cee9a16c",
   "metadata": {
    "execution": {
     "iopub.execute_input": "2023-08-13T13:11:58.406214Z",
     "iopub.status.busy": "2023-08-13T13:11:58.405231Z",
     "iopub.status.idle": "2023-08-13T13:13:58.724011Z",
     "shell.execute_reply": "2023-08-13T13:13:58.722547Z"
    },
    "papermill": {
     "duration": 120.381891,
     "end_time": "2023-08-13T13:13:58.757653",
     "exception": false,
     "start_time": "2023-08-13T13:11:58.375762",
     "status": "completed"
    },
    "tags": []
   },
   "outputs": [
    {
     "data": {
      "text/html": [
       "<style>#sk-container-id-1 {color: black;background-color: white;}#sk-container-id-1 pre{padding: 0;}#sk-container-id-1 div.sk-toggleable {background-color: white;}#sk-container-id-1 label.sk-toggleable__label {cursor: pointer;display: block;width: 100%;margin-bottom: 0;padding: 0.3em;box-sizing: border-box;text-align: center;}#sk-container-id-1 label.sk-toggleable__label-arrow:before {content: \"▸\";float: left;margin-right: 0.25em;color: #696969;}#sk-container-id-1 label.sk-toggleable__label-arrow:hover:before {color: black;}#sk-container-id-1 div.sk-estimator:hover label.sk-toggleable__label-arrow:before {color: black;}#sk-container-id-1 div.sk-toggleable__content {max-height: 0;max-width: 0;overflow: hidden;text-align: left;background-color: #f0f8ff;}#sk-container-id-1 div.sk-toggleable__content pre {margin: 0.2em;color: black;border-radius: 0.25em;background-color: #f0f8ff;}#sk-container-id-1 input.sk-toggleable__control:checked~div.sk-toggleable__content {max-height: 200px;max-width: 100%;overflow: auto;}#sk-container-id-1 input.sk-toggleable__control:checked~label.sk-toggleable__label-arrow:before {content: \"▾\";}#sk-container-id-1 div.sk-estimator input.sk-toggleable__control:checked~label.sk-toggleable__label {background-color: #d4ebff;}#sk-container-id-1 div.sk-label input.sk-toggleable__control:checked~label.sk-toggleable__label {background-color: #d4ebff;}#sk-container-id-1 input.sk-hidden--visually {border: 0;clip: rect(1px 1px 1px 1px);clip: rect(1px, 1px, 1px, 1px);height: 1px;margin: -1px;overflow: hidden;padding: 0;position: absolute;width: 1px;}#sk-container-id-1 div.sk-estimator {font-family: monospace;background-color: #f0f8ff;border: 1px dotted black;border-radius: 0.25em;box-sizing: border-box;margin-bottom: 0.5em;}#sk-container-id-1 div.sk-estimator:hover {background-color: #d4ebff;}#sk-container-id-1 div.sk-parallel-item::after {content: \"\";width: 100%;border-bottom: 1px solid gray;flex-grow: 1;}#sk-container-id-1 div.sk-label:hover label.sk-toggleable__label {background-color: #d4ebff;}#sk-container-id-1 div.sk-serial::before {content: \"\";position: absolute;border-left: 1px solid gray;box-sizing: border-box;top: 0;bottom: 0;left: 50%;z-index: 0;}#sk-container-id-1 div.sk-serial {display: flex;flex-direction: column;align-items: center;background-color: white;padding-right: 0.2em;padding-left: 0.2em;position: relative;}#sk-container-id-1 div.sk-item {position: relative;z-index: 1;}#sk-container-id-1 div.sk-parallel {display: flex;align-items: stretch;justify-content: center;background-color: white;position: relative;}#sk-container-id-1 div.sk-item::before, #sk-container-id-1 div.sk-parallel-item::before {content: \"\";position: absolute;border-left: 1px solid gray;box-sizing: border-box;top: 0;bottom: 0;left: 50%;z-index: -1;}#sk-container-id-1 div.sk-parallel-item {display: flex;flex-direction: column;z-index: 1;position: relative;background-color: white;}#sk-container-id-1 div.sk-parallel-item:first-child::after {align-self: flex-end;width: 50%;}#sk-container-id-1 div.sk-parallel-item:last-child::after {align-self: flex-start;width: 50%;}#sk-container-id-1 div.sk-parallel-item:only-child::after {width: 0;}#sk-container-id-1 div.sk-dashed-wrapped {border: 1px dashed gray;margin: 0 0.4em 0.5em 0.4em;box-sizing: border-box;padding-bottom: 0.4em;background-color: white;}#sk-container-id-1 div.sk-label label {font-family: monospace;font-weight: bold;display: inline-block;line-height: 1.2em;}#sk-container-id-1 div.sk-label-container {text-align: center;}#sk-container-id-1 div.sk-container {/* jupyter's `normalize.less` sets `[hidden] { display: none; }` but bootstrap.min.css set `[hidden] { display: none !important; }` so we also need the `!important` here to be able to override the default hidden behavior on the sphinx rendered scikit-learn.org. See: https://github.com/scikit-learn/scikit-learn/issues/21755 */display: inline-block !important;position: relative;}#sk-container-id-1 div.sk-text-repr-fallback {display: none;}</style><div id=\"sk-container-id-1\" class=\"sk-top-container\"><div class=\"sk-text-repr-fallback\"><pre>RandomizedSearchCV(cv=5,\n",
       "                   estimator=Pipeline(steps=[(&#x27;logisticregression&#x27;,\n",
       "                                              LogisticRegression())]),\n",
       "                   n_iter=5, n_jobs=-1,\n",
       "                   param_distributions={&#x27;logisticregression__C&#x27;: [0.1, 1, 10],\n",
       "                                        &#x27;logisticregression__class_weight&#x27;: [None,\n",
       "                                                                             &#x27;balanced&#x27;],\n",
       "                                        &#x27;logisticregression__max_iter&#x27;: [3000,\n",
       "                                                                         3500,\n",
       "                                                                         4500],\n",
       "                                        &#x27;logisticregression__penalty&#x27;: [&#x27;l2&#x27;],\n",
       "                                        &#x27;logisticregression__solver&#x27;: [&#x27;newton-cg&#x27;,\n",
       "                                                                       &#x27;lbfgs&#x27;,\n",
       "                                                                       &#x27;saga&#x27;]},\n",
       "                   random_state=42, scoring=&#x27;accuracy&#x27;)</pre><b>In a Jupyter environment, please rerun this cell to show the HTML representation or trust the notebook. <br />On GitHub, the HTML representation is unable to render, please try loading this page with nbviewer.org.</b></div><div class=\"sk-container\" hidden><div class=\"sk-item sk-dashed-wrapped\"><div class=\"sk-label-container\"><div class=\"sk-label sk-toggleable\"><input class=\"sk-toggleable__control sk-hidden--visually\" id=\"sk-estimator-id-1\" type=\"checkbox\" ><label for=\"sk-estimator-id-1\" class=\"sk-toggleable__label sk-toggleable__label-arrow\">RandomizedSearchCV</label><div class=\"sk-toggleable__content\"><pre>RandomizedSearchCV(cv=5,\n",
       "                   estimator=Pipeline(steps=[(&#x27;logisticregression&#x27;,\n",
       "                                              LogisticRegression())]),\n",
       "                   n_iter=5, n_jobs=-1,\n",
       "                   param_distributions={&#x27;logisticregression__C&#x27;: [0.1, 1, 10],\n",
       "                                        &#x27;logisticregression__class_weight&#x27;: [None,\n",
       "                                                                             &#x27;balanced&#x27;],\n",
       "                                        &#x27;logisticregression__max_iter&#x27;: [3000,\n",
       "                                                                         3500,\n",
       "                                                                         4500],\n",
       "                                        &#x27;logisticregression__penalty&#x27;: [&#x27;l2&#x27;],\n",
       "                                        &#x27;logisticregression__solver&#x27;: [&#x27;newton-cg&#x27;,\n",
       "                                                                       &#x27;lbfgs&#x27;,\n",
       "                                                                       &#x27;saga&#x27;]},\n",
       "                   random_state=42, scoring=&#x27;accuracy&#x27;)</pre></div></div></div><div class=\"sk-parallel\"><div class=\"sk-parallel-item\"><div class=\"sk-item\"><div class=\"sk-label-container\"><div class=\"sk-label sk-toggleable\"><input class=\"sk-toggleable__control sk-hidden--visually\" id=\"sk-estimator-id-2\" type=\"checkbox\" ><label for=\"sk-estimator-id-2\" class=\"sk-toggleable__label sk-toggleable__label-arrow\">estimator: Pipeline</label><div class=\"sk-toggleable__content\"><pre>Pipeline(steps=[(&#x27;logisticregression&#x27;, LogisticRegression())])</pre></div></div></div><div class=\"sk-serial\"><div class=\"sk-item\"><div class=\"sk-serial\"><div class=\"sk-item\"><div class=\"sk-estimator sk-toggleable\"><input class=\"sk-toggleable__control sk-hidden--visually\" id=\"sk-estimator-id-3\" type=\"checkbox\" ><label for=\"sk-estimator-id-3\" class=\"sk-toggleable__label sk-toggleable__label-arrow\">LogisticRegression</label><div class=\"sk-toggleable__content\"><pre>LogisticRegression()</pre></div></div></div></div></div></div></div></div></div></div></div></div>"
      ],
      "text/plain": [
       "RandomizedSearchCV(cv=5,\n",
       "                   estimator=Pipeline(steps=[('logisticregression',\n",
       "                                              LogisticRegression())]),\n",
       "                   n_iter=5, n_jobs=-1,\n",
       "                   param_distributions={'logisticregression__C': [0.1, 1, 10],\n",
       "                                        'logisticregression__class_weight': [None,\n",
       "                                                                             'balanced'],\n",
       "                                        'logisticregression__max_iter': [3000,\n",
       "                                                                         3500,\n",
       "                                                                         4500],\n",
       "                                        'logisticregression__penalty': ['l2'],\n",
       "                                        'logisticregression__solver': ['newton-cg',\n",
       "                                                                       'lbfgs',\n",
       "                                                                       'saga']},\n",
       "                   random_state=42, scoring='accuracy')"
      ]
     },
     "execution_count": 73,
     "metadata": {},
     "output_type": "execute_result"
    }
   ],
   "source": [
    "# Perform Randomized Search Cross-Validation\n",
    "randomized_search = RandomizedSearchCV(pipeline, param_grid, cv=5, scoring='accuracy', n_jobs=-1, n_iter=5, random_state=42)\n",
    "randomized_search.fit(X_train_vectorized, y_train)"
   ]
  },
  {
   "cell_type": "code",
   "execution_count": 74,
   "id": "a9acc810",
   "metadata": {
    "execution": {
     "iopub.execute_input": "2023-08-13T13:13:58.822692Z",
     "iopub.status.busy": "2023-08-13T13:13:58.822036Z",
     "iopub.status.idle": "2023-08-13T13:13:58.827599Z",
     "shell.execute_reply": "2023-08-13T13:13:58.826673Z"
    },
    "papermill": {
     "duration": 0.044194,
     "end_time": "2023-08-13T13:13:58.829516",
     "exception": false,
     "start_time": "2023-08-13T13:13:58.785322",
     "status": "completed"
    },
    "tags": []
   },
   "outputs": [
    {
     "name": "stdout",
     "output_type": "stream",
     "text": [
      "Best Hyperparameters: {'logisticregression__solver': 'saga', 'logisticregression__penalty': 'l2', 'logisticregression__max_iter': 4500, 'logisticregression__class_weight': None, 'logisticregression__C': 10}\n",
      "Best CV Score: 0.8712127201858559\n"
     ]
    }
   ],
   "source": [
    "# Get the best hyperparameters and the best score\n",
    "best_params = randomized_search.best_params_\n",
    "best_score = randomized_search.best_score_\n",
    "print(\"Best Hyperparameters:\", best_params)\n",
    "print(\"Best CV Score:\", best_score)"
   ]
  },
  {
   "cell_type": "code",
   "execution_count": 75,
   "id": "3ccf7b65",
   "metadata": {
    "execution": {
     "iopub.execute_input": "2023-08-13T13:13:58.949241Z",
     "iopub.status.busy": "2023-08-13T13:13:58.948526Z",
     "iopub.status.idle": "2023-08-13T13:14:18.544775Z",
     "shell.execute_reply": "2023-08-13T13:14:18.543297Z"
    },
    "papermill": {
     "duration": 19.629365,
     "end_time": "2023-08-13T13:14:18.547543",
     "exception": false,
     "start_time": "2023-08-13T13:13:58.918178",
     "status": "completed"
    },
    "tags": []
   },
   "outputs": [
    {
     "data": {
      "text/html": [
       "<style>#sk-container-id-2 {color: black;background-color: white;}#sk-container-id-2 pre{padding: 0;}#sk-container-id-2 div.sk-toggleable {background-color: white;}#sk-container-id-2 label.sk-toggleable__label {cursor: pointer;display: block;width: 100%;margin-bottom: 0;padding: 0.3em;box-sizing: border-box;text-align: center;}#sk-container-id-2 label.sk-toggleable__label-arrow:before {content: \"▸\";float: left;margin-right: 0.25em;color: #696969;}#sk-container-id-2 label.sk-toggleable__label-arrow:hover:before {color: black;}#sk-container-id-2 div.sk-estimator:hover label.sk-toggleable__label-arrow:before {color: black;}#sk-container-id-2 div.sk-toggleable__content {max-height: 0;max-width: 0;overflow: hidden;text-align: left;background-color: #f0f8ff;}#sk-container-id-2 div.sk-toggleable__content pre {margin: 0.2em;color: black;border-radius: 0.25em;background-color: #f0f8ff;}#sk-container-id-2 input.sk-toggleable__control:checked~div.sk-toggleable__content {max-height: 200px;max-width: 100%;overflow: auto;}#sk-container-id-2 input.sk-toggleable__control:checked~label.sk-toggleable__label-arrow:before {content: \"▾\";}#sk-container-id-2 div.sk-estimator input.sk-toggleable__control:checked~label.sk-toggleable__label {background-color: #d4ebff;}#sk-container-id-2 div.sk-label input.sk-toggleable__control:checked~label.sk-toggleable__label {background-color: #d4ebff;}#sk-container-id-2 input.sk-hidden--visually {border: 0;clip: rect(1px 1px 1px 1px);clip: rect(1px, 1px, 1px, 1px);height: 1px;margin: -1px;overflow: hidden;padding: 0;position: absolute;width: 1px;}#sk-container-id-2 div.sk-estimator {font-family: monospace;background-color: #f0f8ff;border: 1px dotted black;border-radius: 0.25em;box-sizing: border-box;margin-bottom: 0.5em;}#sk-container-id-2 div.sk-estimator:hover {background-color: #d4ebff;}#sk-container-id-2 div.sk-parallel-item::after {content: \"\";width: 100%;border-bottom: 1px solid gray;flex-grow: 1;}#sk-container-id-2 div.sk-label:hover label.sk-toggleable__label {background-color: #d4ebff;}#sk-container-id-2 div.sk-serial::before {content: \"\";position: absolute;border-left: 1px solid gray;box-sizing: border-box;top: 0;bottom: 0;left: 50%;z-index: 0;}#sk-container-id-2 div.sk-serial {display: flex;flex-direction: column;align-items: center;background-color: white;padding-right: 0.2em;padding-left: 0.2em;position: relative;}#sk-container-id-2 div.sk-item {position: relative;z-index: 1;}#sk-container-id-2 div.sk-parallel {display: flex;align-items: stretch;justify-content: center;background-color: white;position: relative;}#sk-container-id-2 div.sk-item::before, #sk-container-id-2 div.sk-parallel-item::before {content: \"\";position: absolute;border-left: 1px solid gray;box-sizing: border-box;top: 0;bottom: 0;left: 50%;z-index: -1;}#sk-container-id-2 div.sk-parallel-item {display: flex;flex-direction: column;z-index: 1;position: relative;background-color: white;}#sk-container-id-2 div.sk-parallel-item:first-child::after {align-self: flex-end;width: 50%;}#sk-container-id-2 div.sk-parallel-item:last-child::after {align-self: flex-start;width: 50%;}#sk-container-id-2 div.sk-parallel-item:only-child::after {width: 0;}#sk-container-id-2 div.sk-dashed-wrapped {border: 1px dashed gray;margin: 0 0.4em 0.5em 0.4em;box-sizing: border-box;padding-bottom: 0.4em;background-color: white;}#sk-container-id-2 div.sk-label label {font-family: monospace;font-weight: bold;display: inline-block;line-height: 1.2em;}#sk-container-id-2 div.sk-label-container {text-align: center;}#sk-container-id-2 div.sk-container {/* jupyter's `normalize.less` sets `[hidden] { display: none; }` but bootstrap.min.css set `[hidden] { display: none !important; }` so we also need the `!important` here to be able to override the default hidden behavior on the sphinx rendered scikit-learn.org. See: https://github.com/scikit-learn/scikit-learn/issues/21755 */display: inline-block !important;position: relative;}#sk-container-id-2 div.sk-text-repr-fallback {display: none;}</style><div id=\"sk-container-id-2\" class=\"sk-top-container\"><div class=\"sk-text-repr-fallback\"><pre>Pipeline(steps=[(&#x27;logisticregression&#x27;,\n",
       "                 LogisticRegression(C=10, max_iter=4500, solver=&#x27;saga&#x27;))])</pre><b>In a Jupyter environment, please rerun this cell to show the HTML representation or trust the notebook. <br />On GitHub, the HTML representation is unable to render, please try loading this page with nbviewer.org.</b></div><div class=\"sk-container\" hidden><div class=\"sk-item sk-dashed-wrapped\"><div class=\"sk-label-container\"><div class=\"sk-label sk-toggleable\"><input class=\"sk-toggleable__control sk-hidden--visually\" id=\"sk-estimator-id-4\" type=\"checkbox\" ><label for=\"sk-estimator-id-4\" class=\"sk-toggleable__label sk-toggleable__label-arrow\">Pipeline</label><div class=\"sk-toggleable__content\"><pre>Pipeline(steps=[(&#x27;logisticregression&#x27;,\n",
       "                 LogisticRegression(C=10, max_iter=4500, solver=&#x27;saga&#x27;))])</pre></div></div></div><div class=\"sk-serial\"><div class=\"sk-item\"><div class=\"sk-estimator sk-toggleable\"><input class=\"sk-toggleable__control sk-hidden--visually\" id=\"sk-estimator-id-5\" type=\"checkbox\" ><label for=\"sk-estimator-id-5\" class=\"sk-toggleable__label sk-toggleable__label-arrow\">LogisticRegression</label><div class=\"sk-toggleable__content\"><pre>LogisticRegression(C=10, max_iter=4500, solver=&#x27;saga&#x27;)</pre></div></div></div></div></div></div></div>"
      ],
      "text/plain": [
       "Pipeline(steps=[('logisticregression',\n",
       "                 LogisticRegression(C=10, max_iter=4500, solver='saga'))])"
      ]
     },
     "execution_count": 75,
     "metadata": {},
     "output_type": "execute_result"
    }
   ],
   "source": [
    "# Fit the model with best hyperparameters on the full training data\n",
    "best_model = randomized_search.best_estimator_\n",
    "best_model.fit(X_train_vectorized, y_train)"
   ]
  },
  {
   "cell_type": "code",
   "execution_count": 76,
   "id": "666b53fc",
   "metadata": {
    "execution": {
     "iopub.execute_input": "2023-08-13T13:14:18.606954Z",
     "iopub.status.busy": "2023-08-13T13:14:18.606455Z",
     "iopub.status.idle": "2023-08-13T13:14:18.626869Z",
     "shell.execute_reply": "2023-08-13T13:14:18.626043Z"
    },
    "papermill": {
     "duration": 0.052579,
     "end_time": "2023-08-13T13:14:18.629087",
     "exception": false,
     "start_time": "2023-08-13T13:14:18.576508",
     "status": "completed"
    },
    "tags": []
   },
   "outputs": [],
   "source": [
    "# Predict on the training and testing data\n",
    "y_train_pred = best_model.predict(X_train_vectorized)\n",
    "y_test_pred = best_model.predict(X_test_vectorized)"
   ]
  },
  {
   "cell_type": "code",
   "execution_count": 77,
   "id": "c95b36f1",
   "metadata": {
    "execution": {
     "iopub.execute_input": "2023-08-13T13:14:18.687924Z",
     "iopub.status.busy": "2023-08-13T13:14:18.687180Z",
     "iopub.status.idle": "2023-08-13T13:14:19.261896Z",
     "shell.execute_reply": "2023-08-13T13:14:19.260703Z"
    },
    "papermill": {
     "duration": 0.606809,
     "end_time": "2023-08-13T13:14:19.263705",
     "exception": false,
     "start_time": "2023-08-13T13:14:18.656896",
     "status": "completed"
    },
    "tags": []
   },
   "outputs": [
    {
     "name": "stdout",
     "output_type": "stream",
     "text": [
      "Train Accuracy: 0.9254494019473746\n",
      "Test Accuracy: 0.8780927332943698\n"
     ]
    }
   ],
   "source": [
    "# Evaluate the model\n",
    "train_accuracy = accuracy_score(y_train, y_train_pred)\n",
    "test_accuracy = accuracy_score(y_test, y_test_pred)\n",
    "\n",
    "print(\"Train Accuracy:\", train_accuracy)\n",
    "print(\"Test Accuracy:\", test_accuracy)"
   ]
  },
  {
   "cell_type": "code",
   "execution_count": 78,
   "id": "2f4794de",
   "metadata": {
    "execution": {
     "iopub.execute_input": "2023-08-13T13:14:19.324378Z",
     "iopub.status.busy": "2023-08-13T13:14:19.323881Z",
     "iopub.status.idle": "2023-08-13T13:14:20.185127Z",
     "shell.execute_reply": "2023-08-13T13:14:20.183574Z"
    },
    "papermill": {
     "duration": 0.895351,
     "end_time": "2023-08-13T13:14:20.188248",
     "exception": false,
     "start_time": "2023-08-13T13:14:19.292897",
     "status": "completed"
    },
    "tags": []
   },
   "outputs": [
    {
     "name": "stdout",
     "output_type": "stream",
     "text": [
      "Train Log Loss: 0.2062634391328471\n",
      "Test Log Loss: 0.2927192352962138\n"
     ]
    }
   ],
   "source": [
    "# 1. Loss Function (Logistic Regression uses Log-Loss)\n",
    "# Already imported log_loss from sklearn.metrics\n",
    "\n",
    "# Predict probabilities for the training and testing data\n",
    "y_train_prob = best_model.predict_proba(X_train_vectorized)\n",
    "y_test_prob = best_model.predict_proba(X_test_vectorized)\n",
    "\n",
    "# Calculate log loss for training and testing data\n",
    "train_log_loss = log_loss(y_train, y_train_prob)\n",
    "test_log_loss = log_loss(y_test, y_test_prob)\n",
    "\n",
    "print(\"Train Log Loss:\", train_log_loss)\n",
    "print(\"Test Log Loss:\", test_log_loss)"
   ]
  },
  {
   "cell_type": "code",
   "execution_count": 79,
   "id": "14b3ea8c",
   "metadata": {
    "execution": {
     "iopub.execute_input": "2023-08-13T13:14:20.247334Z",
     "iopub.status.busy": "2023-08-13T13:14:20.246972Z",
     "iopub.status.idle": "2023-08-13T13:14:21.782439Z",
     "shell.execute_reply": "2023-08-13T13:14:21.781768Z"
    },
    "papermill": {
     "duration": 1.56728,
     "end_time": "2023-08-13T13:14:21.784553",
     "exception": false,
     "start_time": "2023-08-13T13:14:20.217273",
     "status": "completed"
    },
    "tags": []
   },
   "outputs": [],
   "source": [
    "# Apply text preprocessing to the test data\n",
    "test_reviews = test['reviewText'].apply(preprocess_text)\n",
    "\n",
    "# Transform the preprocessed test data using the TfidfVectorizer\n",
    "test_reviews_vectorized = vectorizer.transform(test_reviews)\n",
    "\n",
    "# Predict on the test data\n",
    "test_predictions = best_model.predict(test_reviews_vectorized)"
   ]
  },
  {
   "cell_type": "code",
   "execution_count": 80,
   "id": "44392acf",
   "metadata": {
    "execution": {
     "iopub.execute_input": "2023-08-13T13:14:21.845447Z",
     "iopub.status.busy": "2023-08-13T13:14:21.844924Z",
     "iopub.status.idle": "2023-08-13T13:14:21.851017Z",
     "shell.execute_reply": "2023-08-13T13:14:21.850164Z"
    },
    "papermill": {
     "duration": 0.038628,
     "end_time": "2023-08-13T13:14:21.853316",
     "exception": false,
     "start_time": "2023-08-13T13:14:21.814688",
     "status": "completed"
    },
    "tags": []
   },
   "outputs": [
    {
     "data": {
      "text/plain": [
       "array(['POSITIVE', 'POSITIVE', 'POSITIVE', ..., 'POSITIVE', 'POSITIVE',\n",
       "       'NEGATIVE'], dtype=object)"
      ]
     },
     "execution_count": 80,
     "metadata": {},
     "output_type": "execute_result"
    }
   ],
   "source": [
    "test_predictions"
   ]
  },
  {
   "cell_type": "code",
   "execution_count": 81,
   "id": "16b612f7",
   "metadata": {
    "execution": {
     "iopub.execute_input": "2023-08-13T13:14:21.918088Z",
     "iopub.status.busy": "2023-08-13T13:14:21.916619Z",
     "iopub.status.idle": "2023-08-13T13:14:21.924122Z",
     "shell.execute_reply": "2023-08-13T13:14:21.923074Z"
    },
    "papermill": {
     "duration": 0.040948,
     "end_time": "2023-08-13T13:14:21.926107",
     "exception": false,
     "start_time": "2023-08-13T13:14:21.885159",
     "status": "completed"
    },
    "tags": []
   },
   "outputs": [
    {
     "data": {
      "text/plain": [
       "(55315,)"
      ]
     },
     "execution_count": 81,
     "metadata": {},
     "output_type": "execute_result"
    }
   ],
   "source": [
    "test_predictions.shape"
   ]
  },
  {
   "cell_type": "code",
   "execution_count": 82,
   "id": "4ed2152a",
   "metadata": {
    "execution": {
     "iopub.execute_input": "2023-08-13T13:14:21.984939Z",
     "iopub.status.busy": "2023-08-13T13:14:21.984520Z",
     "iopub.status.idle": "2023-08-13T13:14:21.992866Z",
     "shell.execute_reply": "2023-08-13T13:14:21.991922Z"
    },
    "papermill": {
     "duration": 0.040083,
     "end_time": "2023-08-13T13:14:21.994858",
     "exception": false,
     "start_time": "2023-08-13T13:14:21.954775",
     "status": "completed"
    },
    "tags": []
   },
   "outputs": [],
   "source": [
    "# Predict on the test data using the logistic regression model\n",
    "lr_test_predictions = best_model.predict(X_test_vectorized)"
   ]
  },
  {
   "cell_type": "code",
   "execution_count": 83,
   "id": "4a292b13",
   "metadata": {
    "execution": {
     "iopub.execute_input": "2023-08-13T13:14:22.054549Z",
     "iopub.status.busy": "2023-08-13T13:14:22.054189Z",
     "iopub.status.idle": "2023-08-13T13:14:22.168984Z",
     "shell.execute_reply": "2023-08-13T13:14:22.167994Z"
    },
    "papermill": {
     "duration": 0.147807,
     "end_time": "2023-08-13T13:14:22.171234",
     "exception": false,
     "start_time": "2023-08-13T13:14:22.023427",
     "status": "completed"
    },
    "tags": []
   },
   "outputs": [
    {
     "data": {
      "text/plain": [
       "0.8780927332943698"
      ]
     },
     "execution_count": 83,
     "metadata": {},
     "output_type": "execute_result"
    }
   ],
   "source": [
    "lr_test_accuracy = accuracy_score(y_test, lr_test_predictions)\n",
    "lr_test_accuracy"
   ]
  },
  {
   "cell_type": "code",
   "execution_count": 84,
   "id": "3a5e004f",
   "metadata": {
    "execution": {
     "iopub.execute_input": "2023-08-13T13:14:22.231450Z",
     "iopub.status.busy": "2023-08-13T13:14:22.231102Z",
     "iopub.status.idle": "2023-08-13T13:14:22.305497Z",
     "shell.execute_reply": "2023-08-13T13:14:22.304678Z"
    },
    "papermill": {
     "duration": 0.107023,
     "end_time": "2023-08-13T13:14:22.308219",
     "exception": false,
     "start_time": "2023-08-13T13:14:22.201196",
     "status": "completed"
    },
    "tags": []
   },
   "outputs": [],
   "source": [
    "# Create a new DataFrame with movieid and predicted sentiment for logistic regression\n",
    "lr_submission_df = pd.DataFrame({'id': range(len(test)), 'sentiment': test_predictions})\n",
    "\n",
    "# Save the logistic regression submission file\n",
    "lr_submission_df.to_csv('lr_submission.csv', index=False)"
   ]
  },
  {
   "cell_type": "code",
   "execution_count": 85,
   "id": "607cc53f",
   "metadata": {
    "execution": {
     "iopub.execute_input": "2023-08-13T13:14:22.369958Z",
     "iopub.status.busy": "2023-08-13T13:14:22.369539Z",
     "iopub.status.idle": "2023-08-13T13:14:22.375514Z",
     "shell.execute_reply": "2023-08-13T13:14:22.373867Z"
    },
    "papermill": {
     "duration": 0.040052,
     "end_time": "2023-08-13T13:14:22.377896",
     "exception": false,
     "start_time": "2023-08-13T13:14:22.337844",
     "status": "completed"
    },
    "tags": []
   },
   "outputs": [],
   "source": [
    "from sklearn.svm import LinearSVC"
   ]
  },
  {
   "cell_type": "code",
   "execution_count": 86,
   "id": "b268d60d",
   "metadata": {
    "execution": {
     "iopub.execute_input": "2023-08-13T13:14:22.440209Z",
     "iopub.status.busy": "2023-08-13T13:14:22.439845Z",
     "iopub.status.idle": "2023-08-13T13:14:22.446273Z",
     "shell.execute_reply": "2023-08-13T13:14:22.444740Z"
    },
    "papermill": {
     "duration": 0.041206,
     "end_time": "2023-08-13T13:14:22.448817",
     "exception": false,
     "start_time": "2023-08-13T13:14:22.407611",
     "status": "completed"
    },
    "tags": []
   },
   "outputs": [],
   "source": [
    "# Build pipeline with SVC\n",
    "pipeline_svc = make_pipeline(LinearSVC())\n",
    "\n",
    "param_grid_svc = {\n",
    "    'linearsvc__C': [0.01, 0.1, 1, 10],  # Try different regularization strengths\n",
    "    'linearsvc__loss': ['hinge', 'squared_hinge'],  # Loss function options\n",
    "    'linearsvc__max_iter': [1500, 2500, 3000],  # Maximum number of iterations for optimization\n",
    "    'linearsvc__dual': [False, True],  # Use dual or primal formulation\n",
    "    'linearsvc__multi_class': ['ovr', 'crammer_singer'],  # Multi-class strategy options\n",
    "    'linearsvc__fit_intercept': [True, False],  # Whether to fit an intercept term\n",
    "}"
   ]
  },
  {
   "cell_type": "code",
   "execution_count": 87,
   "id": "8e7a58ae",
   "metadata": {
    "execution": {
     "iopub.execute_input": "2023-08-13T13:14:22.508825Z",
     "iopub.status.busy": "2023-08-13T13:14:22.508479Z",
     "iopub.status.idle": "2023-08-13T13:16:52.856711Z",
     "shell.execute_reply": "2023-08-13T13:16:52.855557Z"
    },
    "papermill": {
     "duration": 150.409667,
     "end_time": "2023-08-13T13:16:52.888309",
     "exception": false,
     "start_time": "2023-08-13T13:14:22.478642",
     "status": "completed"
    },
    "tags": []
   },
   "outputs": [
    {
     "data": {
      "text/html": [
       "<style>#sk-container-id-3 {color: black;background-color: white;}#sk-container-id-3 pre{padding: 0;}#sk-container-id-3 div.sk-toggleable {background-color: white;}#sk-container-id-3 label.sk-toggleable__label {cursor: pointer;display: block;width: 100%;margin-bottom: 0;padding: 0.3em;box-sizing: border-box;text-align: center;}#sk-container-id-3 label.sk-toggleable__label-arrow:before {content: \"▸\";float: left;margin-right: 0.25em;color: #696969;}#sk-container-id-3 label.sk-toggleable__label-arrow:hover:before {color: black;}#sk-container-id-3 div.sk-estimator:hover label.sk-toggleable__label-arrow:before {color: black;}#sk-container-id-3 div.sk-toggleable__content {max-height: 0;max-width: 0;overflow: hidden;text-align: left;background-color: #f0f8ff;}#sk-container-id-3 div.sk-toggleable__content pre {margin: 0.2em;color: black;border-radius: 0.25em;background-color: #f0f8ff;}#sk-container-id-3 input.sk-toggleable__control:checked~div.sk-toggleable__content {max-height: 200px;max-width: 100%;overflow: auto;}#sk-container-id-3 input.sk-toggleable__control:checked~label.sk-toggleable__label-arrow:before {content: \"▾\";}#sk-container-id-3 div.sk-estimator input.sk-toggleable__control:checked~label.sk-toggleable__label {background-color: #d4ebff;}#sk-container-id-3 div.sk-label input.sk-toggleable__control:checked~label.sk-toggleable__label {background-color: #d4ebff;}#sk-container-id-3 input.sk-hidden--visually {border: 0;clip: rect(1px 1px 1px 1px);clip: rect(1px, 1px, 1px, 1px);height: 1px;margin: -1px;overflow: hidden;padding: 0;position: absolute;width: 1px;}#sk-container-id-3 div.sk-estimator {font-family: monospace;background-color: #f0f8ff;border: 1px dotted black;border-radius: 0.25em;box-sizing: border-box;margin-bottom: 0.5em;}#sk-container-id-3 div.sk-estimator:hover {background-color: #d4ebff;}#sk-container-id-3 div.sk-parallel-item::after {content: \"\";width: 100%;border-bottom: 1px solid gray;flex-grow: 1;}#sk-container-id-3 div.sk-label:hover label.sk-toggleable__label {background-color: #d4ebff;}#sk-container-id-3 div.sk-serial::before {content: \"\";position: absolute;border-left: 1px solid gray;box-sizing: border-box;top: 0;bottom: 0;left: 50%;z-index: 0;}#sk-container-id-3 div.sk-serial {display: flex;flex-direction: column;align-items: center;background-color: white;padding-right: 0.2em;padding-left: 0.2em;position: relative;}#sk-container-id-3 div.sk-item {position: relative;z-index: 1;}#sk-container-id-3 div.sk-parallel {display: flex;align-items: stretch;justify-content: center;background-color: white;position: relative;}#sk-container-id-3 div.sk-item::before, #sk-container-id-3 div.sk-parallel-item::before {content: \"\";position: absolute;border-left: 1px solid gray;box-sizing: border-box;top: 0;bottom: 0;left: 50%;z-index: -1;}#sk-container-id-3 div.sk-parallel-item {display: flex;flex-direction: column;z-index: 1;position: relative;background-color: white;}#sk-container-id-3 div.sk-parallel-item:first-child::after {align-self: flex-end;width: 50%;}#sk-container-id-3 div.sk-parallel-item:last-child::after {align-self: flex-start;width: 50%;}#sk-container-id-3 div.sk-parallel-item:only-child::after {width: 0;}#sk-container-id-3 div.sk-dashed-wrapped {border: 1px dashed gray;margin: 0 0.4em 0.5em 0.4em;box-sizing: border-box;padding-bottom: 0.4em;background-color: white;}#sk-container-id-3 div.sk-label label {font-family: monospace;font-weight: bold;display: inline-block;line-height: 1.2em;}#sk-container-id-3 div.sk-label-container {text-align: center;}#sk-container-id-3 div.sk-container {/* jupyter's `normalize.less` sets `[hidden] { display: none; }` but bootstrap.min.css set `[hidden] { display: none !important; }` so we also need the `!important` here to be able to override the default hidden behavior on the sphinx rendered scikit-learn.org. See: https://github.com/scikit-learn/scikit-learn/issues/21755 */display: inline-block !important;position: relative;}#sk-container-id-3 div.sk-text-repr-fallback {display: none;}</style><div id=\"sk-container-id-3\" class=\"sk-top-container\"><div class=\"sk-text-repr-fallback\"><pre>RandomizedSearchCV(cv=5, estimator=Pipeline(steps=[(&#x27;linearsvc&#x27;, LinearSVC())]),\n",
       "                   n_iter=5, n_jobs=-1,\n",
       "                   param_distributions={&#x27;linearsvc__C&#x27;: [0.01, 0.1, 1, 10],\n",
       "                                        &#x27;linearsvc__dual&#x27;: [False, True],\n",
       "                                        &#x27;linearsvc__fit_intercept&#x27;: [True,\n",
       "                                                                     False],\n",
       "                                        &#x27;linearsvc__loss&#x27;: [&#x27;hinge&#x27;,\n",
       "                                                            &#x27;squared_hinge&#x27;],\n",
       "                                        &#x27;linearsvc__max_iter&#x27;: [1500, 2500,\n",
       "                                                                3000],\n",
       "                                        &#x27;linearsvc__multi_class&#x27;: [&#x27;ovr&#x27;,\n",
       "                                                                   &#x27;crammer_singer&#x27;]},\n",
       "                   random_state=42, scoring=&#x27;accuracy&#x27;)</pre><b>In a Jupyter environment, please rerun this cell to show the HTML representation or trust the notebook. <br />On GitHub, the HTML representation is unable to render, please try loading this page with nbviewer.org.</b></div><div class=\"sk-container\" hidden><div class=\"sk-item sk-dashed-wrapped\"><div class=\"sk-label-container\"><div class=\"sk-label sk-toggleable\"><input class=\"sk-toggleable__control sk-hidden--visually\" id=\"sk-estimator-id-6\" type=\"checkbox\" ><label for=\"sk-estimator-id-6\" class=\"sk-toggleable__label sk-toggleable__label-arrow\">RandomizedSearchCV</label><div class=\"sk-toggleable__content\"><pre>RandomizedSearchCV(cv=5, estimator=Pipeline(steps=[(&#x27;linearsvc&#x27;, LinearSVC())]),\n",
       "                   n_iter=5, n_jobs=-1,\n",
       "                   param_distributions={&#x27;linearsvc__C&#x27;: [0.01, 0.1, 1, 10],\n",
       "                                        &#x27;linearsvc__dual&#x27;: [False, True],\n",
       "                                        &#x27;linearsvc__fit_intercept&#x27;: [True,\n",
       "                                                                     False],\n",
       "                                        &#x27;linearsvc__loss&#x27;: [&#x27;hinge&#x27;,\n",
       "                                                            &#x27;squared_hinge&#x27;],\n",
       "                                        &#x27;linearsvc__max_iter&#x27;: [1500, 2500,\n",
       "                                                                3000],\n",
       "                                        &#x27;linearsvc__multi_class&#x27;: [&#x27;ovr&#x27;,\n",
       "                                                                   &#x27;crammer_singer&#x27;]},\n",
       "                   random_state=42, scoring=&#x27;accuracy&#x27;)</pre></div></div></div><div class=\"sk-parallel\"><div class=\"sk-parallel-item\"><div class=\"sk-item\"><div class=\"sk-label-container\"><div class=\"sk-label sk-toggleable\"><input class=\"sk-toggleable__control sk-hidden--visually\" id=\"sk-estimator-id-7\" type=\"checkbox\" ><label for=\"sk-estimator-id-7\" class=\"sk-toggleable__label sk-toggleable__label-arrow\">estimator: Pipeline</label><div class=\"sk-toggleable__content\"><pre>Pipeline(steps=[(&#x27;linearsvc&#x27;, LinearSVC())])</pre></div></div></div><div class=\"sk-serial\"><div class=\"sk-item\"><div class=\"sk-serial\"><div class=\"sk-item\"><div class=\"sk-estimator sk-toggleable\"><input class=\"sk-toggleable__control sk-hidden--visually\" id=\"sk-estimator-id-8\" type=\"checkbox\" ><label for=\"sk-estimator-id-8\" class=\"sk-toggleable__label sk-toggleable__label-arrow\">LinearSVC</label><div class=\"sk-toggleable__content\"><pre>LinearSVC()</pre></div></div></div></div></div></div></div></div></div></div></div></div>"
      ],
      "text/plain": [
       "RandomizedSearchCV(cv=5, estimator=Pipeline(steps=[('linearsvc', LinearSVC())]),\n",
       "                   n_iter=5, n_jobs=-1,\n",
       "                   param_distributions={'linearsvc__C': [0.01, 0.1, 1, 10],\n",
       "                                        'linearsvc__dual': [False, True],\n",
       "                                        'linearsvc__fit_intercept': [True,\n",
       "                                                                     False],\n",
       "                                        'linearsvc__loss': ['hinge',\n",
       "                                                            'squared_hinge'],\n",
       "                                        'linearsvc__max_iter': [1500, 2500,\n",
       "                                                                3000],\n",
       "                                        'linearsvc__multi_class': ['ovr',\n",
       "                                                                   'crammer_singer']},\n",
       "                   random_state=42, scoring='accuracy')"
      ]
     },
     "execution_count": 87,
     "metadata": {},
     "output_type": "execute_result"
    }
   ],
   "source": [
    "# Perform Randomized Search Cross-Validation for SVC\n",
    "randomized_search_svc = RandomizedSearchCV(pipeline_svc, param_grid_svc, cv=5, scoring='accuracy', n_jobs=-1, n_iter=5, random_state=42)\n",
    "randomized_search_svc.fit(X_train_vectorized, y_train)"
   ]
  },
  {
   "cell_type": "code",
   "execution_count": 88,
   "id": "023069c4",
   "metadata": {
    "execution": {
     "iopub.execute_input": "2023-08-13T13:16:52.948732Z",
     "iopub.status.busy": "2023-08-13T13:16:52.948296Z",
     "iopub.status.idle": "2023-08-13T13:16:52.955594Z",
     "shell.execute_reply": "2023-08-13T13:16:52.953528Z"
    },
    "papermill": {
     "duration": 0.039996,
     "end_time": "2023-08-13T13:16:52.957845",
     "exception": false,
     "start_time": "2023-08-13T13:16:52.917849",
     "status": "completed"
    },
    "tags": []
   },
   "outputs": [
    {
     "name": "stdout",
     "output_type": "stream",
     "text": [
      "Best Hyperparameters for LinearSVC: {'linearsvc__multi_class': 'crammer_singer', 'linearsvc__max_iter': 3000, 'linearsvc__loss': 'squared_hinge', 'linearsvc__fit_intercept': False, 'linearsvc__dual': True, 'linearsvc__C': 1}\n",
      "Best Score for LinearSVC: 0.8577093452218503\n"
     ]
    }
   ],
   "source": [
    "# Get the best hyperparameters and the best score\n",
    "best_params_svc = randomized_search_svc.best_params_\n",
    "best_score_svc = randomized_search_svc.best_score_\n",
    "print(\"Best Hyperparameters for LinearSVC:\", best_params_svc)\n",
    "print(\"Best Score for LinearSVC:\", best_score_svc)"
   ]
  },
  {
   "cell_type": "code",
   "execution_count": 89,
   "id": "fc457941",
   "metadata": {
    "execution": {
     "iopub.execute_input": "2023-08-13T13:16:53.017506Z",
     "iopub.status.busy": "2023-08-13T13:16:53.017103Z",
     "iopub.status.idle": "2023-08-13T13:17:28.178379Z",
     "shell.execute_reply": "2023-08-13T13:17:28.177279Z"
    },
    "papermill": {
     "duration": 35.223662,
     "end_time": "2023-08-13T13:17:28.210754",
     "exception": false,
     "start_time": "2023-08-13T13:16:52.987092",
     "status": "completed"
    },
    "tags": []
   },
   "outputs": [
    {
     "data": {
      "text/html": [
       "<style>#sk-container-id-4 {color: black;background-color: white;}#sk-container-id-4 pre{padding: 0;}#sk-container-id-4 div.sk-toggleable {background-color: white;}#sk-container-id-4 label.sk-toggleable__label {cursor: pointer;display: block;width: 100%;margin-bottom: 0;padding: 0.3em;box-sizing: border-box;text-align: center;}#sk-container-id-4 label.sk-toggleable__label-arrow:before {content: \"▸\";float: left;margin-right: 0.25em;color: #696969;}#sk-container-id-4 label.sk-toggleable__label-arrow:hover:before {color: black;}#sk-container-id-4 div.sk-estimator:hover label.sk-toggleable__label-arrow:before {color: black;}#sk-container-id-4 div.sk-toggleable__content {max-height: 0;max-width: 0;overflow: hidden;text-align: left;background-color: #f0f8ff;}#sk-container-id-4 div.sk-toggleable__content pre {margin: 0.2em;color: black;border-radius: 0.25em;background-color: #f0f8ff;}#sk-container-id-4 input.sk-toggleable__control:checked~div.sk-toggleable__content {max-height: 200px;max-width: 100%;overflow: auto;}#sk-container-id-4 input.sk-toggleable__control:checked~label.sk-toggleable__label-arrow:before {content: \"▾\";}#sk-container-id-4 div.sk-estimator input.sk-toggleable__control:checked~label.sk-toggleable__label {background-color: #d4ebff;}#sk-container-id-4 div.sk-label input.sk-toggleable__control:checked~label.sk-toggleable__label {background-color: #d4ebff;}#sk-container-id-4 input.sk-hidden--visually {border: 0;clip: rect(1px 1px 1px 1px);clip: rect(1px, 1px, 1px, 1px);height: 1px;margin: -1px;overflow: hidden;padding: 0;position: absolute;width: 1px;}#sk-container-id-4 div.sk-estimator {font-family: monospace;background-color: #f0f8ff;border: 1px dotted black;border-radius: 0.25em;box-sizing: border-box;margin-bottom: 0.5em;}#sk-container-id-4 div.sk-estimator:hover {background-color: #d4ebff;}#sk-container-id-4 div.sk-parallel-item::after {content: \"\";width: 100%;border-bottom: 1px solid gray;flex-grow: 1;}#sk-container-id-4 div.sk-label:hover label.sk-toggleable__label {background-color: #d4ebff;}#sk-container-id-4 div.sk-serial::before {content: \"\";position: absolute;border-left: 1px solid gray;box-sizing: border-box;top: 0;bottom: 0;left: 50%;z-index: 0;}#sk-container-id-4 div.sk-serial {display: flex;flex-direction: column;align-items: center;background-color: white;padding-right: 0.2em;padding-left: 0.2em;position: relative;}#sk-container-id-4 div.sk-item {position: relative;z-index: 1;}#sk-container-id-4 div.sk-parallel {display: flex;align-items: stretch;justify-content: center;background-color: white;position: relative;}#sk-container-id-4 div.sk-item::before, #sk-container-id-4 div.sk-parallel-item::before {content: \"\";position: absolute;border-left: 1px solid gray;box-sizing: border-box;top: 0;bottom: 0;left: 50%;z-index: -1;}#sk-container-id-4 div.sk-parallel-item {display: flex;flex-direction: column;z-index: 1;position: relative;background-color: white;}#sk-container-id-4 div.sk-parallel-item:first-child::after {align-self: flex-end;width: 50%;}#sk-container-id-4 div.sk-parallel-item:last-child::after {align-self: flex-start;width: 50%;}#sk-container-id-4 div.sk-parallel-item:only-child::after {width: 0;}#sk-container-id-4 div.sk-dashed-wrapped {border: 1px dashed gray;margin: 0 0.4em 0.5em 0.4em;box-sizing: border-box;padding-bottom: 0.4em;background-color: white;}#sk-container-id-4 div.sk-label label {font-family: monospace;font-weight: bold;display: inline-block;line-height: 1.2em;}#sk-container-id-4 div.sk-label-container {text-align: center;}#sk-container-id-4 div.sk-container {/* jupyter's `normalize.less` sets `[hidden] { display: none; }` but bootstrap.min.css set `[hidden] { display: none !important; }` so we also need the `!important` here to be able to override the default hidden behavior on the sphinx rendered scikit-learn.org. See: https://github.com/scikit-learn/scikit-learn/issues/21755 */display: inline-block !important;position: relative;}#sk-container-id-4 div.sk-text-repr-fallback {display: none;}</style><div id=\"sk-container-id-4\" class=\"sk-top-container\"><div class=\"sk-text-repr-fallback\"><pre>Pipeline(steps=[(&#x27;linearsvc&#x27;,\n",
       "                 LinearSVC(C=1, fit_intercept=False, max_iter=3000,\n",
       "                           multi_class=&#x27;crammer_singer&#x27;))])</pre><b>In a Jupyter environment, please rerun this cell to show the HTML representation or trust the notebook. <br />On GitHub, the HTML representation is unable to render, please try loading this page with nbviewer.org.</b></div><div class=\"sk-container\" hidden><div class=\"sk-item sk-dashed-wrapped\"><div class=\"sk-label-container\"><div class=\"sk-label sk-toggleable\"><input class=\"sk-toggleable__control sk-hidden--visually\" id=\"sk-estimator-id-9\" type=\"checkbox\" ><label for=\"sk-estimator-id-9\" class=\"sk-toggleable__label sk-toggleable__label-arrow\">Pipeline</label><div class=\"sk-toggleable__content\"><pre>Pipeline(steps=[(&#x27;linearsvc&#x27;,\n",
       "                 LinearSVC(C=1, fit_intercept=False, max_iter=3000,\n",
       "                           multi_class=&#x27;crammer_singer&#x27;))])</pre></div></div></div><div class=\"sk-serial\"><div class=\"sk-item\"><div class=\"sk-estimator sk-toggleable\"><input class=\"sk-toggleable__control sk-hidden--visually\" id=\"sk-estimator-id-10\" type=\"checkbox\" ><label for=\"sk-estimator-id-10\" class=\"sk-toggleable__label sk-toggleable__label-arrow\">LinearSVC</label><div class=\"sk-toggleable__content\"><pre>LinearSVC(C=1, fit_intercept=False, max_iter=3000, multi_class=&#x27;crammer_singer&#x27;)</pre></div></div></div></div></div></div></div>"
      ],
      "text/plain": [
       "Pipeline(steps=[('linearsvc',\n",
       "                 LinearSVC(C=1, fit_intercept=False, max_iter=3000,\n",
       "                           multi_class='crammer_singer'))])"
      ]
     },
     "execution_count": 89,
     "metadata": {},
     "output_type": "execute_result"
    }
   ],
   "source": [
    "# Fit the LinearSVC model with best hyperparameters on the full training data\n",
    "best_svc_model = randomized_search_svc.best_estimator_\n",
    "best_svc_model.fit(X_train_vectorized, y_train)"
   ]
  },
  {
   "cell_type": "code",
   "execution_count": 90,
   "id": "678c091e",
   "metadata": {
    "execution": {
     "iopub.execute_input": "2023-08-13T13:17:28.275051Z",
     "iopub.status.busy": "2023-08-13T13:17:28.274606Z",
     "iopub.status.idle": "2023-08-13T13:17:28.297145Z",
     "shell.execute_reply": "2023-08-13T13:17:28.295928Z"
    },
    "papermill": {
     "duration": 0.058119,
     "end_time": "2023-08-13T13:17:28.300255",
     "exception": false,
     "start_time": "2023-08-13T13:17:28.242136",
     "status": "completed"
    },
    "tags": []
   },
   "outputs": [],
   "source": [
    "# Predict on the training and testing data\n",
    "y_train_pred_svc = best_svc_model.predict(X_train_vectorized)\n",
    "y_test_pred_svc = best_svc_model.predict(X_test_vectorized)"
   ]
  },
  {
   "cell_type": "code",
   "execution_count": 91,
   "id": "784486f5",
   "metadata": {
    "execution": {
     "iopub.execute_input": "2023-08-13T13:17:28.363790Z",
     "iopub.status.busy": "2023-08-13T13:17:28.363291Z",
     "iopub.status.idle": "2023-08-13T13:17:28.970291Z",
     "shell.execute_reply": "2023-08-13T13:17:28.969320Z"
    },
    "papermill": {
     "duration": 0.642125,
     "end_time": "2023-08-13T13:17:28.972452",
     "exception": false,
     "start_time": "2023-08-13T13:17:28.330327",
     "status": "completed"
    },
    "tags": []
   },
   "outputs": [
    {
     "name": "stdout",
     "output_type": "stream",
     "text": [
      "Train Accuracy for LinearSVC: 0.9074449130013028\n",
      "Test Accuracy for LinearSVC: 0.8659977920644197\n"
     ]
    }
   ],
   "source": [
    "# Evaluate the model\n",
    "train_accuracy_svc = accuracy_score(y_train, y_train_pred_svc)\n",
    "test_accuracy_svc = accuracy_score(y_test, y_test_pred_svc)\n",
    "\n",
    "print(\"Train Accuracy for LinearSVC:\", train_accuracy_svc)\n",
    "print(\"Test Accuracy for LinearSVC:\", test_accuracy_svc)"
   ]
  },
  {
   "cell_type": "code",
   "execution_count": 92,
   "id": "80107867",
   "metadata": {
    "execution": {
     "iopub.execute_input": "2023-08-13T13:17:29.033817Z",
     "iopub.status.busy": "2023-08-13T13:17:29.033447Z",
     "iopub.status.idle": "2023-08-13T13:17:29.833764Z",
     "shell.execute_reply": "2023-08-13T13:17:29.832694Z"
    },
    "papermill": {
     "duration": 0.832976,
     "end_time": "2023-08-13T13:17:29.835561",
     "exception": false,
     "start_time": "2023-08-13T13:17:29.002585",
     "status": "completed"
    },
    "tags": []
   },
   "outputs": [
    {
     "name": "stdout",
     "output_type": "stream",
     "text": [
      "Hinge Loss: 0.2092890867220194\n"
     ]
    }
   ],
   "source": [
    "#calculating hing-loss for training \n",
    "from sklearn.metrics import hinge_loss\n",
    "\n",
    "# Get the best LinearSVC model from the randomized search\n",
    "best_svc_model = randomized_search_svc.best_estimator_.named_steps['linearsvc']\n",
    "\n",
    "# Predict the decision function scores for the training data\n",
    "decision_scores = best_svc_model.decision_function(X_train_vectorized)\n",
    "\n",
    "# Calculate the hinge loss\n",
    "loss = hinge_loss(y_train, decision_scores)\n",
    "\n",
    "print(\"Hinge Loss:\", loss)"
   ]
  },
  {
   "cell_type": "code",
   "execution_count": 93,
   "id": "fbaee186",
   "metadata": {
    "execution": {
     "iopub.execute_input": "2023-08-13T13:17:29.898156Z",
     "iopub.status.busy": "2023-08-13T13:17:29.897800Z",
     "iopub.status.idle": "2023-08-13T13:17:30.090403Z",
     "shell.execute_reply": "2023-08-13T13:17:30.089080Z"
    },
    "papermill": {
     "duration": 0.226818,
     "end_time": "2023-08-13T13:17:30.092848",
     "exception": false,
     "start_time": "2023-08-13T13:17:29.866030",
     "status": "completed"
    },
    "tags": []
   },
   "outputs": [
    {
     "name": "stdout",
     "output_type": "stream",
     "text": [
      "Hinge Loss on Test Data: 0.30503006605575844\n"
     ]
    }
   ],
   "source": [
    "# Predict the decision function scores for the test data\n",
    "test_decision_scores = best_svc_model.decision_function(X_test_vectorized)\n",
    "\n",
    "# Calculate the hinge loss for the test data\n",
    "test_loss = hinge_loss(y_test, test_decision_scores)\n",
    "\n",
    "print(\"Hinge Loss on Test Data:\", test_loss)"
   ]
  },
  {
   "cell_type": "code",
   "execution_count": 94,
   "id": "3ec2fc58",
   "metadata": {
    "execution": {
     "iopub.execute_input": "2023-08-13T13:17:30.158496Z",
     "iopub.status.busy": "2023-08-13T13:17:30.158102Z",
     "iopub.status.idle": "2023-08-13T13:17:31.694975Z",
     "shell.execute_reply": "2023-08-13T13:17:31.693568Z"
    },
    "papermill": {
     "duration": 1.573042,
     "end_time": "2023-08-13T13:17:31.697394",
     "exception": false,
     "start_time": "2023-08-13T13:17:30.124352",
     "status": "completed"
    },
    "tags": []
   },
   "outputs": [],
   "source": [
    "# Apply text preprocessing to the test data\n",
    "test_reviews = test['reviewText'].apply(preprocess_text)\n",
    "\n",
    "# Transform the preprocessed test data using the TfidfVectorizer\n",
    "test_reviews_vectorized = vectorizer.transform(test_reviews)\n",
    "\n",
    "# Predict on the test data using the best SVC model\n",
    "test_predictions = best_svc_model.predict(test_reviews_vectorized)"
   ]
  },
  {
   "cell_type": "code",
   "execution_count": 95,
   "id": "5d7b613d",
   "metadata": {
    "execution": {
     "iopub.execute_input": "2023-08-13T13:17:31.758748Z",
     "iopub.status.busy": "2023-08-13T13:17:31.758405Z",
     "iopub.status.idle": "2023-08-13T13:17:31.766772Z",
     "shell.execute_reply": "2023-08-13T13:17:31.765454Z"
    },
    "papermill": {
     "duration": 0.041992,
     "end_time": "2023-08-13T13:17:31.769480",
     "exception": false,
     "start_time": "2023-08-13T13:17:31.727488",
     "status": "completed"
    },
    "tags": []
   },
   "outputs": [],
   "source": [
    "# Predict on the test data using the LinearSVC model\n",
    "svc_test_predictions = best_svc_model.predict(X_test_vectorized)"
   ]
  },
  {
   "cell_type": "code",
   "execution_count": 96,
   "id": "94e47449",
   "metadata": {
    "execution": {
     "iopub.execute_input": "2023-08-13T13:17:31.831407Z",
     "iopub.status.busy": "2023-08-13T13:17:31.830473Z",
     "iopub.status.idle": "2023-08-13T13:17:31.944053Z",
     "shell.execute_reply": "2023-08-13T13:17:31.943217Z"
    },
    "papermill": {
     "duration": 0.147482,
     "end_time": "2023-08-13T13:17:31.946434",
     "exception": false,
     "start_time": "2023-08-13T13:17:31.798952",
     "status": "completed"
    },
    "tags": []
   },
   "outputs": [
    {
     "data": {
      "text/plain": [
       "0.8659977920644197"
      ]
     },
     "execution_count": 96,
     "metadata": {},
     "output_type": "execute_result"
    }
   ],
   "source": [
    "svc_test_accuracy = accuracy_score(y_test, svc_test_predictions)\n",
    "svc_test_accuracy"
   ]
  },
  {
   "cell_type": "code",
   "execution_count": 97,
   "id": "5f5517fd",
   "metadata": {
    "execution": {
     "iopub.execute_input": "2023-08-13T13:17:32.011764Z",
     "iopub.status.busy": "2023-08-13T13:17:32.010818Z",
     "iopub.status.idle": "2023-08-13T13:17:32.081212Z",
     "shell.execute_reply": "2023-08-13T13:17:32.080433Z"
    },
    "papermill": {
     "duration": 0.105581,
     "end_time": "2023-08-13T13:17:32.083517",
     "exception": false,
     "start_time": "2023-08-13T13:17:31.977936",
     "status": "completed"
    },
    "tags": []
   },
   "outputs": [],
   "source": [
    "# Create a new DataFrame with movieid and predicted sentiment for SVC\n",
    "svc_submission_df = pd.DataFrame({'id': range(len(test)), 'sentiment': test_predictions})\n",
    "\n",
    "# Save the SVC submission file\n",
    "svc_submission_df.to_csv('svc_submission.csv', index=False)"
   ]
  },
  {
   "cell_type": "code",
   "execution_count": 98,
   "id": "2a833652",
   "metadata": {
    "execution": {
     "iopub.execute_input": "2023-08-13T13:17:32.145106Z",
     "iopub.status.busy": "2023-08-13T13:17:32.144342Z",
     "iopub.status.idle": "2023-08-13T13:17:32.400440Z",
     "shell.execute_reply": "2023-08-13T13:17:32.398734Z"
    },
    "papermill": {
     "duration": 0.289999,
     "end_time": "2023-08-13T13:17:32.403254",
     "exception": false,
     "start_time": "2023-08-13T13:17:32.113255",
     "status": "completed"
    },
    "tags": []
   },
   "outputs": [],
   "source": [
    "#Random Forest classifier\n",
    "from sklearn.ensemble import RandomForestClassifier\n",
    "\n",
    "pipeline = make_pipeline(RandomForestClassifier())\n"
   ]
  },
  {
   "cell_type": "code",
   "execution_count": 99,
   "id": "da7b395f",
   "metadata": {
    "execution": {
     "iopub.execute_input": "2023-08-13T13:17:32.466024Z",
     "iopub.status.busy": "2023-08-13T13:17:32.465621Z",
     "iopub.status.idle": "2023-08-13T13:17:32.471199Z",
     "shell.execute_reply": "2023-08-13T13:17:32.470191Z"
    },
    "papermill": {
     "duration": 0.039644,
     "end_time": "2023-08-13T13:17:32.473160",
     "exception": false,
     "start_time": "2023-08-13T13:17:32.433516",
     "status": "completed"
    },
    "tags": []
   },
   "outputs": [],
   "source": [
    "param_dist = {\n",
    "    'randomforestclassifier__n_estimators': [100, 150, 200],  # Number of trees in the forest\n",
    "    'randomforestclassifier__max_depth': [5, 10, 15],  # Maximum depth of each tree\n",
    "    'randomforestclassifier__min_samples_split': [2, 5, 10],  # Minimum number of samples required to split an internal node\n",
    "    'randomforestclassifier__min_samples_leaf': [1, 2, 4],  # Minimum number of samples required to be at a leaf node\n",
    "    'randomforestclassifier__max_features': ['auto', 'sqrt', 'log2'],  # Number of features to consider at each split\n",
    "}\n"
   ]
  },
  {
   "cell_type": "code",
   "execution_count": 100,
   "id": "4ff8e347",
   "metadata": {
    "execution": {
     "iopub.execute_input": "2023-08-13T13:17:32.541356Z",
     "iopub.status.busy": "2023-08-13T13:17:32.540607Z",
     "iopub.status.idle": "2023-08-13T13:22:57.650381Z",
     "shell.execute_reply": "2023-08-13T13:22:57.648928Z"
    },
    "papermill": {
     "duration": 325.176965,
     "end_time": "2023-08-13T13:22:57.681692",
     "exception": false,
     "start_time": "2023-08-13T13:17:32.504727",
     "status": "completed"
    },
    "tags": []
   },
   "outputs": [
    {
     "name": "stderr",
     "output_type": "stream",
     "text": [
      "/opt/conda/lib/python3.10/site-packages/sklearn/ensemble/_forest.py:424: FutureWarning: `max_features='auto'` has been deprecated in 1.1 and will be removed in 1.3. To keep the past behaviour, explicitly set `max_features='sqrt'` or remove this parameter as it is also the default value for RandomForestClassifiers and ExtraTreesClassifiers.\n",
      "  warn(\n",
      "/opt/conda/lib/python3.10/site-packages/sklearn/ensemble/_forest.py:424: FutureWarning: `max_features='auto'` has been deprecated in 1.1 and will be removed in 1.3. To keep the past behaviour, explicitly set `max_features='sqrt'` or remove this parameter as it is also the default value for RandomForestClassifiers and ExtraTreesClassifiers.\n",
      "  warn(\n",
      "/opt/conda/lib/python3.10/site-packages/sklearn/ensemble/_forest.py:424: FutureWarning: `max_features='auto'` has been deprecated in 1.1 and will be removed in 1.3. To keep the past behaviour, explicitly set `max_features='sqrt'` or remove this parameter as it is also the default value for RandomForestClassifiers and ExtraTreesClassifiers.\n",
      "  warn(\n",
      "/opt/conda/lib/python3.10/site-packages/sklearn/ensemble/_forest.py:424: FutureWarning: `max_features='auto'` has been deprecated in 1.1 and will be removed in 1.3. To keep the past behaviour, explicitly set `max_features='sqrt'` or remove this parameter as it is also the default value for RandomForestClassifiers and ExtraTreesClassifiers.\n",
      "  warn(\n",
      "/opt/conda/lib/python3.10/site-packages/sklearn/ensemble/_forest.py:424: FutureWarning: `max_features='auto'` has been deprecated in 1.1 and will be removed in 1.3. To keep the past behaviour, explicitly set `max_features='sqrt'` or remove this parameter as it is also the default value for RandomForestClassifiers and ExtraTreesClassifiers.\n",
      "  warn(\n"
     ]
    },
    {
     "data": {
      "text/html": [
       "<style>#sk-container-id-5 {color: black;background-color: white;}#sk-container-id-5 pre{padding: 0;}#sk-container-id-5 div.sk-toggleable {background-color: white;}#sk-container-id-5 label.sk-toggleable__label {cursor: pointer;display: block;width: 100%;margin-bottom: 0;padding: 0.3em;box-sizing: border-box;text-align: center;}#sk-container-id-5 label.sk-toggleable__label-arrow:before {content: \"▸\";float: left;margin-right: 0.25em;color: #696969;}#sk-container-id-5 label.sk-toggleable__label-arrow:hover:before {color: black;}#sk-container-id-5 div.sk-estimator:hover label.sk-toggleable__label-arrow:before {color: black;}#sk-container-id-5 div.sk-toggleable__content {max-height: 0;max-width: 0;overflow: hidden;text-align: left;background-color: #f0f8ff;}#sk-container-id-5 div.sk-toggleable__content pre {margin: 0.2em;color: black;border-radius: 0.25em;background-color: #f0f8ff;}#sk-container-id-5 input.sk-toggleable__control:checked~div.sk-toggleable__content {max-height: 200px;max-width: 100%;overflow: auto;}#sk-container-id-5 input.sk-toggleable__control:checked~label.sk-toggleable__label-arrow:before {content: \"▾\";}#sk-container-id-5 div.sk-estimator input.sk-toggleable__control:checked~label.sk-toggleable__label {background-color: #d4ebff;}#sk-container-id-5 div.sk-label input.sk-toggleable__control:checked~label.sk-toggleable__label {background-color: #d4ebff;}#sk-container-id-5 input.sk-hidden--visually {border: 0;clip: rect(1px 1px 1px 1px);clip: rect(1px, 1px, 1px, 1px);height: 1px;margin: -1px;overflow: hidden;padding: 0;position: absolute;width: 1px;}#sk-container-id-5 div.sk-estimator {font-family: monospace;background-color: #f0f8ff;border: 1px dotted black;border-radius: 0.25em;box-sizing: border-box;margin-bottom: 0.5em;}#sk-container-id-5 div.sk-estimator:hover {background-color: #d4ebff;}#sk-container-id-5 div.sk-parallel-item::after {content: \"\";width: 100%;border-bottom: 1px solid gray;flex-grow: 1;}#sk-container-id-5 div.sk-label:hover label.sk-toggleable__label {background-color: #d4ebff;}#sk-container-id-5 div.sk-serial::before {content: \"\";position: absolute;border-left: 1px solid gray;box-sizing: border-box;top: 0;bottom: 0;left: 50%;z-index: 0;}#sk-container-id-5 div.sk-serial {display: flex;flex-direction: column;align-items: center;background-color: white;padding-right: 0.2em;padding-left: 0.2em;position: relative;}#sk-container-id-5 div.sk-item {position: relative;z-index: 1;}#sk-container-id-5 div.sk-parallel {display: flex;align-items: stretch;justify-content: center;background-color: white;position: relative;}#sk-container-id-5 div.sk-item::before, #sk-container-id-5 div.sk-parallel-item::before {content: \"\";position: absolute;border-left: 1px solid gray;box-sizing: border-box;top: 0;bottom: 0;left: 50%;z-index: -1;}#sk-container-id-5 div.sk-parallel-item {display: flex;flex-direction: column;z-index: 1;position: relative;background-color: white;}#sk-container-id-5 div.sk-parallel-item:first-child::after {align-self: flex-end;width: 50%;}#sk-container-id-5 div.sk-parallel-item:last-child::after {align-self: flex-start;width: 50%;}#sk-container-id-5 div.sk-parallel-item:only-child::after {width: 0;}#sk-container-id-5 div.sk-dashed-wrapped {border: 1px dashed gray;margin: 0 0.4em 0.5em 0.4em;box-sizing: border-box;padding-bottom: 0.4em;background-color: white;}#sk-container-id-5 div.sk-label label {font-family: monospace;font-weight: bold;display: inline-block;line-height: 1.2em;}#sk-container-id-5 div.sk-label-container {text-align: center;}#sk-container-id-5 div.sk-container {/* jupyter's `normalize.less` sets `[hidden] { display: none; }` but bootstrap.min.css set `[hidden] { display: none !important; }` so we also need the `!important` here to be able to override the default hidden behavior on the sphinx rendered scikit-learn.org. See: https://github.com/scikit-learn/scikit-learn/issues/21755 */display: inline-block !important;position: relative;}#sk-container-id-5 div.sk-text-repr-fallback {display: none;}</style><div id=\"sk-container-id-5\" class=\"sk-top-container\"><div class=\"sk-text-repr-fallback\"><pre>RandomizedSearchCV(cv=5,\n",
       "                   estimator=Pipeline(steps=[(&#x27;randomforestclassifier&#x27;,\n",
       "                                              RandomForestClassifier())]),\n",
       "                   n_iter=2,\n",
       "                   param_distributions={&#x27;randomforestclassifier__max_depth&#x27;: [5,\n",
       "                                                                              10,\n",
       "                                                                              15],\n",
       "                                        &#x27;randomforestclassifier__max_features&#x27;: [&#x27;auto&#x27;,\n",
       "                                                                                 &#x27;sqrt&#x27;,\n",
       "                                                                                 &#x27;log2&#x27;],\n",
       "                                        &#x27;randomforestclassifier__min_samples_leaf&#x27;: [1,\n",
       "                                                                                     2,\n",
       "                                                                                     4],\n",
       "                                        &#x27;randomforestclassifier__min_samples_split&#x27;: [2,\n",
       "                                                                                      5,\n",
       "                                                                                      10],\n",
       "                                        &#x27;randomforestclassifier__n_estimators&#x27;: [100,\n",
       "                                                                                 150,\n",
       "                                                                                 200]},\n",
       "                   random_state=75)</pre><b>In a Jupyter environment, please rerun this cell to show the HTML representation or trust the notebook. <br />On GitHub, the HTML representation is unable to render, please try loading this page with nbviewer.org.</b></div><div class=\"sk-container\" hidden><div class=\"sk-item sk-dashed-wrapped\"><div class=\"sk-label-container\"><div class=\"sk-label sk-toggleable\"><input class=\"sk-toggleable__control sk-hidden--visually\" id=\"sk-estimator-id-11\" type=\"checkbox\" ><label for=\"sk-estimator-id-11\" class=\"sk-toggleable__label sk-toggleable__label-arrow\">RandomizedSearchCV</label><div class=\"sk-toggleable__content\"><pre>RandomizedSearchCV(cv=5,\n",
       "                   estimator=Pipeline(steps=[(&#x27;randomforestclassifier&#x27;,\n",
       "                                              RandomForestClassifier())]),\n",
       "                   n_iter=2,\n",
       "                   param_distributions={&#x27;randomforestclassifier__max_depth&#x27;: [5,\n",
       "                                                                              10,\n",
       "                                                                              15],\n",
       "                                        &#x27;randomforestclassifier__max_features&#x27;: [&#x27;auto&#x27;,\n",
       "                                                                                 &#x27;sqrt&#x27;,\n",
       "                                                                                 &#x27;log2&#x27;],\n",
       "                                        &#x27;randomforestclassifier__min_samples_leaf&#x27;: [1,\n",
       "                                                                                     2,\n",
       "                                                                                     4],\n",
       "                                        &#x27;randomforestclassifier__min_samples_split&#x27;: [2,\n",
       "                                                                                      5,\n",
       "                                                                                      10],\n",
       "                                        &#x27;randomforestclassifier__n_estimators&#x27;: [100,\n",
       "                                                                                 150,\n",
       "                                                                                 200]},\n",
       "                   random_state=75)</pre></div></div></div><div class=\"sk-parallel\"><div class=\"sk-parallel-item\"><div class=\"sk-item\"><div class=\"sk-label-container\"><div class=\"sk-label sk-toggleable\"><input class=\"sk-toggleable__control sk-hidden--visually\" id=\"sk-estimator-id-12\" type=\"checkbox\" ><label for=\"sk-estimator-id-12\" class=\"sk-toggleable__label sk-toggleable__label-arrow\">estimator: Pipeline</label><div class=\"sk-toggleable__content\"><pre>Pipeline(steps=[(&#x27;randomforestclassifier&#x27;, RandomForestClassifier())])</pre></div></div></div><div class=\"sk-serial\"><div class=\"sk-item\"><div class=\"sk-serial\"><div class=\"sk-item\"><div class=\"sk-estimator sk-toggleable\"><input class=\"sk-toggleable__control sk-hidden--visually\" id=\"sk-estimator-id-13\" type=\"checkbox\" ><label for=\"sk-estimator-id-13\" class=\"sk-toggleable__label sk-toggleable__label-arrow\">RandomForestClassifier</label><div class=\"sk-toggleable__content\"><pre>RandomForestClassifier()</pre></div></div></div></div></div></div></div></div></div></div></div></div>"
      ],
      "text/plain": [
       "RandomizedSearchCV(cv=5,\n",
       "                   estimator=Pipeline(steps=[('randomforestclassifier',\n",
       "                                              RandomForestClassifier())]),\n",
       "                   n_iter=2,\n",
       "                   param_distributions={'randomforestclassifier__max_depth': [5,\n",
       "                                                                              10,\n",
       "                                                                              15],\n",
       "                                        'randomforestclassifier__max_features': ['auto',\n",
       "                                                                                 'sqrt',\n",
       "                                                                                 'log2'],\n",
       "                                        'randomforestclassifier__min_samples_leaf': [1,\n",
       "                                                                                     2,\n",
       "                                                                                     4],\n",
       "                                        'randomforestclassifier__min_samples_split': [2,\n",
       "                                                                                      5,\n",
       "                                                                                      10],\n",
       "                                        'randomforestclassifier__n_estimators': [100,\n",
       "                                                                                 150,\n",
       "                                                                                 200]},\n",
       "                   random_state=75)"
      ]
     },
     "execution_count": 100,
     "metadata": {},
     "output_type": "execute_result"
    }
   ],
   "source": [
    "# Using RandomizedSearchCV for faster hyperparameter tuning\n",
    "random_search = RandomizedSearchCV(pipeline, param_distributions=param_dist, cv=5, n_iter=2, random_state=75)\n",
    "random_search.fit(X_train_vectorized, y_train)"
   ]
  },
  {
   "cell_type": "code",
   "execution_count": 101,
   "id": "98465e90",
   "metadata": {
    "execution": {
     "iopub.execute_input": "2023-08-13T13:22:57.745347Z",
     "iopub.status.busy": "2023-08-13T13:22:57.744973Z",
     "iopub.status.idle": "2023-08-13T13:22:57.749151Z",
     "shell.execute_reply": "2023-08-13T13:22:57.748187Z"
    },
    "papermill": {
     "duration": 0.038042,
     "end_time": "2023-08-13T13:22:57.750991",
     "exception": false,
     "start_time": "2023-08-13T13:22:57.712949",
     "status": "completed"
    },
    "tags": []
   },
   "outputs": [],
   "source": [
    "# Get the best hyperparameters and the best score\n",
    "best_params_random = random_search.best_params_\n",
    "best_score_random = random_search.best_score_"
   ]
  },
  {
   "cell_type": "code",
   "execution_count": 102,
   "id": "8e7a2188",
   "metadata": {
    "execution": {
     "iopub.execute_input": "2023-08-13T13:22:57.813877Z",
     "iopub.status.busy": "2023-08-13T13:22:57.813288Z",
     "iopub.status.idle": "2023-08-13T13:23:11.223562Z",
     "shell.execute_reply": "2023-08-13T13:23:11.222137Z"
    },
    "papermill": {
     "duration": 13.444457,
     "end_time": "2023-08-13T13:23:11.225826",
     "exception": false,
     "start_time": "2023-08-13T13:22:57.781369",
     "status": "completed"
    },
    "tags": []
   },
   "outputs": [
    {
     "data": {
      "text/html": [
       "<style>#sk-container-id-6 {color: black;background-color: white;}#sk-container-id-6 pre{padding: 0;}#sk-container-id-6 div.sk-toggleable {background-color: white;}#sk-container-id-6 label.sk-toggleable__label {cursor: pointer;display: block;width: 100%;margin-bottom: 0;padding: 0.3em;box-sizing: border-box;text-align: center;}#sk-container-id-6 label.sk-toggleable__label-arrow:before {content: \"▸\";float: left;margin-right: 0.25em;color: #696969;}#sk-container-id-6 label.sk-toggleable__label-arrow:hover:before {color: black;}#sk-container-id-6 div.sk-estimator:hover label.sk-toggleable__label-arrow:before {color: black;}#sk-container-id-6 div.sk-toggleable__content {max-height: 0;max-width: 0;overflow: hidden;text-align: left;background-color: #f0f8ff;}#sk-container-id-6 div.sk-toggleable__content pre {margin: 0.2em;color: black;border-radius: 0.25em;background-color: #f0f8ff;}#sk-container-id-6 input.sk-toggleable__control:checked~div.sk-toggleable__content {max-height: 200px;max-width: 100%;overflow: auto;}#sk-container-id-6 input.sk-toggleable__control:checked~label.sk-toggleable__label-arrow:before {content: \"▾\";}#sk-container-id-6 div.sk-estimator input.sk-toggleable__control:checked~label.sk-toggleable__label {background-color: #d4ebff;}#sk-container-id-6 div.sk-label input.sk-toggleable__control:checked~label.sk-toggleable__label {background-color: #d4ebff;}#sk-container-id-6 input.sk-hidden--visually {border: 0;clip: rect(1px 1px 1px 1px);clip: rect(1px, 1px, 1px, 1px);height: 1px;margin: -1px;overflow: hidden;padding: 0;position: absolute;width: 1px;}#sk-container-id-6 div.sk-estimator {font-family: monospace;background-color: #f0f8ff;border: 1px dotted black;border-radius: 0.25em;box-sizing: border-box;margin-bottom: 0.5em;}#sk-container-id-6 div.sk-estimator:hover {background-color: #d4ebff;}#sk-container-id-6 div.sk-parallel-item::after {content: \"\";width: 100%;border-bottom: 1px solid gray;flex-grow: 1;}#sk-container-id-6 div.sk-label:hover label.sk-toggleable__label {background-color: #d4ebff;}#sk-container-id-6 div.sk-serial::before {content: \"\";position: absolute;border-left: 1px solid gray;box-sizing: border-box;top: 0;bottom: 0;left: 50%;z-index: 0;}#sk-container-id-6 div.sk-serial {display: flex;flex-direction: column;align-items: center;background-color: white;padding-right: 0.2em;padding-left: 0.2em;position: relative;}#sk-container-id-6 div.sk-item {position: relative;z-index: 1;}#sk-container-id-6 div.sk-parallel {display: flex;align-items: stretch;justify-content: center;background-color: white;position: relative;}#sk-container-id-6 div.sk-item::before, #sk-container-id-6 div.sk-parallel-item::before {content: \"\";position: absolute;border-left: 1px solid gray;box-sizing: border-box;top: 0;bottom: 0;left: 50%;z-index: -1;}#sk-container-id-6 div.sk-parallel-item {display: flex;flex-direction: column;z-index: 1;position: relative;background-color: white;}#sk-container-id-6 div.sk-parallel-item:first-child::after {align-self: flex-end;width: 50%;}#sk-container-id-6 div.sk-parallel-item:last-child::after {align-self: flex-start;width: 50%;}#sk-container-id-6 div.sk-parallel-item:only-child::after {width: 0;}#sk-container-id-6 div.sk-dashed-wrapped {border: 1px dashed gray;margin: 0 0.4em 0.5em 0.4em;box-sizing: border-box;padding-bottom: 0.4em;background-color: white;}#sk-container-id-6 div.sk-label label {font-family: monospace;font-weight: bold;display: inline-block;line-height: 1.2em;}#sk-container-id-6 div.sk-label-container {text-align: center;}#sk-container-id-6 div.sk-container {/* jupyter's `normalize.less` sets `[hidden] { display: none; }` but bootstrap.min.css set `[hidden] { display: none !important; }` so we also need the `!important` here to be able to override the default hidden behavior on the sphinx rendered scikit-learn.org. See: https://github.com/scikit-learn/scikit-learn/issues/21755 */display: inline-block !important;position: relative;}#sk-container-id-6 div.sk-text-repr-fallback {display: none;}</style><div id=\"sk-container-id-6\" class=\"sk-top-container\"><div class=\"sk-text-repr-fallback\"><pre>Pipeline(steps=[(&#x27;randomforestclassifier&#x27;,\n",
       "                 RandomForestClassifier(max_depth=10, min_samples_split=5,\n",
       "                                        n_estimators=150))])</pre><b>In a Jupyter environment, please rerun this cell to show the HTML representation or trust the notebook. <br />On GitHub, the HTML representation is unable to render, please try loading this page with nbviewer.org.</b></div><div class=\"sk-container\" hidden><div class=\"sk-item sk-dashed-wrapped\"><div class=\"sk-label-container\"><div class=\"sk-label sk-toggleable\"><input class=\"sk-toggleable__control sk-hidden--visually\" id=\"sk-estimator-id-14\" type=\"checkbox\" ><label for=\"sk-estimator-id-14\" class=\"sk-toggleable__label sk-toggleable__label-arrow\">Pipeline</label><div class=\"sk-toggleable__content\"><pre>Pipeline(steps=[(&#x27;randomforestclassifier&#x27;,\n",
       "                 RandomForestClassifier(max_depth=10, min_samples_split=5,\n",
       "                                        n_estimators=150))])</pre></div></div></div><div class=\"sk-serial\"><div class=\"sk-item\"><div class=\"sk-estimator sk-toggleable\"><input class=\"sk-toggleable__control sk-hidden--visually\" id=\"sk-estimator-id-15\" type=\"checkbox\" ><label for=\"sk-estimator-id-15\" class=\"sk-toggleable__label sk-toggleable__label-arrow\">RandomForestClassifier</label><div class=\"sk-toggleable__content\"><pre>RandomForestClassifier(max_depth=10, min_samples_split=5, n_estimators=150)</pre></div></div></div></div></div></div></div>"
      ],
      "text/plain": [
       "Pipeline(steps=[('randomforestclassifier',\n",
       "                 RandomForestClassifier(max_depth=10, min_samples_split=5,\n",
       "                                        n_estimators=150))])"
      ]
     },
     "execution_count": 102,
     "metadata": {},
     "output_type": "execute_result"
    }
   ],
   "source": [
    "# Fit the random forest model with best hyperparameters on the full training data\n",
    "random_best_model = random_search.best_estimator_\n",
    "random_best_model.fit(X_train_vectorized, y_train)"
   ]
  },
  {
   "cell_type": "code",
   "execution_count": 103,
   "id": "6834d18c",
   "metadata": {
    "execution": {
     "iopub.execute_input": "2023-08-13T13:23:11.287861Z",
     "iopub.status.busy": "2023-08-13T13:23:11.287233Z",
     "iopub.status.idle": "2023-08-13T13:23:17.108797Z",
     "shell.execute_reply": "2023-08-13T13:23:17.107539Z"
    },
    "papermill": {
     "duration": 5.855202,
     "end_time": "2023-08-13T13:23:17.111202",
     "exception": false,
     "start_time": "2023-08-13T13:23:11.256000",
     "status": "completed"
    },
    "tags": []
   },
   "outputs": [],
   "source": [
    "# Predict on the training and testing data\n",
    "y_train_pred = random_best_model.predict(X_train_vectorized)\n",
    "y_test_pred = random_best_model.predict(X_test_vectorized)"
   ]
  },
  {
   "cell_type": "code",
   "execution_count": 104,
   "id": "6575cefe",
   "metadata": {
    "execution": {
     "iopub.execute_input": "2023-08-13T13:23:17.174013Z",
     "iopub.status.busy": "2023-08-13T13:23:17.173611Z",
     "iopub.status.idle": "2023-08-13T13:23:23.663499Z",
     "shell.execute_reply": "2023-08-13T13:23:23.662358Z"
    },
    "papermill": {
     "duration": 6.524538,
     "end_time": "2023-08-13T13:23:23.666141",
     "exception": false,
     "start_time": "2023-08-13T13:23:17.141603",
     "status": "completed"
    },
    "tags": []
   },
   "outputs": [],
   "source": [
    "# Evaluation Metrics\n",
    "# Calculate log loss for training and testing data\n",
    "y_train_prob = random_best_model.predict_proba(X_train_vectorized)\n",
    "y_test_prob = random_best_model.predict_proba(X_test_vectorized)\n",
    "train_log_loss = log_loss(y_train, y_train_prob)\n",
    "test_log_loss = log_loss(y_test, y_test_prob)"
   ]
  },
  {
   "cell_type": "code",
   "execution_count": 105,
   "id": "c0580527",
   "metadata": {
    "execution": {
     "iopub.execute_input": "2023-08-13T13:23:23.733135Z",
     "iopub.status.busy": "2023-08-13T13:23:23.732781Z",
     "iopub.status.idle": "2023-08-13T13:23:24.307721Z",
     "shell.execute_reply": "2023-08-13T13:23:24.306273Z"
    },
    "papermill": {
     "duration": 0.61208,
     "end_time": "2023-08-13T13:23:24.310053",
     "exception": false,
     "start_time": "2023-08-13T13:23:23.697973",
     "status": "completed"
    },
    "tags": []
   },
   "outputs": [],
   "source": [
    "# Calculate accuracy\n",
    "train_accuracy = accuracy_score(y_train, y_train_pred)\n",
    "test_accuracy = accuracy_score(y_test, y_test_pred)"
   ]
  },
  {
   "cell_type": "code",
   "execution_count": 106,
   "id": "fb8169de",
   "metadata": {
    "execution": {
     "iopub.execute_input": "2023-08-13T13:23:24.376342Z",
     "iopub.status.busy": "2023-08-13T13:23:24.375983Z",
     "iopub.status.idle": "2023-08-13T13:23:24.380999Z",
     "shell.execute_reply": "2023-08-13T13:23:24.379541Z"
    },
    "papermill": {
     "duration": 0.040287,
     "end_time": "2023-08-13T13:23:24.383178",
     "exception": false,
     "start_time": "2023-08-13T13:23:24.342891",
     "status": "completed"
    },
    "tags": []
   },
   "outputs": [],
   "source": [
    "# Append metrics to lists for each fold\n",
    "train_log_losses.append(train_log_loss)\n",
    "test_log_losses.append(test_log_loss)\n",
    "accuracies.append(test_accuracy)"
   ]
  },
  {
   "cell_type": "code",
   "execution_count": 107,
   "id": "83fdc109",
   "metadata": {
    "execution": {
     "iopub.execute_input": "2023-08-13T13:23:24.444525Z",
     "iopub.status.busy": "2023-08-13T13:23:24.444146Z",
     "iopub.status.idle": "2023-08-13T13:23:24.448587Z",
     "shell.execute_reply": "2023-08-13T13:23:24.447668Z"
    },
    "papermill": {
     "duration": 0.037569,
     "end_time": "2023-08-13T13:23:24.450274",
     "exception": false,
     "start_time": "2023-08-13T13:23:24.412705",
     "status": "completed"
    },
    "tags": []
   },
   "outputs": [],
   "source": [
    "# Average evaluation metrics over the 5 folds\n",
    "avg_train_log_loss = np.mean(train_log_losses)\n",
    "avg_test_log_loss = np.mean(test_log_losses)\n",
    "avg_accuracy = np.mean(accuracies)"
   ]
  },
  {
   "cell_type": "code",
   "execution_count": 108,
   "id": "450a475f",
   "metadata": {
    "execution": {
     "iopub.execute_input": "2023-08-13T13:23:24.513871Z",
     "iopub.status.busy": "2023-08-13T13:23:24.513502Z",
     "iopub.status.idle": "2023-08-13T13:23:24.518248Z",
     "shell.execute_reply": "2023-08-13T13:23:24.517115Z"
    },
    "papermill": {
     "duration": 0.039766,
     "end_time": "2023-08-13T13:23:24.520608",
     "exception": false,
     "start_time": "2023-08-13T13:23:24.480842",
     "status": "completed"
    },
    "tags": []
   },
   "outputs": [
    {
     "name": "stdout",
     "output_type": "stream",
     "text": [
      "Average Train Log Loss: 0.6245150993187287\n",
      "Average Test Log Loss: 0.6250721208000095\n",
      "Average Accuracy: 0.6641177998571336\n"
     ]
    }
   ],
   "source": [
    "print(\"Average Train Log Loss:\", avg_train_log_loss)\n",
    "print(\"Average Test Log Loss:\", avg_test_log_loss)\n",
    "print(\"Average Accuracy:\", avg_accuracy)"
   ]
  },
  {
   "cell_type": "code",
   "execution_count": 109,
   "id": "f556ed0c",
   "metadata": {
    "execution": {
     "iopub.execute_input": "2023-08-13T13:23:24.581326Z",
     "iopub.status.busy": "2023-08-13T13:23:24.581010Z",
     "iopub.status.idle": "2023-08-13T13:23:27.143155Z",
     "shell.execute_reply": "2023-08-13T13:23:27.142235Z"
    },
    "papermill": {
     "duration": 2.59498,
     "end_time": "2023-08-13T13:23:27.145549",
     "exception": false,
     "start_time": "2023-08-13T13:23:24.550569",
     "status": "completed"
    },
    "tags": []
   },
   "outputs": [],
   "source": [
    "# Predict on the test data\n",
    "test_reviews = test['reviewText'].apply(preprocess_text)\n",
    "test_reviews_vectorized = vectorizer.transform(test_reviews)\n",
    "test_predictions = random_best_model.predict(test_reviews_vectorized)"
   ]
  },
  {
   "cell_type": "code",
   "execution_count": 110,
   "id": "881184b4",
   "metadata": {
    "execution": {
     "iopub.execute_input": "2023-08-13T13:23:27.208117Z",
     "iopub.status.busy": "2023-08-13T13:23:27.207717Z",
     "iopub.status.idle": "2023-08-13T13:23:28.386149Z",
     "shell.execute_reply": "2023-08-13T13:23:28.384799Z"
    },
    "papermill": {
     "duration": 1.212516,
     "end_time": "2023-08-13T13:23:28.388465",
     "exception": false,
     "start_time": "2023-08-13T13:23:27.175949",
     "status": "completed"
    },
    "tags": []
   },
   "outputs": [],
   "source": [
    "# Predict on the test data using the logistic regression model\n",
    "random_test_predictions = random_best_model.predict(X_test_vectorized)"
   ]
  },
  {
   "cell_type": "code",
   "execution_count": 111,
   "id": "cf305deb",
   "metadata": {
    "execution": {
     "iopub.execute_input": "2023-08-13T13:23:28.452118Z",
     "iopub.status.busy": "2023-08-13T13:23:28.451691Z",
     "iopub.status.idle": "2023-08-13T13:23:28.561587Z",
     "shell.execute_reply": "2023-08-13T13:23:28.560463Z"
    },
    "papermill": {
     "duration": 0.144884,
     "end_time": "2023-08-13T13:23:28.563880",
     "exception": false,
     "start_time": "2023-08-13T13:23:28.418996",
     "status": "completed"
    },
    "tags": []
   },
   "outputs": [
    {
     "data": {
      "text/plain": [
       "0.6641177998571336"
      ]
     },
     "execution_count": 111,
     "metadata": {},
     "output_type": "execute_result"
    }
   ],
   "source": [
    "random_test_accuracy = accuracy_score(y_test, random_test_predictions)\n",
    "random_test_accuracy"
   ]
  },
  {
   "cell_type": "code",
   "execution_count": 112,
   "id": "cda9ae42",
   "metadata": {
    "execution": {
     "iopub.execute_input": "2023-08-13T13:23:28.625296Z",
     "iopub.status.busy": "2023-08-13T13:23:28.624979Z",
     "iopub.status.idle": "2023-08-13T13:23:28.694175Z",
     "shell.execute_reply": "2023-08-13T13:23:28.692757Z"
    },
    "papermill": {
     "duration": 0.103215,
     "end_time": "2023-08-13T13:23:28.696488",
     "exception": false,
     "start_time": "2023-08-13T13:23:28.593273",
     "status": "completed"
    },
    "tags": []
   },
   "outputs": [],
   "source": [
    "# Create a submission DataFrame\n",
    "submission_df_rf = pd.DataFrame({'id': range(len(test)), 'sentiment': test_predictions})\n",
    "# Save the submission to a CSV file\n",
    "submission_df_rf.to_csv('submission_rf.csv', index=False)"
   ]
  }
 ],
 "metadata": {
  "kernelspec": {
   "display_name": "Python 3",
   "language": "python",
   "name": "python3"
  },
  "language_info": {
   "codemirror_mode": {
    "name": "ipython",
    "version": 3
   },
   "file_extension": ".py",
   "mimetype": "text/x-python",
   "name": "python",
   "nbconvert_exporter": "python",
   "pygments_lexer": "ipython3",
   "version": "3.10.10"
  },
  "papermill": {
   "default_parameters": {},
   "duration": 739.516038,
   "end_time": "2023-08-13T13:23:31.348953",
   "environment_variables": {},
   "exception": null,
   "input_path": "__notebook__.ipynb",
   "output_path": "__notebook__.ipynb",
   "parameters": {},
   "start_time": "2023-08-13T13:11:11.832915",
   "version": "2.4.0"
  }
 },
 "nbformat": 4,
 "nbformat_minor": 5
}
